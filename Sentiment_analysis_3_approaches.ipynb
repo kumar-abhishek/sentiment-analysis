{
  "nbformat": 4,
  "nbformat_minor": 0,
  "metadata": {
    "colab": {
      "name": "Sentiment analysis: 3 approaches",
      "provenance": [],
      "collapsed_sections": [],
      "authorship_tag": "ABX9TyP9aG0ZM3mfNfesTIXPK8ki",
      "include_colab_link": true
    },
    "kernelspec": {
      "name": "python3",
      "display_name": "Python 3"
    },
    "language_info": {
      "name": "python"
    },
    "accelerator": "GPU",
    "widgets": {
      "application/vnd.jupyter.widget-state+json": {
        "c9c34324a6084843b4d5feaac5c84a81": {
          "model_module": "@jupyter-widgets/controls",
          "model_name": "HBoxModel",
          "state": {
            "_view_name": "HBoxView",
            "_dom_classes": [],
            "_model_name": "HBoxModel",
            "_view_module": "@jupyter-widgets/controls",
            "_model_module_version": "1.5.0",
            "_view_count": null,
            "_view_module_version": "1.5.0",
            "box_style": "",
            "layout": "IPY_MODEL_bd0cba7a82a345fa854184d225fbd935",
            "_model_module": "@jupyter-widgets/controls",
            "children": [
              "IPY_MODEL_df14af0c92dd46dbbaa0b0913bc74b24",
              "IPY_MODEL_783a24ad1cb74c07b38849866639cd93"
            ]
          }
        },
        "bd0cba7a82a345fa854184d225fbd935": {
          "model_module": "@jupyter-widgets/base",
          "model_name": "LayoutModel",
          "state": {
            "_view_name": "LayoutView",
            "grid_template_rows": null,
            "right": null,
            "justify_content": null,
            "_view_module": "@jupyter-widgets/base",
            "overflow": null,
            "_model_module_version": "1.2.0",
            "_view_count": null,
            "flex_flow": null,
            "width": null,
            "min_width": null,
            "border": null,
            "align_items": null,
            "bottom": null,
            "_model_module": "@jupyter-widgets/base",
            "top": null,
            "grid_column": null,
            "overflow_y": null,
            "overflow_x": null,
            "grid_auto_flow": null,
            "grid_area": null,
            "grid_template_columns": null,
            "flex": null,
            "_model_name": "LayoutModel",
            "justify_items": null,
            "grid_row": null,
            "max_height": null,
            "align_content": null,
            "visibility": null,
            "align_self": null,
            "height": null,
            "min_height": null,
            "padding": null,
            "grid_auto_rows": null,
            "grid_gap": null,
            "max_width": null,
            "order": null,
            "_view_module_version": "1.2.0",
            "grid_template_areas": null,
            "object_position": null,
            "object_fit": null,
            "grid_auto_columns": null,
            "margin": null,
            "display": null,
            "left": null
          }
        },
        "df14af0c92dd46dbbaa0b0913bc74b24": {
          "model_module": "@jupyter-widgets/controls",
          "model_name": "FloatProgressModel",
          "state": {
            "_view_name": "ProgressView",
            "style": "IPY_MODEL_ec383b1418c34d6ba82196cb89d9554a",
            "_dom_classes": [],
            "description": "Downloading: 100%",
            "_model_name": "FloatProgressModel",
            "bar_style": "success",
            "max": 231508,
            "_view_module": "@jupyter-widgets/controls",
            "_model_module_version": "1.5.0",
            "value": 231508,
            "_view_count": null,
            "_view_module_version": "1.5.0",
            "orientation": "horizontal",
            "min": 0,
            "description_tooltip": null,
            "_model_module": "@jupyter-widgets/controls",
            "layout": "IPY_MODEL_91ae1413f3484519b5da5453797732d9"
          }
        },
        "783a24ad1cb74c07b38849866639cd93": {
          "model_module": "@jupyter-widgets/controls",
          "model_name": "HTMLModel",
          "state": {
            "_view_name": "HTMLView",
            "style": "IPY_MODEL_af43c458ef67415596e5a6031ccce860",
            "_dom_classes": [],
            "description": "",
            "_model_name": "HTMLModel",
            "placeholder": "​",
            "_view_module": "@jupyter-widgets/controls",
            "_model_module_version": "1.5.0",
            "value": " 232k/232k [00:00&lt;00:00, 761kB/s]",
            "_view_count": null,
            "_view_module_version": "1.5.0",
            "description_tooltip": null,
            "_model_module": "@jupyter-widgets/controls",
            "layout": "IPY_MODEL_731c7dd7382a40dd83c706f21611b852"
          }
        },
        "ec383b1418c34d6ba82196cb89d9554a": {
          "model_module": "@jupyter-widgets/controls",
          "model_name": "ProgressStyleModel",
          "state": {
            "_view_name": "StyleView",
            "_model_name": "ProgressStyleModel",
            "description_width": "initial",
            "_view_module": "@jupyter-widgets/base",
            "_model_module_version": "1.5.0",
            "_view_count": null,
            "_view_module_version": "1.2.0",
            "bar_color": null,
            "_model_module": "@jupyter-widgets/controls"
          }
        },
        "91ae1413f3484519b5da5453797732d9": {
          "model_module": "@jupyter-widgets/base",
          "model_name": "LayoutModel",
          "state": {
            "_view_name": "LayoutView",
            "grid_template_rows": null,
            "right": null,
            "justify_content": null,
            "_view_module": "@jupyter-widgets/base",
            "overflow": null,
            "_model_module_version": "1.2.0",
            "_view_count": null,
            "flex_flow": null,
            "width": null,
            "min_width": null,
            "border": null,
            "align_items": null,
            "bottom": null,
            "_model_module": "@jupyter-widgets/base",
            "top": null,
            "grid_column": null,
            "overflow_y": null,
            "overflow_x": null,
            "grid_auto_flow": null,
            "grid_area": null,
            "grid_template_columns": null,
            "flex": null,
            "_model_name": "LayoutModel",
            "justify_items": null,
            "grid_row": null,
            "max_height": null,
            "align_content": null,
            "visibility": null,
            "align_self": null,
            "height": null,
            "min_height": null,
            "padding": null,
            "grid_auto_rows": null,
            "grid_gap": null,
            "max_width": null,
            "order": null,
            "_view_module_version": "1.2.0",
            "grid_template_areas": null,
            "object_position": null,
            "object_fit": null,
            "grid_auto_columns": null,
            "margin": null,
            "display": null,
            "left": null
          }
        },
        "af43c458ef67415596e5a6031ccce860": {
          "model_module": "@jupyter-widgets/controls",
          "model_name": "DescriptionStyleModel",
          "state": {
            "_view_name": "StyleView",
            "_model_name": "DescriptionStyleModel",
            "description_width": "",
            "_view_module": "@jupyter-widgets/base",
            "_model_module_version": "1.5.0",
            "_view_count": null,
            "_view_module_version": "1.2.0",
            "_model_module": "@jupyter-widgets/controls"
          }
        },
        "731c7dd7382a40dd83c706f21611b852": {
          "model_module": "@jupyter-widgets/base",
          "model_name": "LayoutModel",
          "state": {
            "_view_name": "LayoutView",
            "grid_template_rows": null,
            "right": null,
            "justify_content": null,
            "_view_module": "@jupyter-widgets/base",
            "overflow": null,
            "_model_module_version": "1.2.0",
            "_view_count": null,
            "flex_flow": null,
            "width": null,
            "min_width": null,
            "border": null,
            "align_items": null,
            "bottom": null,
            "_model_module": "@jupyter-widgets/base",
            "top": null,
            "grid_column": null,
            "overflow_y": null,
            "overflow_x": null,
            "grid_auto_flow": null,
            "grid_area": null,
            "grid_template_columns": null,
            "flex": null,
            "_model_name": "LayoutModel",
            "justify_items": null,
            "grid_row": null,
            "max_height": null,
            "align_content": null,
            "visibility": null,
            "align_self": null,
            "height": null,
            "min_height": null,
            "padding": null,
            "grid_auto_rows": null,
            "grid_gap": null,
            "max_width": null,
            "order": null,
            "_view_module_version": "1.2.0",
            "grid_template_areas": null,
            "object_position": null,
            "object_fit": null,
            "grid_auto_columns": null,
            "margin": null,
            "display": null,
            "left": null
          }
        },
        "724c58ac7adb4697a4207b0cfd57bfe3": {
          "model_module": "@jupyter-widgets/controls",
          "model_name": "HBoxModel",
          "state": {
            "_view_name": "HBoxView",
            "_dom_classes": [],
            "_model_name": "HBoxModel",
            "_view_module": "@jupyter-widgets/controls",
            "_model_module_version": "1.5.0",
            "_view_count": null,
            "_view_module_version": "1.5.0",
            "box_style": "",
            "layout": "IPY_MODEL_55224181748b47c6b7f0263c4b97902b",
            "_model_module": "@jupyter-widgets/controls",
            "children": [
              "IPY_MODEL_30a2bb4b43b843ff8161a7c23636a78a",
              "IPY_MODEL_f6a7d21751f149cab03b1c7540c4ba23"
            ]
          }
        },
        "55224181748b47c6b7f0263c4b97902b": {
          "model_module": "@jupyter-widgets/base",
          "model_name": "LayoutModel",
          "state": {
            "_view_name": "LayoutView",
            "grid_template_rows": null,
            "right": null,
            "justify_content": null,
            "_view_module": "@jupyter-widgets/base",
            "overflow": null,
            "_model_module_version": "1.2.0",
            "_view_count": null,
            "flex_flow": null,
            "width": null,
            "min_width": null,
            "border": null,
            "align_items": null,
            "bottom": null,
            "_model_module": "@jupyter-widgets/base",
            "top": null,
            "grid_column": null,
            "overflow_y": null,
            "overflow_x": null,
            "grid_auto_flow": null,
            "grid_area": null,
            "grid_template_columns": null,
            "flex": null,
            "_model_name": "LayoutModel",
            "justify_items": null,
            "grid_row": null,
            "max_height": null,
            "align_content": null,
            "visibility": null,
            "align_self": null,
            "height": null,
            "min_height": null,
            "padding": null,
            "grid_auto_rows": null,
            "grid_gap": null,
            "max_width": null,
            "order": null,
            "_view_module_version": "1.2.0",
            "grid_template_areas": null,
            "object_position": null,
            "object_fit": null,
            "grid_auto_columns": null,
            "margin": null,
            "display": null,
            "left": null
          }
        },
        "30a2bb4b43b843ff8161a7c23636a78a": {
          "model_module": "@jupyter-widgets/controls",
          "model_name": "FloatProgressModel",
          "state": {
            "_view_name": "ProgressView",
            "style": "IPY_MODEL_62b5351543b94cdca121184109acc824",
            "_dom_classes": [],
            "description": "Downloading: 100%",
            "_model_name": "FloatProgressModel",
            "bar_style": "success",
            "max": 28,
            "_view_module": "@jupyter-widgets/controls",
            "_model_module_version": "1.5.0",
            "value": 28,
            "_view_count": null,
            "_view_module_version": "1.5.0",
            "orientation": "horizontal",
            "min": 0,
            "description_tooltip": null,
            "_model_module": "@jupyter-widgets/controls",
            "layout": "IPY_MODEL_2f21116bdba94ce4a0c560717af0b2ba"
          }
        },
        "f6a7d21751f149cab03b1c7540c4ba23": {
          "model_module": "@jupyter-widgets/controls",
          "model_name": "HTMLModel",
          "state": {
            "_view_name": "HTMLView",
            "style": "IPY_MODEL_0246ebbf0a984d10837714684cda8c07",
            "_dom_classes": [],
            "description": "",
            "_model_name": "HTMLModel",
            "placeholder": "​",
            "_view_module": "@jupyter-widgets/controls",
            "_model_module_version": "1.5.0",
            "value": " 28.0/28.0 [00:00&lt;00:00, 287B/s]",
            "_view_count": null,
            "_view_module_version": "1.5.0",
            "description_tooltip": null,
            "_model_module": "@jupyter-widgets/controls",
            "layout": "IPY_MODEL_244d8a8405464d819075462fb6dc00b1"
          }
        },
        "62b5351543b94cdca121184109acc824": {
          "model_module": "@jupyter-widgets/controls",
          "model_name": "ProgressStyleModel",
          "state": {
            "_view_name": "StyleView",
            "_model_name": "ProgressStyleModel",
            "description_width": "initial",
            "_view_module": "@jupyter-widgets/base",
            "_model_module_version": "1.5.0",
            "_view_count": null,
            "_view_module_version": "1.2.0",
            "bar_color": null,
            "_model_module": "@jupyter-widgets/controls"
          }
        },
        "2f21116bdba94ce4a0c560717af0b2ba": {
          "model_module": "@jupyter-widgets/base",
          "model_name": "LayoutModel",
          "state": {
            "_view_name": "LayoutView",
            "grid_template_rows": null,
            "right": null,
            "justify_content": null,
            "_view_module": "@jupyter-widgets/base",
            "overflow": null,
            "_model_module_version": "1.2.0",
            "_view_count": null,
            "flex_flow": null,
            "width": null,
            "min_width": null,
            "border": null,
            "align_items": null,
            "bottom": null,
            "_model_module": "@jupyter-widgets/base",
            "top": null,
            "grid_column": null,
            "overflow_y": null,
            "overflow_x": null,
            "grid_auto_flow": null,
            "grid_area": null,
            "grid_template_columns": null,
            "flex": null,
            "_model_name": "LayoutModel",
            "justify_items": null,
            "grid_row": null,
            "max_height": null,
            "align_content": null,
            "visibility": null,
            "align_self": null,
            "height": null,
            "min_height": null,
            "padding": null,
            "grid_auto_rows": null,
            "grid_gap": null,
            "max_width": null,
            "order": null,
            "_view_module_version": "1.2.0",
            "grid_template_areas": null,
            "object_position": null,
            "object_fit": null,
            "grid_auto_columns": null,
            "margin": null,
            "display": null,
            "left": null
          }
        },
        "0246ebbf0a984d10837714684cda8c07": {
          "model_module": "@jupyter-widgets/controls",
          "model_name": "DescriptionStyleModel",
          "state": {
            "_view_name": "StyleView",
            "_model_name": "DescriptionStyleModel",
            "description_width": "",
            "_view_module": "@jupyter-widgets/base",
            "_model_module_version": "1.5.0",
            "_view_count": null,
            "_view_module_version": "1.2.0",
            "_model_module": "@jupyter-widgets/controls"
          }
        },
        "244d8a8405464d819075462fb6dc00b1": {
          "model_module": "@jupyter-widgets/base",
          "model_name": "LayoutModel",
          "state": {
            "_view_name": "LayoutView",
            "grid_template_rows": null,
            "right": null,
            "justify_content": null,
            "_view_module": "@jupyter-widgets/base",
            "overflow": null,
            "_model_module_version": "1.2.0",
            "_view_count": null,
            "flex_flow": null,
            "width": null,
            "min_width": null,
            "border": null,
            "align_items": null,
            "bottom": null,
            "_model_module": "@jupyter-widgets/base",
            "top": null,
            "grid_column": null,
            "overflow_y": null,
            "overflow_x": null,
            "grid_auto_flow": null,
            "grid_area": null,
            "grid_template_columns": null,
            "flex": null,
            "_model_name": "LayoutModel",
            "justify_items": null,
            "grid_row": null,
            "max_height": null,
            "align_content": null,
            "visibility": null,
            "align_self": null,
            "height": null,
            "min_height": null,
            "padding": null,
            "grid_auto_rows": null,
            "grid_gap": null,
            "max_width": null,
            "order": null,
            "_view_module_version": "1.2.0",
            "grid_template_areas": null,
            "object_position": null,
            "object_fit": null,
            "grid_auto_columns": null,
            "margin": null,
            "display": null,
            "left": null
          }
        },
        "455f2559f77a471f978eb267686d948a": {
          "model_module": "@jupyter-widgets/controls",
          "model_name": "HBoxModel",
          "state": {
            "_view_name": "HBoxView",
            "_dom_classes": [],
            "_model_name": "HBoxModel",
            "_view_module": "@jupyter-widgets/controls",
            "_model_module_version": "1.5.0",
            "_view_count": null,
            "_view_module_version": "1.5.0",
            "box_style": "",
            "layout": "IPY_MODEL_02947fcf13c04298bf6d85651541b22c",
            "_model_module": "@jupyter-widgets/controls",
            "children": [
              "IPY_MODEL_a31fc1be386d410198e71eba684cfa66",
              "IPY_MODEL_3d4405ff71c142fda7d28d3c67aa801d"
            ]
          }
        },
        "02947fcf13c04298bf6d85651541b22c": {
          "model_module": "@jupyter-widgets/base",
          "model_name": "LayoutModel",
          "state": {
            "_view_name": "LayoutView",
            "grid_template_rows": null,
            "right": null,
            "justify_content": null,
            "_view_module": "@jupyter-widgets/base",
            "overflow": null,
            "_model_module_version": "1.2.0",
            "_view_count": null,
            "flex_flow": null,
            "width": null,
            "min_width": null,
            "border": null,
            "align_items": null,
            "bottom": null,
            "_model_module": "@jupyter-widgets/base",
            "top": null,
            "grid_column": null,
            "overflow_y": null,
            "overflow_x": null,
            "grid_auto_flow": null,
            "grid_area": null,
            "grid_template_columns": null,
            "flex": null,
            "_model_name": "LayoutModel",
            "justify_items": null,
            "grid_row": null,
            "max_height": null,
            "align_content": null,
            "visibility": null,
            "align_self": null,
            "height": null,
            "min_height": null,
            "padding": null,
            "grid_auto_rows": null,
            "grid_gap": null,
            "max_width": null,
            "order": null,
            "_view_module_version": "1.2.0",
            "grid_template_areas": null,
            "object_position": null,
            "object_fit": null,
            "grid_auto_columns": null,
            "margin": null,
            "display": null,
            "left": null
          }
        },
        "a31fc1be386d410198e71eba684cfa66": {
          "model_module": "@jupyter-widgets/controls",
          "model_name": "FloatProgressModel",
          "state": {
            "_view_name": "ProgressView",
            "style": "IPY_MODEL_f1b85988290f4f9bb5d02304a717e946",
            "_dom_classes": [],
            "description": "Downloading: 100%",
            "_model_name": "FloatProgressModel",
            "bar_style": "success",
            "max": 466062,
            "_view_module": "@jupyter-widgets/controls",
            "_model_module_version": "1.5.0",
            "value": 466062,
            "_view_count": null,
            "_view_module_version": "1.5.0",
            "orientation": "horizontal",
            "min": 0,
            "description_tooltip": null,
            "_model_module": "@jupyter-widgets/controls",
            "layout": "IPY_MODEL_a49b151f2e914e3c9dd529a7cad8d143"
          }
        },
        "3d4405ff71c142fda7d28d3c67aa801d": {
          "model_module": "@jupyter-widgets/controls",
          "model_name": "HTMLModel",
          "state": {
            "_view_name": "HTMLView",
            "style": "IPY_MODEL_bbc511f3ef644d86a0b233c64bc5b8b2",
            "_dom_classes": [],
            "description": "",
            "_model_name": "HTMLModel",
            "placeholder": "​",
            "_view_module": "@jupyter-widgets/controls",
            "_model_module_version": "1.5.0",
            "value": " 466k/466k [00:00&lt;00:00, 5.38MB/s]",
            "_view_count": null,
            "_view_module_version": "1.5.0",
            "description_tooltip": null,
            "_model_module": "@jupyter-widgets/controls",
            "layout": "IPY_MODEL_c30117159a23483f980918f08603358d"
          }
        },
        "f1b85988290f4f9bb5d02304a717e946": {
          "model_module": "@jupyter-widgets/controls",
          "model_name": "ProgressStyleModel",
          "state": {
            "_view_name": "StyleView",
            "_model_name": "ProgressStyleModel",
            "description_width": "initial",
            "_view_module": "@jupyter-widgets/base",
            "_model_module_version": "1.5.0",
            "_view_count": null,
            "_view_module_version": "1.2.0",
            "bar_color": null,
            "_model_module": "@jupyter-widgets/controls"
          }
        },
        "a49b151f2e914e3c9dd529a7cad8d143": {
          "model_module": "@jupyter-widgets/base",
          "model_name": "LayoutModel",
          "state": {
            "_view_name": "LayoutView",
            "grid_template_rows": null,
            "right": null,
            "justify_content": null,
            "_view_module": "@jupyter-widgets/base",
            "overflow": null,
            "_model_module_version": "1.2.0",
            "_view_count": null,
            "flex_flow": null,
            "width": null,
            "min_width": null,
            "border": null,
            "align_items": null,
            "bottom": null,
            "_model_module": "@jupyter-widgets/base",
            "top": null,
            "grid_column": null,
            "overflow_y": null,
            "overflow_x": null,
            "grid_auto_flow": null,
            "grid_area": null,
            "grid_template_columns": null,
            "flex": null,
            "_model_name": "LayoutModel",
            "justify_items": null,
            "grid_row": null,
            "max_height": null,
            "align_content": null,
            "visibility": null,
            "align_self": null,
            "height": null,
            "min_height": null,
            "padding": null,
            "grid_auto_rows": null,
            "grid_gap": null,
            "max_width": null,
            "order": null,
            "_view_module_version": "1.2.0",
            "grid_template_areas": null,
            "object_position": null,
            "object_fit": null,
            "grid_auto_columns": null,
            "margin": null,
            "display": null,
            "left": null
          }
        },
        "bbc511f3ef644d86a0b233c64bc5b8b2": {
          "model_module": "@jupyter-widgets/controls",
          "model_name": "DescriptionStyleModel",
          "state": {
            "_view_name": "StyleView",
            "_model_name": "DescriptionStyleModel",
            "description_width": "",
            "_view_module": "@jupyter-widgets/base",
            "_model_module_version": "1.5.0",
            "_view_count": null,
            "_view_module_version": "1.2.0",
            "_model_module": "@jupyter-widgets/controls"
          }
        },
        "c30117159a23483f980918f08603358d": {
          "model_module": "@jupyter-widgets/base",
          "model_name": "LayoutModel",
          "state": {
            "_view_name": "LayoutView",
            "grid_template_rows": null,
            "right": null,
            "justify_content": null,
            "_view_module": "@jupyter-widgets/base",
            "overflow": null,
            "_model_module_version": "1.2.0",
            "_view_count": null,
            "flex_flow": null,
            "width": null,
            "min_width": null,
            "border": null,
            "align_items": null,
            "bottom": null,
            "_model_module": "@jupyter-widgets/base",
            "top": null,
            "grid_column": null,
            "overflow_y": null,
            "overflow_x": null,
            "grid_auto_flow": null,
            "grid_area": null,
            "grid_template_columns": null,
            "flex": null,
            "_model_name": "LayoutModel",
            "justify_items": null,
            "grid_row": null,
            "max_height": null,
            "align_content": null,
            "visibility": null,
            "align_self": null,
            "height": null,
            "min_height": null,
            "padding": null,
            "grid_auto_rows": null,
            "grid_gap": null,
            "max_width": null,
            "order": null,
            "_view_module_version": "1.2.0",
            "grid_template_areas": null,
            "object_position": null,
            "object_fit": null,
            "grid_auto_columns": null,
            "margin": null,
            "display": null,
            "left": null
          }
        },
        "7969193dc3cd42a78d817f0017e6bf81": {
          "model_module": "@jupyter-widgets/controls",
          "model_name": "HBoxModel",
          "state": {
            "_view_name": "HBoxView",
            "_dom_classes": [],
            "_model_name": "HBoxModel",
            "_view_module": "@jupyter-widgets/controls",
            "_model_module_version": "1.5.0",
            "_view_count": null,
            "_view_module_version": "1.5.0",
            "box_style": "",
            "layout": "IPY_MODEL_6e6346a9fdf146629cd1c14a37570ddb",
            "_model_module": "@jupyter-widgets/controls",
            "children": [
              "IPY_MODEL_a06437f13bf24876bb3bfc17b08054e2",
              "IPY_MODEL_0f8f9d699da04a218378ab9beb44d573"
            ]
          }
        },
        "6e6346a9fdf146629cd1c14a37570ddb": {
          "model_module": "@jupyter-widgets/base",
          "model_name": "LayoutModel",
          "state": {
            "_view_name": "LayoutView",
            "grid_template_rows": null,
            "right": null,
            "justify_content": null,
            "_view_module": "@jupyter-widgets/base",
            "overflow": null,
            "_model_module_version": "1.2.0",
            "_view_count": null,
            "flex_flow": null,
            "width": null,
            "min_width": null,
            "border": null,
            "align_items": null,
            "bottom": null,
            "_model_module": "@jupyter-widgets/base",
            "top": null,
            "grid_column": null,
            "overflow_y": null,
            "overflow_x": null,
            "grid_auto_flow": null,
            "grid_area": null,
            "grid_template_columns": null,
            "flex": null,
            "_model_name": "LayoutModel",
            "justify_items": null,
            "grid_row": null,
            "max_height": null,
            "align_content": null,
            "visibility": null,
            "align_self": null,
            "height": null,
            "min_height": null,
            "padding": null,
            "grid_auto_rows": null,
            "grid_gap": null,
            "max_width": null,
            "order": null,
            "_view_module_version": "1.2.0",
            "grid_template_areas": null,
            "object_position": null,
            "object_fit": null,
            "grid_auto_columns": null,
            "margin": null,
            "display": null,
            "left": null
          }
        },
        "a06437f13bf24876bb3bfc17b08054e2": {
          "model_module": "@jupyter-widgets/controls",
          "model_name": "FloatProgressModel",
          "state": {
            "_view_name": "ProgressView",
            "style": "IPY_MODEL_7e2e1b768e664d6e8ceec22c45168379",
            "_dom_classes": [],
            "description": "Downloading: 100%",
            "_model_name": "FloatProgressModel",
            "bar_style": "success",
            "max": 442,
            "_view_module": "@jupyter-widgets/controls",
            "_model_module_version": "1.5.0",
            "value": 442,
            "_view_count": null,
            "_view_module_version": "1.5.0",
            "orientation": "horizontal",
            "min": 0,
            "description_tooltip": null,
            "_model_module": "@jupyter-widgets/controls",
            "layout": "IPY_MODEL_119fe8a2ead14952a1c42dd7d3ec0329"
          }
        },
        "0f8f9d699da04a218378ab9beb44d573": {
          "model_module": "@jupyter-widgets/controls",
          "model_name": "HTMLModel",
          "state": {
            "_view_name": "HTMLView",
            "style": "IPY_MODEL_e16a8411ba404143b807e954e78c8d29",
            "_dom_classes": [],
            "description": "",
            "_model_name": "HTMLModel",
            "placeholder": "​",
            "_view_module": "@jupyter-widgets/controls",
            "_model_module_version": "1.5.0",
            "value": " 442/442 [00:00&lt;00:00, 4.36kB/s]",
            "_view_count": null,
            "_view_module_version": "1.5.0",
            "description_tooltip": null,
            "_model_module": "@jupyter-widgets/controls",
            "layout": "IPY_MODEL_1a4d9fdf5a96478fadeadadffbb87efa"
          }
        },
        "7e2e1b768e664d6e8ceec22c45168379": {
          "model_module": "@jupyter-widgets/controls",
          "model_name": "ProgressStyleModel",
          "state": {
            "_view_name": "StyleView",
            "_model_name": "ProgressStyleModel",
            "description_width": "initial",
            "_view_module": "@jupyter-widgets/base",
            "_model_module_version": "1.5.0",
            "_view_count": null,
            "_view_module_version": "1.2.0",
            "bar_color": null,
            "_model_module": "@jupyter-widgets/controls"
          }
        },
        "119fe8a2ead14952a1c42dd7d3ec0329": {
          "model_module": "@jupyter-widgets/base",
          "model_name": "LayoutModel",
          "state": {
            "_view_name": "LayoutView",
            "grid_template_rows": null,
            "right": null,
            "justify_content": null,
            "_view_module": "@jupyter-widgets/base",
            "overflow": null,
            "_model_module_version": "1.2.0",
            "_view_count": null,
            "flex_flow": null,
            "width": null,
            "min_width": null,
            "border": null,
            "align_items": null,
            "bottom": null,
            "_model_module": "@jupyter-widgets/base",
            "top": null,
            "grid_column": null,
            "overflow_y": null,
            "overflow_x": null,
            "grid_auto_flow": null,
            "grid_area": null,
            "grid_template_columns": null,
            "flex": null,
            "_model_name": "LayoutModel",
            "justify_items": null,
            "grid_row": null,
            "max_height": null,
            "align_content": null,
            "visibility": null,
            "align_self": null,
            "height": null,
            "min_height": null,
            "padding": null,
            "grid_auto_rows": null,
            "grid_gap": null,
            "max_width": null,
            "order": null,
            "_view_module_version": "1.2.0",
            "grid_template_areas": null,
            "object_position": null,
            "object_fit": null,
            "grid_auto_columns": null,
            "margin": null,
            "display": null,
            "left": null
          }
        },
        "e16a8411ba404143b807e954e78c8d29": {
          "model_module": "@jupyter-widgets/controls",
          "model_name": "DescriptionStyleModel",
          "state": {
            "_view_name": "StyleView",
            "_model_name": "DescriptionStyleModel",
            "description_width": "",
            "_view_module": "@jupyter-widgets/base",
            "_model_module_version": "1.5.0",
            "_view_count": null,
            "_view_module_version": "1.2.0",
            "_model_module": "@jupyter-widgets/controls"
          }
        },
        "1a4d9fdf5a96478fadeadadffbb87efa": {
          "model_module": "@jupyter-widgets/base",
          "model_name": "LayoutModel",
          "state": {
            "_view_name": "LayoutView",
            "grid_template_rows": null,
            "right": null,
            "justify_content": null,
            "_view_module": "@jupyter-widgets/base",
            "overflow": null,
            "_model_module_version": "1.2.0",
            "_view_count": null,
            "flex_flow": null,
            "width": null,
            "min_width": null,
            "border": null,
            "align_items": null,
            "bottom": null,
            "_model_module": "@jupyter-widgets/base",
            "top": null,
            "grid_column": null,
            "overflow_y": null,
            "overflow_x": null,
            "grid_auto_flow": null,
            "grid_area": null,
            "grid_template_columns": null,
            "flex": null,
            "_model_name": "LayoutModel",
            "justify_items": null,
            "grid_row": null,
            "max_height": null,
            "align_content": null,
            "visibility": null,
            "align_self": null,
            "height": null,
            "min_height": null,
            "padding": null,
            "grid_auto_rows": null,
            "grid_gap": null,
            "max_width": null,
            "order": null,
            "_view_module_version": "1.2.0",
            "grid_template_areas": null,
            "object_position": null,
            "object_fit": null,
            "grid_auto_columns": null,
            "margin": null,
            "display": null,
            "left": null
          }
        },
        "df4890d44fca4697aec6d1572a7fe224": {
          "model_module": "@jupyter-widgets/controls",
          "model_name": "HBoxModel",
          "state": {
            "_view_name": "HBoxView",
            "_dom_classes": [],
            "_model_name": "HBoxModel",
            "_view_module": "@jupyter-widgets/controls",
            "_model_module_version": "1.5.0",
            "_view_count": null,
            "_view_module_version": "1.5.0",
            "box_style": "",
            "layout": "IPY_MODEL_f96bf41427154cffbc330c9f5202390c",
            "_model_module": "@jupyter-widgets/controls",
            "children": [
              "IPY_MODEL_40b7216cbe224d9c9db836c3657771b7",
              "IPY_MODEL_27d8b0a9e6134498b6d50afb87c220e0"
            ]
          }
        },
        "f96bf41427154cffbc330c9f5202390c": {
          "model_module": "@jupyter-widgets/base",
          "model_name": "LayoutModel",
          "state": {
            "_view_name": "LayoutView",
            "grid_template_rows": null,
            "right": null,
            "justify_content": null,
            "_view_module": "@jupyter-widgets/base",
            "overflow": null,
            "_model_module_version": "1.2.0",
            "_view_count": null,
            "flex_flow": null,
            "width": null,
            "min_width": null,
            "border": null,
            "align_items": null,
            "bottom": null,
            "_model_module": "@jupyter-widgets/base",
            "top": null,
            "grid_column": null,
            "overflow_y": null,
            "overflow_x": null,
            "grid_auto_flow": null,
            "grid_area": null,
            "grid_template_columns": null,
            "flex": null,
            "_model_name": "LayoutModel",
            "justify_items": null,
            "grid_row": null,
            "max_height": null,
            "align_content": null,
            "visibility": null,
            "align_self": null,
            "height": null,
            "min_height": null,
            "padding": null,
            "grid_auto_rows": null,
            "grid_gap": null,
            "max_width": null,
            "order": null,
            "_view_module_version": "1.2.0",
            "grid_template_areas": null,
            "object_position": null,
            "object_fit": null,
            "grid_auto_columns": null,
            "margin": null,
            "display": null,
            "left": null
          }
        },
        "40b7216cbe224d9c9db836c3657771b7": {
          "model_module": "@jupyter-widgets/controls",
          "model_name": "FloatProgressModel",
          "state": {
            "_view_name": "ProgressView",
            "style": "IPY_MODEL_8bc01b5fa8534ac894b6ed3199623276",
            "_dom_classes": [],
            "description": "Downloading: 100%",
            "_model_name": "FloatProgressModel",
            "bar_style": "success",
            "max": 267967963,
            "_view_module": "@jupyter-widgets/controls",
            "_model_module_version": "1.5.0",
            "value": 267967963,
            "_view_count": null,
            "_view_module_version": "1.5.0",
            "orientation": "horizontal",
            "min": 0,
            "description_tooltip": null,
            "_model_module": "@jupyter-widgets/controls",
            "layout": "IPY_MODEL_84e24f68d12544eb914dc5f28101d775"
          }
        },
        "27d8b0a9e6134498b6d50afb87c220e0": {
          "model_module": "@jupyter-widgets/controls",
          "model_name": "HTMLModel",
          "state": {
            "_view_name": "HTMLView",
            "style": "IPY_MODEL_824ea75058a643cd898eb4fd93fd8611",
            "_dom_classes": [],
            "description": "",
            "_model_name": "HTMLModel",
            "placeholder": "​",
            "_view_module": "@jupyter-widgets/controls",
            "_model_module_version": "1.5.0",
            "value": " 268M/268M [00:05&lt;00:00, 49.1MB/s]",
            "_view_count": null,
            "_view_module_version": "1.5.0",
            "description_tooltip": null,
            "_model_module": "@jupyter-widgets/controls",
            "layout": "IPY_MODEL_589f85530e894cfbb8a658bb0757d5ce"
          }
        },
        "8bc01b5fa8534ac894b6ed3199623276": {
          "model_module": "@jupyter-widgets/controls",
          "model_name": "ProgressStyleModel",
          "state": {
            "_view_name": "StyleView",
            "_model_name": "ProgressStyleModel",
            "description_width": "initial",
            "_view_module": "@jupyter-widgets/base",
            "_model_module_version": "1.5.0",
            "_view_count": null,
            "_view_module_version": "1.2.0",
            "bar_color": null,
            "_model_module": "@jupyter-widgets/controls"
          }
        },
        "84e24f68d12544eb914dc5f28101d775": {
          "model_module": "@jupyter-widgets/base",
          "model_name": "LayoutModel",
          "state": {
            "_view_name": "LayoutView",
            "grid_template_rows": null,
            "right": null,
            "justify_content": null,
            "_view_module": "@jupyter-widgets/base",
            "overflow": null,
            "_model_module_version": "1.2.0",
            "_view_count": null,
            "flex_flow": null,
            "width": null,
            "min_width": null,
            "border": null,
            "align_items": null,
            "bottom": null,
            "_model_module": "@jupyter-widgets/base",
            "top": null,
            "grid_column": null,
            "overflow_y": null,
            "overflow_x": null,
            "grid_auto_flow": null,
            "grid_area": null,
            "grid_template_columns": null,
            "flex": null,
            "_model_name": "LayoutModel",
            "justify_items": null,
            "grid_row": null,
            "max_height": null,
            "align_content": null,
            "visibility": null,
            "align_self": null,
            "height": null,
            "min_height": null,
            "padding": null,
            "grid_auto_rows": null,
            "grid_gap": null,
            "max_width": null,
            "order": null,
            "_view_module_version": "1.2.0",
            "grid_template_areas": null,
            "object_position": null,
            "object_fit": null,
            "grid_auto_columns": null,
            "margin": null,
            "display": null,
            "left": null
          }
        },
        "824ea75058a643cd898eb4fd93fd8611": {
          "model_module": "@jupyter-widgets/controls",
          "model_name": "DescriptionStyleModel",
          "state": {
            "_view_name": "StyleView",
            "_model_name": "DescriptionStyleModel",
            "description_width": "",
            "_view_module": "@jupyter-widgets/base",
            "_model_module_version": "1.5.0",
            "_view_count": null,
            "_view_module_version": "1.2.0",
            "_model_module": "@jupyter-widgets/controls"
          }
        },
        "589f85530e894cfbb8a658bb0757d5ce": {
          "model_module": "@jupyter-widgets/base",
          "model_name": "LayoutModel",
          "state": {
            "_view_name": "LayoutView",
            "grid_template_rows": null,
            "right": null,
            "justify_content": null,
            "_view_module": "@jupyter-widgets/base",
            "overflow": null,
            "_model_module_version": "1.2.0",
            "_view_count": null,
            "flex_flow": null,
            "width": null,
            "min_width": null,
            "border": null,
            "align_items": null,
            "bottom": null,
            "_model_module": "@jupyter-widgets/base",
            "top": null,
            "grid_column": null,
            "overflow_y": null,
            "overflow_x": null,
            "grid_auto_flow": null,
            "grid_area": null,
            "grid_template_columns": null,
            "flex": null,
            "_model_name": "LayoutModel",
            "justify_items": null,
            "grid_row": null,
            "max_height": null,
            "align_content": null,
            "visibility": null,
            "align_self": null,
            "height": null,
            "min_height": null,
            "padding": null,
            "grid_auto_rows": null,
            "grid_gap": null,
            "max_width": null,
            "order": null,
            "_view_module_version": "1.2.0",
            "grid_template_areas": null,
            "object_position": null,
            "object_fit": null,
            "grid_auto_columns": null,
            "margin": null,
            "display": null,
            "left": null
          }
        }
      }
    }
  },
  "cells": [
    {
      "cell_type": "markdown",
      "metadata": {
        "id": "view-in-github",
        "colab_type": "text"
      },
      "source": [
        "<a href=\"https://colab.research.google.com/github/kumar-abhishek/sentiment-analysis/blob/main/Sentiment_analysis_3_approaches.ipynb\" target=\"_parent\"><img src=\"https://colab.research.google.com/assets/colab-badge.svg\" alt=\"Open In Colab\"/></a>"
      ]
    },
    {
      "cell_type": "code",
      "metadata": {
        "colab": {
          "base_uri": "https://localhost:8080/"
        },
        "id": "29JMbAkmxoSN",
        "outputId": "646e17e3-4b9a-4352-db67-93790a1c98b9"
      },
      "source": [
        "!pip install transformers"
      ],
      "execution_count": null,
      "outputs": [
        {
          "output_type": "stream",
          "text": [
            "Collecting transformers\n",
            "\u001b[?25l  Downloading https://files.pythonhosted.org/packages/d8/b2/57495b5309f09fa501866e225c84532d1fd89536ea62406b2181933fb418/transformers-4.5.1-py3-none-any.whl (2.1MB)\n",
            "\u001b[K     |████████████████████████████████| 2.1MB 23.4MB/s \n",
            "\u001b[?25hRequirement already satisfied: importlib-metadata; python_version < \"3.8\" in /usr/local/lib/python3.7/dist-packages (from transformers) (3.10.1)\n",
            "Requirement already satisfied: regex!=2019.12.17 in /usr/local/lib/python3.7/dist-packages (from transformers) (2019.12.20)\n",
            "Requirement already satisfied: numpy>=1.17 in /usr/local/lib/python3.7/dist-packages (from transformers) (1.19.5)\n",
            "Requirement already satisfied: packaging in /usr/local/lib/python3.7/dist-packages (from transformers) (20.9)\n",
            "Collecting sacremoses\n",
            "\u001b[?25l  Downloading https://files.pythonhosted.org/packages/75/ee/67241dc87f266093c533a2d4d3d69438e57d7a90abb216fa076e7d475d4a/sacremoses-0.0.45-py3-none-any.whl (895kB)\n",
            "\u001b[K     |████████████████████████████████| 901kB 52.1MB/s \n",
            "\u001b[?25hRequirement already satisfied: filelock in /usr/local/lib/python3.7/dist-packages (from transformers) (3.0.12)\n",
            "Collecting tokenizers<0.11,>=0.10.1\n",
            "\u001b[?25l  Downloading https://files.pythonhosted.org/packages/ae/04/5b870f26a858552025a62f1649c20d29d2672c02ff3c3fb4c688ca46467a/tokenizers-0.10.2-cp37-cp37m-manylinux2010_x86_64.whl (3.3MB)\n",
            "\u001b[K     |████████████████████████████████| 3.3MB 50.3MB/s \n",
            "\u001b[?25hRequirement already satisfied: tqdm>=4.27 in /usr/local/lib/python3.7/dist-packages (from transformers) (4.41.1)\n",
            "Requirement already satisfied: requests in /usr/local/lib/python3.7/dist-packages (from transformers) (2.23.0)\n",
            "Requirement already satisfied: typing-extensions>=3.6.4; python_version < \"3.8\" in /usr/local/lib/python3.7/dist-packages (from importlib-metadata; python_version < \"3.8\"->transformers) (3.7.4.3)\n",
            "Requirement already satisfied: zipp>=0.5 in /usr/local/lib/python3.7/dist-packages (from importlib-metadata; python_version < \"3.8\"->transformers) (3.4.1)\n",
            "Requirement already satisfied: pyparsing>=2.0.2 in /usr/local/lib/python3.7/dist-packages (from packaging->transformers) (2.4.7)\n",
            "Requirement already satisfied: click in /usr/local/lib/python3.7/dist-packages (from sacremoses->transformers) (7.1.2)\n",
            "Requirement already satisfied: joblib in /usr/local/lib/python3.7/dist-packages (from sacremoses->transformers) (1.0.1)\n",
            "Requirement already satisfied: six in /usr/local/lib/python3.7/dist-packages (from sacremoses->transformers) (1.15.0)\n",
            "Requirement already satisfied: idna<3,>=2.5 in /usr/local/lib/python3.7/dist-packages (from requests->transformers) (2.10)\n",
            "Requirement already satisfied: chardet<4,>=3.0.2 in /usr/local/lib/python3.7/dist-packages (from requests->transformers) (3.0.4)\n",
            "Requirement already satisfied: certifi>=2017.4.17 in /usr/local/lib/python3.7/dist-packages (from requests->transformers) (2020.12.5)\n",
            "Requirement already satisfied: urllib3!=1.25.0,!=1.25.1,<1.26,>=1.21.1 in /usr/local/lib/python3.7/dist-packages (from requests->transformers) (1.24.3)\n",
            "Installing collected packages: sacremoses, tokenizers, transformers\n",
            "Successfully installed sacremoses-0.0.45 tokenizers-0.10.2 transformers-4.5.1\n"
          ],
          "name": "stdout"
        }
      ]
    },
    {
      "cell_type": "code",
      "metadata": {
        "id": "6qOekwuNxY0f"
      },
      "source": [
        "import numpy as np\n",
        "import pandas as pd\n",
        "from sklearn.model_selection import train_test_split\n",
        "from sklearn.linear_model import LogisticRegression\n",
        "from sklearn.model_selection import GridSearchCV\n",
        "from sklearn.model_selection import cross_val_score\n",
        "import torch\n",
        "import transformers\n",
        "import warnings\n",
        "warnings.filterwarnings('ignore')"
      ],
      "execution_count": null,
      "outputs": []
    },
    {
      "cell_type": "code",
      "metadata": {
        "id": "pHfx0RLbxpM-"
      },
      "source": [
        "df = pd.read_csv('https://github.com/clairett/pytorch-sentiment-classification/raw/master/data/SST2/train.tsv', delimiter='\\t', header=None)"
      ],
      "execution_count": null,
      "outputs": []
    },
    {
      "cell_type": "code",
      "metadata": {
        "colab": {
          "base_uri": "https://localhost:8080/",
          "height": 202
        },
        "id": "6MMQiKf3z_Mi",
        "outputId": "38fba4ae-c575-4818-80f5-5cac57c1e9b2"
      },
      "source": [
        "df.head()"
      ],
      "execution_count": null,
      "outputs": [
        {
          "output_type": "execute_result",
          "data": {
            "text/html": [
              "<div>\n",
              "<style scoped>\n",
              "    .dataframe tbody tr th:only-of-type {\n",
              "        vertical-align: middle;\n",
              "    }\n",
              "\n",
              "    .dataframe tbody tr th {\n",
              "        vertical-align: top;\n",
              "    }\n",
              "\n",
              "    .dataframe thead th {\n",
              "        text-align: right;\n",
              "    }\n",
              "</style>\n",
              "<table border=\"1\" class=\"dataframe\">\n",
              "  <thead>\n",
              "    <tr style=\"text-align: right;\">\n",
              "      <th></th>\n",
              "      <th>0</th>\n",
              "      <th>1</th>\n",
              "    </tr>\n",
              "  </thead>\n",
              "  <tbody>\n",
              "    <tr>\n",
              "      <th>0</th>\n",
              "      <td>a stirring , funny and finally transporting re...</td>\n",
              "      <td>1</td>\n",
              "    </tr>\n",
              "    <tr>\n",
              "      <th>1</th>\n",
              "      <td>apparently reassembled from the cutting room f...</td>\n",
              "      <td>0</td>\n",
              "    </tr>\n",
              "    <tr>\n",
              "      <th>2</th>\n",
              "      <td>they presume their audience wo n't sit still f...</td>\n",
              "      <td>0</td>\n",
              "    </tr>\n",
              "    <tr>\n",
              "      <th>3</th>\n",
              "      <td>this is a visually stunning rumination on love...</td>\n",
              "      <td>1</td>\n",
              "    </tr>\n",
              "    <tr>\n",
              "      <th>4</th>\n",
              "      <td>jonathan parker 's bartleby should have been t...</td>\n",
              "      <td>1</td>\n",
              "    </tr>\n",
              "  </tbody>\n",
              "</table>\n",
              "</div>"
            ],
            "text/plain": [
              "                                                   0  1\n",
              "0  a stirring , funny and finally transporting re...  1\n",
              "1  apparently reassembled from the cutting room f...  0\n",
              "2  they presume their audience wo n't sit still f...  0\n",
              "3  this is a visually stunning rumination on love...  1\n",
              "4  jonathan parker 's bartleby should have been t...  1"
            ]
          },
          "metadata": {
            "tags": []
          },
          "execution_count": 6
        }
      ]
    },
    {
      "cell_type": "code",
      "metadata": {
        "id": "j_ldU3Wfxudg",
        "colab": {
          "base_uri": "https://localhost:8080/"
        },
        "outputId": "6f8d0030-a9d8-4ec8-9a02-6916e946fe91"
      },
      "source": [
        "batch_1 = df[:5000]\n",
        "# print(batch_1[0])\n",
        "batch_1[0].tolist"
      ],
      "execution_count": null,
      "outputs": [
        {
          "output_type": "execute_result",
          "data": {
            "text/plain": [
              "<bound method IndexOpsMixin.tolist of 0       a stirring , funny and finally transporting re...\n",
              "1       apparently reassembled from the cutting room f...\n",
              "2       they presume their audience wo n't sit still f...\n",
              "3       this is a visually stunning rumination on love...\n",
              "4       jonathan parker 's bartleby should have been t...\n",
              "                              ...                        \n",
              "4995    just about the best straight up , old school h...\n",
              "4996    in the director 's cut , the film is not only ...\n",
              "4997    samuel l jackson is one of the best actors the...\n",
              "4998    it does give a taste of the burning man ethos ...\n",
              "4999    a plethora of engaging diatribes on the meanin...\n",
              "Name: 0, Length: 5000, dtype: object>"
            ]
          },
          "metadata": {
            "tags": []
          },
          "execution_count": 7
        }
      ]
    },
    {
      "cell_type": "code",
      "metadata": {
        "colab": {
          "base_uri": "https://localhost:8080/"
        },
        "id": "unVe349Mxxtv",
        "outputId": "76ec9aae-f8bf-43bd-c148-463ea5cb1762"
      },
      "source": [
        "# We can ask pandas how many sentences are labeled as \"positive\"\n",
        "# (value 1) and how many are labeled \"negative\" (having the value 0)\n",
        "batch_1[1].value_counts()"
      ],
      "execution_count": null,
      "outputs": [
        {
          "output_type": "execute_result",
          "data": {
            "text/plain": [
              "1    2607\n",
              "0    2393\n",
              "Name: 1, dtype: int64"
            ]
          },
          "metadata": {
            "tags": []
          },
          "execution_count": 6
        }
      ]
    },
    {
      "cell_type": "code",
      "metadata": {
        "id": "RcMi8ll0-iO2"
      },
      "source": [
        "# text pre-processing here using nltk\n"
      ],
      "execution_count": null,
      "outputs": []
    },
    {
      "cell_type": "markdown",
      "metadata": {
        "id": "Q1nx0k23x9NC"
      },
      "source": [
        "**STEP 1: COUNT VECTORIZER + LOGISTIC REGRESSION**\n",
        " "
      ]
    },
    {
      "cell_type": "code",
      "metadata": {
        "colab": {
          "base_uri": "https://localhost:8080/",
          "height": 122
        },
        "id": "ZPKpMnK8E8FK",
        "outputId": "9df11efb-1ff6-4591-9e59-70204cebc369"
      },
      "source": [
        "# seed = 1\n",
        "# np.random(seed)\n",
        "labels = batch_1[1]\n",
        "train_features, test_features, train_labels, test_labels = train_test_split(batch_1[0], labels, random_state=11)\n",
        "# print(\"train_features\")\n",
        "train_features  \n",
        "\n",
        "\"\"\"\n",
        "train_features\n",
        "90      ou 've got to love a disney pic with as little...\n",
        "365     a fleet footed and pleasingly upbeat family di...\n",
        "3076    the notion of deleting emotion from people , e...\n",
        "1325    at once disarmingly straightforward and striki...\n",
        "4166    julie davis is the kathie lee gifford of film ...\n",
        "                              ...                        \n",
        "332     it 's refreshing to see a movie that embraces ...\n",
        "1293    `` one look at a girl in tight pants and big t...\n",
        "4023    appropriately cynical social commentary aside ...\n",
        "3775    the immersive powers of the giant screen and i...\n",
        "1945            enough is not a bad movie , just mediocre\n",
        "\"\"\""
      ],
      "execution_count": null,
      "outputs": [
        {
          "output_type": "execute_result",
          "data": {
            "application/vnd.google.colaboratory.intrinsic+json": {
              "type": "string"
            },
            "text/plain": [
              "\"\\ntrain_features\\n90      ou 've got to love a disney pic with as little...\\n365     a fleet footed and pleasingly upbeat family di...\\n3076    the notion of deleting emotion from people , e...\\n1325    at once disarmingly straightforward and striki...\\n4166    julie davis is the kathie lee gifford of film ...\\n                              ...                        \\n332     it 's refreshing to see a movie that embraces ...\\n1293    `` one look at a girl in tight pants and big t...\\n4023    appropriately cynical social commentary aside ...\\n3775    the immersive powers of the giant screen and i...\\n1945            enough is not a bad movie , just mediocre\\n\""
            ]
          },
          "metadata": {
            "tags": []
          },
          "execution_count": 8
        }
      ]
    },
    {
      "cell_type": "code",
      "metadata": {
        "colab": {
          "base_uri": "https://localhost:8080/"
        },
        "id": "GcdFKUBCpv9F",
        "outputId": "b701e174-1bc7-4c6e-c69d-dbf2a797e643"
      },
      "source": [
        "#https://towardsdatascience.com/sentiment-classification-with-logistic-regression-analyzing-yelp-reviews-3981678c3b44#e4b4\n",
        "import sys\n",
        "import numpy\n",
        "numpy.set_printoptions(threshold=sys.maxsize)\n",
        "\n",
        "from sklearn.feature_extraction.text import CountVectorizer\n",
        "vectorizer = CountVectorizer()\n",
        "\n",
        "# Learn vocabulary dictionary and return document-term matrix\n",
        "# (sentence_index, word_index)-> count_of_word_in_current_document\n",
        "X = vectorizer.fit_transform(batch_1[0])\n",
        "print(vectorizer.get_feature_names())\n",
        "print(\"X: \")\n",
        "print(X[:2])\n",
        "\n",
        "#Transform documents to document-term matrix.\n",
        "train_feature_set = vectorizer.transform(train_features)\n",
        "print(train_features.shape)\n",
        "print(train_feature_set.shape)\n",
        "print(\"train_feature_set: \")\n",
        "print(train_feature_set[:4])\n",
        "test_feature_set = vectorizer.transform(test_features)"
      ],
      "execution_count": null,
      "outputs": [
        {
          "output_type": "stream",
          "text": [
            "['10', '100', '101', '103', '10th', '11', '110', '12', '120', '127', '129', '13', '13th', '140', '146', '15', '16', '163', '168', '170', '1790', '18', '1899', '19', '1920', '1930s', '1933', '1938', '1940s', '1950', '1950s', '1952', '1957', '1958', '1959', '1960', '1960s', '1970s', '1975', '1979', '1980', '1980s', '1984', '1986', '1987', '1989', '1995', '1997', '1999', '19th', '20', '2000', '2002', '20th', '21', '21st', '22', '24', '25', '26', '295', '30', '300', '3000', '37', '3d', '40', '451', '4ever', '4w', '50', '500', '50s', '51', '52', '53', '5ths', '60', '60s', '65', '70s', '71', '72', '75', '77', '78', '7th', '80', '80s', '83', '84', '86', '87', '88', '89', '8th', '90', '90s', '91', '93', '94', '95', '96', '98', '99', 'aaa', 'aan', 'abandon', 'abandoned', 'abbass', 'abbott', 'abdul', 'abel', 'abhorrent', 'abiding', 'abilities', 'ability', 'abject', 'able', 'ably', 'abomination', 'abound', 'about', 'above', 'abrasive', 'abridged', 'abroad', 'abrupt', 'absence', 'absent', 'absolute', 'absolutely', 'absorb', 'absorbing', 'absorption', 'abstract', 'absurd', 'absurdist', 'absurdities', 'absurdity', 'absurdly', 'abundant', 'abundantly', 'abuse', 'abused', 'abyss', 'academy', 'accent', 'accents', 'accentuating', 'accept', 'acceptable', 'accepting', 'accepts', 'access', 'accessibility', 'accessible', 'accident', 'accidental', 'acclaim', 'acclaimed', 'accompanied', 'accompanying', 'accomplish', 'accomplished', 'accomplishes', 'accomplishment', 'accomplishments', 'according', 'account', 'accountant', 'accumulate', 'accumulated', 'accumulates', 'accuracy', 'accurate', 'accurately', 'accuse', 'acerbic', 'ache', 'achieve', 'achieved', 'achievement', 'achievements', 'achieves', 'achieving', 'aching', 'achingly', 'achival', 'achronological', 'acid', 'acidic', 'acidity', 'ackerman', 'acknowledges', 'acknowledging', 'acquainted', 'acres', 'across', 'act', 'acted', 'acting', 'action', 'actioner', 'actioners', 'actions', 'activate', 'activism', 'actor', 'actorish', 'actorliness', 'actorly', 'actors', 'actress', 'actresses', 'acts', 'actual', 'actually', 'acumen', 'acute', 'ad', 'adage', 'adam', 'adams', 'adaptation', 'adaptations', 'adapted', 'add', 'added', 'addict', 'addiction', 'addictive', 'adding', 'addition', 'address', 'addresses', 'addressing', 'adds', 'adept', 'adequate', 'adequately', 'adherents', 'adhering', 'adjective', 'adjusting', 'admirable', 'admirably', 'admire', 'admirers', 'admission', 'admit', 'admitted', 'admittedly', 'ado', 'adobo', 'adolescence', 'adolescent', 'adolescents', 'adopt', 'adopts', 'adorability', 'adorable', 'adorably', 'adoring', 'adorns', 'adrenalin', 'adrenaline', 'adrenalized', 'adrian', 'adrift', 'adult', 'adultery', 'adults', 'advanced', 'advancing', 'advantage', 'adventure', 'adventures', 'adventurous', 'adversity', 'advertised', 'advertising', 'advice', 'advised', 'advises', 'advocacy', 'aesthetic', 'aesthetically', 'aesthetics', 'affability', 'affable', 'affair', 'affect', 'affectation', 'affected', 'affecting', 'affection', 'affectionate', 'affectionately', 'affects', 'affirm', 'affirming', 'affleck', 'affluent', 'afford', 'afghan', 'afghani', 'aficionados', 'afloat', 'afraid', 'africa', 'african', 'after', 'afterlife', 'afternoon', 'afterschool', 'aftertaste', 'afterthought', 'afterwards', 'again', 'against', 'agape', 'age', 'aged', 'agency', 'agenda', 'agendas', 'agent', 'agers', 'ages', 'aggressive', 'aggressively', 'aggrieved', 'agile', 'aging', 'agitator', 'agitprop', 'agnostic', 'ago', 'agonizing', 'agony', 'agreed', 'aground', 'ah', 'ahead', 'ahem', 'ahola', 'ai', 'aid', 'aided', 'aids', 'aiello', 'ailments', 'aim', 'aimed', 'aimless', 'aimlessly', 'aimlessness', 'aims', 'air', 'airless', 'airs', 'airy', 'aisle', 'akin', 'al', 'alabama', 'aladdin', 'alagna', 'alan', 'alarms', 'alas', 'albeit', 'album', 'alcatraz', 'aldrich', 'aleck', 'alert', 'alexander', 'alexandre', 'alfonso', 'alfred', 'alice', 'alien', 'alienate', 'alienated', 'alienating', 'alienation', 'aliens', 'alike', 'alive', 'all', 'alleged', 'allegedly', 'allegiance', 'allegory', 'allen', 'allison', 'allow', 'allowed', 'allowing', 'allows', 'alluring', 'allusions', 'ally', 'almodovar', 'almost', 'alone', 'along', 'aloof', 'already', 'also', 'alt', 'altar', 'alter', 'alterations', 'altered', 'alternate', 'alternately', 'alternating', 'alternative', 'alternatives', 'although', 'altman', 'altogether', 'always', 'am', 'amalgam', 'amari', 'amaro', 'amassed', 'amateurish', 'amateurishly', 'amaze', 'amazing', 'amazingly', 'ambiguities', 'ambiguity', 'ambiguous', 'ambition', 'ambitions', 'ambitious', 'ambitiously', 'ambivalence', 'ambivalent', 'ambrose', 'amc', 'ame', 'america', 'american', 'americanized', 'americans', 'amiable', 'amicable', 'amid', 'amidst', 'amini', 'amir', 'amish', 'amiss', 'amnesiac', 'amok', 'among', 'amorality', 'amount', 'amounts', 'amours', 'ample', 'amuse', 'amused', 'amusedly', 'amusement', 'amusements', 'amuses', 'amusing', 'amy', 'an', 'ana', 'anachronistic', 'analytical', 'analyze', 'anarchists', 'anatomical', 'anchored', 'anchoring', 'ancient', 'ancillary', 'and', 'anderson', 'andr', 'anemic', 'angel', 'angela', 'angels', 'anger', 'angle', 'angles', 'angling', 'angry', 'angst', 'anguish', 'anguished', 'anim', 'animal', 'animals', 'animated', 'animation', 'animations', 'animaton', 'animatronic', 'anime', 'aniston', 'ankle', 'anna', 'annals', 'anne', 'annex', 'annie', 'anniversary', 'annoyance', 'annoyed', 'annoying', 'anomaly', 'anomie', 'anonymity', 'anonymous', 'another', 'answer', 'answered', 'answers', 'antagonism', 'ante', 'anthony', 'anthropomorphic', 'anti', 'antic', 'anticipated', 'anticipation', 'antics', 'antidote', 'antitrust', 'anton', 'antonia', 'antonio', 'ants', 'antsy', 'antwone', 'any', 'anybody', 'anymore', 'anyone', 'anyplace', 'anything', 'anyway', 'anywhere', 'apart', 'apartheid', 'apartments', 'apex', 'aplenty', 'aplomb', 'apollo', 'app', 'appalling', 'apparatus', 'apparent', 'apparently', 'appeal', 'appealing', 'appeals', 'appear', 'appearance', 'appeared', 'appears', 'appetite', 'appetites', 'appetizer', 'apple', 'applegate', 'applies', 'apply', 'applying', 'appointed', 'appreciate', 'appreciated', 'appreciates', 'appreciation', 'approach', 'approached', 'approaches', 'approaching', 'appropriate', 'appropriated', 'appropriately', 'approximation', 'april', 'apted', 'aptitude', 'aragorn', 'aranda', 'ararat', 'arbitrarily', 'arbitrary', 'arc', 'arcane', 'archibald', 'architect', 'architecture', 'archival', 'archive', 'archives', 'archly', 'ardent', 'ardently', 'ardor', 'arduous', 'are', 'area', 'argentine', 'argentinean', 'argentinian', 'argento', 'arguably', 'argue', 'argues', 'arguing', 'argument', 'arguments', 'aristocrats', 'arithmetic', 'ark', 'arkansas', 'arliss', 'arm', 'armchair', 'armed', 'arms', 'arnie', 'arnold', 'around', 'arrangements', 'array', 'arrest', 'arresting', 'arrive', 'arrived', 'arrives', 'arrogance', 'arrogant', 'arrow', 'art', 'artful', 'artfully', 'arthouse', 'arthur', 'articulate', 'articulates', 'artifice', 'artificial', 'artificiality', 'artist', 'artistes', 'artistic', 'artistically', 'artistry', 'artists', 'artless', 'arts', 'artsy', 'artwork', 'artworks', 'arty', 'arwen', 'as', 'ascends', 'ascertain', 'ash', 'ashley', 'asia', 'asian', 'aside', 'ask', 'asked', 'asks', 'asleep', 'aspect', 'aspects', 'asphalt', 'aspirations', 'aspire', 'aspired', 'aspires', 'asquith', 'assassin', 'assassination', 'assassins', 'assault', 'assaultive', 'assaults', 'assayas', 'assed', 'assembled', 'assembly', 'assess', 'assets', 'assign', 'assignment', 'assimilated', 'associated', 'association', 'assume', 'assumes', 'assuming', 'assumption', 'assurance', 'assured', 'assuredly', 'assures', 'astonish', 'astonishing', 'astonishingly', 'astounding', 'astray', 'astringent', 'astute', 'asylum', 'at', 'ate', 'athlete', 'athletes', 'athletic', 'athleticism', 'atlantic', 'atmosphere', 'atmospheric', 'atmospherics', 'atop', 'atrocious', 'atrocities', 'attach', 'attached', 'attackers', 'attal', 'attempt', 'attempted', 'attempts', 'attending', 'attention', 'attentive', 'attics', 'attitude', 'attract', 'attracting', 'attraction', 'attractions', 'attractive', 'attracts', 'attributable', 'audacious', 'audacity', 'audiard', 'audience', 'audiences', 'auditorium', 'audrey', 'augmented', 'august', 'augustine', 'augustinian', 'aurelie', 'auspicious', 'austerity', 'austin', 'australia', 'australian', 'austrian', 'auteur', 'authentic', 'authentically', 'authenticate', 'authenticity', 'author', 'authority', 'autistic', 'auto', 'autobiographical', 'autocritique', 'automatic', 'automatically', 'autopsy', 'available', 'avalanche', 'avalanches', 'avant', 'avarice', 'avary', 'average', 'averse', 'aversion', 'avid', 'avoid', 'avoiding', 'avoids', 'avon', 'awake', 'awakening', 'awakens', 'award', 'awarded', 'awards', 'aware', 'awareness', 'awash', 'away', 'awe', 'awed', 'awesome', 'awful', 'awfully', 'awkward', 'awkwardly', 'awkwardness', 'awry', 'axel', 'ayres', 'ayurveda', 'baaaaaaaaad', 'babbitt', 'babies', 'baby', 'back', 'backbone', 'backdrop', 'backdrops', 'background', 'backgrounds', 'backhanded', 'backseat', 'backstage', 'backward', 'backwater', 'bad', 'badder', 'badly', 'badness', 'baffled', 'baffling', 'bag', 'bagatelle', 'baggage', 'bai', 'bailiwick', 'bailly', 'baio', 'baird', 'baked', 'baker', 'balance', 'balanced', 'balances', 'balancing', 'bale', 'balk', 'ball', 'ballerina', 'ballerinas', 'ballet', 'ballistic', 'ballot', 'ballroom', 'ballsy', 'balm', 'balto', 'balzac', 'banal', 'banality', 'band', 'banderas', 'bands', 'bang', 'banged', 'banger', 'bank', 'banking', 'bankrupt', 'banquet', 'banter', 'banzai', 'bar', 'baran', 'barbarian', 'barbarism', 'barbera', 'barbershop', 'barbs', 'bard', 'bare', 'barely', 'barf', 'bargain', 'baring', 'barker', 'barking', 'barn', 'barney', 'baroque', 'barrage', 'barred', 'barrel', 'barreled', 'barrels', 'barrie', 'barriers', 'barris', 'barrow', 'barry', 'barrymore', 'bart', 'bartleby', 'bartlett', 'base', 'baseball', 'based', 'basement', 'basest', 'bash', 'bashing', 'basic', 'basically', 'basis', 'bask', 'basketball', 'bath', 'bathos', 'bathtub', 'battered', 'batting', 'battle', 'battlefield', 'battles', 'bawdy', 'bazadona', 'be', 'beach', 'beachcombing', 'beaches', 'beacon', 'bean', 'bear', 'beard', 'bearing', 'bears', 'beast', 'beasts', 'beat', 'beaten', 'beating', 'beats', 'beautiful', 'beautifully', 'beauty', 'beavis', 'becalmed', 'became', 'because', 'become', 'becomes', 'becoming', 'bed', 'bedeviled', 'bedevilling', 'bedroom', 'bedside', 'bedtime', 'been', 'beer', 'beers', 'before', 'befuddled', 'began', 'begging', 'begin', 'beginners', 'beginning', 'beginnings', 'begins', 'begley', 'begrudge', 'beguiling', 'begun', 'behave', 'behaved', 'behaving', 'behavior', 'behind', 'behold', 'beijing', 'being', 'beings', 'belgium', 'belief', 'believability', 'believable', 'believe', 'believed', 'believer', 'believing', 'belly', 'belong', 'belongs', 'beloved', 'below', 'belt', 'ben', 'benchmark', 'bender', 'bending', 'beneath', 'benefit', 'benefited', 'benefits', 'benevolent', 'benigni', 'benjamins', 'benshan', 'bent', 'bentley', 'beresford', 'berg', 'bergman', 'bergmanesque', 'berlin', 'berling', 'bernal', 'bernard', 'berry', 'bertrand', 'beseechingly', 'beside', 'besotted', 'bespeaks', 'besson', 'best', 'bestial', 'bestowed', 'bestowing', 'bet', 'betrayal', 'bettany', 'better', 'betters', 'betting', 'between', 'beware', 'bewildered', 'bewilderingly', 'bewitched', 'beyond', 'bias', 'biased', 'bibbidy', 'bible', 'bickle', 'bid', 'bielinsky', 'big', 'bigelow', 'bigger', 'biggest', 'biggie', 'bike', 'bikes', 'bile', 'bilingual', 'bill', 'billed', 'billing', 'billy', 'binary', 'binoche', 'bio', 'biographical', 'biography', 'biologically', 'biopic', 'birmingham', 'birot', 'birthday', 'biscuit', 'bisset', 'bit', 'bitchy', 'bite', 'biter', 'biting', 'bits', 'bitten', 'bitter', 'bittersweet', 'biz', 'bizarre', 'bjarne', 'bjorkness', 'black', 'blacked', 'blacklight', 'blackout', 'blade', 'bladerunner', 'blah', 'blair', 'blame', 'blanchett', 'bland', 'blandness', 'blank', 'blanket', 'blanks', 'blarney', 'blasphemous', 'blast', 'blasting', 'blatant', 'blatantly', 'blaxploitation', 'blazing', 'blazingly', 'bleak', 'bled', 'bleed', 'blemishes', 'blend', 'blended', 'blender', 'bless', 'blessed', 'blimey', 'blimp', 'blind', 'bling', 'blip', 'blips', 'bliss', 'blisteringly', 'bloated', 'blob', 'block', 'blockbuster', 'blockbusters', 'blond', 'blonde', 'blood', 'bloodbath', 'blooded', 'bloodletting', 'bloodsucker', 'bloodwork', 'bloody', 'blow', 'blown', 'blowout', 'blue', 'bluer', 'blues', 'bluescreen', 'bluffs', 'blurry', 'blush', 'blushing', 'bluster', 'blutarsky', 'bluto', 'bmx', 'bo', 'board', 'boasting', 'boasts', 'boat', 'boatload', 'bob', 'bobbidi', 'bodacious', 'bode', 'bodice', 'bodied', 'bodies', 'bodily', 'body', 'boffo', 'bogdanich', 'bogdanovich', 'bogged', 'bogging', 'boggling', 'bogs', 'bogus', 'boho', 'boilerplate', 'boiling', 'boils', 'boisterous', 'bolado', 'bold', 'boldly', 'bolero', 'boll', 'bollywood', 'bolster', 'bolstered', 'bomb', 'bombastic', 'bombay', 'bombs', 'bon', 'bona', 'bond', 'bonding', 'bonds', 'bone', 'bones', 'bons', 'bonus', 'boobs', 'book', 'books', 'boom', 'boomers', 'boorish', 'boorishness', 'boost', 'boosted', 'boot', 'booths', 'boots', 'boozy', 'bop', 'bopper', 'border', 'bordering', 'borderline', 'borders', 'bore', 'bored', 'boredom', 'bores', 'boring', 'born', 'bornin', 'borrow', 'borrows', 'borscht', 'borstal', 'boss', 'boston', 'botched', 'botches', 'botching', 'both', 'bother', 'bothered', 'bothers', 'bots', 'bottom', 'bottomlessly', 'bought', 'bounces', 'bouncing', 'bouncy', 'bound', 'boundaries', 'boundary', 'bounds', 'bouquet', 'bourne', 'bout', 'bouts', 'bow', 'bowel', 'bowl', 'bowling', 'bowser', 'box', 'boxes', 'boy', 'boyd', 'boys', 'bracing', 'bracingly', 'brain', 'brainer', 'brainless', 'brainpower', 'brains', 'brainy', 'branagh', 'brand', 'brash', 'brat', 'brats', 'bratt', 'bratty', 'bravado', 'brave', 'braveheart', 'bravery', 'bravo', 'bravura', 'brawn', 'brawny', 'bray', 'brazenly', 'brazil', 'breach', 'bread', 'breadth', 'break', 'breakdown', 'breaking', 'breaks', 'breakthrough', 'breasts', 'breath', 'breathe', 'breathes', 'breathing', 'breathless', 'breathtaking', 'breathtakingly', 'brecht', 'breen', 'breezy', 'breheny', 'breitbart', 'brendan', 'brent', 'brian', 'bride', 'bridge', 'bridget', 'brief', 'bright', 'brightly', 'brilliance', 'brilliant', 'brilliantly', 'brim', 'brimming', 'brims', 'bring', 'bringing', 'brings', 'brink', 'brio', 'brisk', 'bristles', 'brit', 'british', 'britney', 'brits', 'brittle', 'broaches', 'broad', 'broadcast', 'broader', 'broadway', 'brockovich', 'broder', 'brogue', 'broke', 'broken', 'bromides', 'brooding', 'brooklyn', 'brooks', 'broomfield', 'brooms', 'brosnan', 'brother', 'brothers', 'brought', 'brow', 'brown', 'bruce', 'bruckheimer', 'bruckheimeresque', 'brush', 'brushes', 'brusqueness', 'brutal', 'brutality', 'brutally', 'bubba', 'bubble', 'bubbly', 'buck', 'buckaroo', 'bucked', 'bucks', 'budding', 'buddy', 'budget', 'bueller', 'buffed', 'buffeted', 'buffoons', 'buffs', 'bug', 'bugged', 'bugsy', 'build', 'building', 'builds', 'built', 'bulk', 'bull', 'bullets', 'bullfighters', 'bullock', 'bullseye', 'bullwinkle', 'bully', 'bumbling', 'bump', 'bumper', 'bumps', 'bunch', 'bundling', 'buoy', 'buoyant', 'burden', 'burdened', 'burgeoning', 'burger', 'buried', 'burke', 'burkina', 'burlap', 'burlesque', 'burn', 'burning', 'burningly', 'burns', 'burnt', 'burr', 'burrito', 'burst', 'burstein', 'bursting', 'bursts', 'buscemi', 'bush', 'bushels', 'business', 'businesses', 'busting', 'bustling', 'busts', 'busy', 'but', 'butt', 'butter', 'butterfingered', 'butterflies', 'butterworth', 'butthead', 'button', 'buy', 'buyers', 'buying', 'buzz', 'by', 'byatt', 'bygone', 'byler', 'bypass', 'bypassing', 'byzantine', 'ca', 'cable', 'cackles', 'cacoyannis', 'cad', 'caddyshack', 'caesar', 'caf', 'caffeinated', 'cage', 'cagney', 'caine', 'cake', 'cal', 'calamity', 'calculated', 'calculus', 'caliber', 'calibrated', 'calibre', 'call', 'callar', 'called', 'callow', 'calls', 'calm', 'calorie', 'calories', 'calvin', 'cam', 'camaraderie', 'came', 'cameo', 'cameos', 'camera', 'cameras', 'camouflage', 'camouflaging', 'camp', 'campaign', 'campanella', 'campfire', 'camps', 'campus', 'campy', 'can', 'canadian', 'cancer', 'candid', 'candles', 'candor', 'candy', 'canned', 'cannes', 'cannibal', 'cannon', 'canny', 'canon', 'cantet', 'canvas', 'capability', 'capable', 'capably', 'capacity', 'caper', 'capitalism', 'capitalize', 'capitalizes', 'capped', 'capra', 'capricious', 'captain', 'captions', 'captivates', 'captivating', 'captivatingly', 'captive', 'captives', 'captors', 'capture', 'captured', 'captures', 'capturing', 'car', 'card', 'cardboard', 'cardiac', 'cardoso', 'care', 'careening', 'career', 'careers', 'careful', 'carefully', 'careless', 'cares', 'caretakers', 'carey', 'caricature', 'caricatures', 'caring', 'carl', 'carlito', 'carmen', 'carmichael', 'carnivore', 'carol', 'carousel', 'carpenter', 'carpets', 'carr', 'carrey', 'carried', 'carries', 'carry', 'carrying', 'cars', 'cartons', 'cartoon', 'cartoonish', 'cartoons', 'caruso', 'carvey', 'cary', 'case', 'cases', 'cash', 'cashing', 'cassavetes', 'cassel', 'cast', 'casting', 'castle', 'castles', 'castrated', 'castro', 'casts', 'casual', 'casualties', 'cat', 'catalytic', 'catapulting', 'catastrophic', 'catch', 'catcher', 'catches', 'catching', 'categorize', 'category', 'caterer', 'catharsis', 'cathartic', 'catherine', 'catholic', 'caton', 'cattaneo', 'cattle', 'caught', 'cause', 'causes', 'cautionary', 'cautions', 'cavaradossi', 'caviezel', 'cavorting', 'cedar', 'celebrate', 'celebrates', 'celebration', 'celebrities', 'celebrity', 'cell', 'cello', 'cellophane', 'cellular', 'celluloid', 'censure', 'center', 'centered', 'centering', 'centers', 'central', 'centre', 'centuries', 'century', 'cerebral', 'certain', 'certainly', 'certified', 'ces', 'cesspool', 'cgi', 'ch', 'chabrol', 'chabrolian', 'chafing', 'chai', 'chaiken', 'chain', 'chair', 'challenge', 'challenges', 'challenging', 'chamber', 'champagne', 'champion', 'championship', 'chan', 'chance', 'chances', 'change', 'changes', 'changing', 'channel', 'channeling', 'chaos', 'chaotic', 'chaplin', 'character', 'characterisation', 'characterisations', 'characteristic', 'characteristically', 'characterization', 'characterizations', 'characterize', 'characterized', 'characterizes', 'characters', 'charade', 'chardonne', 'charge', 'charged', 'charisma', 'charismatic', 'charitable', 'charles', 'charlie', 'charlotte', 'charly', 'charm', 'charmer', 'charming', 'charmless', 'charms', 'chase', 'chases', 'chasing', 'chasm', 'chateau', 'chatty', 'chaykin', 'cheap', 'cheapen', 'cheapened', 'cheaper', 'cheapo', 'cheated', 'cheatfully', 'cheats', 'check', 'checking', 'checkout', 'cheech', 'cheek', 'cheeks', 'cheeky', 'cheer', 'cheerfully', 'cheering', 'cheery', 'cheese', 'cheesier', 'cheesiest', 'cheesy', 'chefs', 'chekhov', 'chelsea', 'chemically', 'chemistry', 'chen', 'cherish', 'cherry', 'chest', 'chew', 'chewing', 'chewy', 'chiaroscuro', 'chicago', 'chicanery', 'chick', 'chicken', 'chief', 'chiefly', 'child', 'childhood', 'childish', 'childlike', 'children', 'chilled', 'chiller', 'chilling', 'chillingly', 'chills', 'chilly', 'chimney', 'chimps', 'chin', 'china', 'chinese', 'chips', 'chirpy', 'chitchat', 'cho', 'chocolate', 'choice', 'choices', 'choke', 'chokes', 'chomp', 'chomps', 'chong', 'choose', 'chooses', 'chop', 'choppiness', 'choppy', 'chops', 'chopsocky', 'chord', 'chords', 'chore', 'choreographed', 'choreography', 'chosen', 'chou', 'chouraqui', 'chris', 'christ', 'christelle', 'christian', 'christianity', 'christmas', 'christopher', 'chronically', 'chronicle', 'chronicles', 'chuckle', 'chuckles', 'chump', 'church', 'churlish', 'churn', 'churns', 'cia', 'cimarron', 'cinderella', 'cinema', 'cinemantic', 'cinematic', 'cinematically', 'cinematographer', 'cinematography', 'circa', 'circle', 'circles', 'circuit', 'circular', 'circumstances', 'circumstantial', 'circus', 'cirulnick', 'citizen', 'city', 'civic', 'civilization', 'civilized', 'clad', 'claim', 'claims', 'claire', 'clamoring', 'clamorous', 'clancy', 'claptrap', 'clare', 'clarity', 'clash', 'clashing', 'class', 'classic', 'classical', 'classics', 'classification', 'classified', 'classify', 'classroom', 'claud', 'claude', 'clause', 'claustrophic', 'claustrophobia', 'claustrophobic', 'clayburgh', 'clean', 'cleaner', 'cleansing', 'clear', 'clearasil', 'clearly', 'cleavage', 'cleaver', 'cleaving', 'clerk', 'cletis', 'clever', 'cleverest', 'cleverly', 'cleverness', 'clich', 'cliche', 'cliched', 'cliches', 'clicking', 'clicks', 'clients', 'cliff', 'cliffhanger', 'climactic', 'climate', 'climax', 'climb', 'climbing', 'cling', 'clinic', 'clinical', 'clinically', 'clint', 'clips', 'clive', 'cloak', 'cloaked', 'cloaks', 'clock', 'clocks', 'clockstoppers', 'clones', 'clooney', 'close', 'closed', 'closely', 'closer', 'closest', 'closing', 'clothes', 'clothing', 'clouds', 'cloudy', 'clout', 'clown', 'clownish', 'cloying', 'cloyingly', 'club', 'clubs', 'clue', 'clueless', 'cluelessness', 'clumsily', 'clumsiness', 'clumsy', 'clung', 'clunker', 'clunky', 'clutch', 'clutching', 'clyde', 'co', 'coal', 'coarse', 'coast', 'coaster', 'coasting', 'coat', 'coated', 'cobbled', 'cockettes', 'cockeyed', 'cockney', 'cocoon', 'coda', 'code', 'codswallop', 'coen', 'coffee', 'coherent', 'coheres', 'cohesion', 'cohesive', 'coinage', 'coincidence', 'coke', 'cold', 'coldest', 'colgate', 'colin', 'collaboration', 'collaborative', 'collaborators', 'collage', 'collapse', 'collapses', 'collar', 'collateral', 'collect', 'collected', 'collection', 'collective', 'collectively', 'college', 'collide', 'collie', 'collinwood', 'collision', 'colonialism', 'color', 'colored', 'colorful', 'colorfully', 'colors', 'colosseum', 'colour', 'coloured', 'coltish', 'columbine', 'columbus', 'column', 'com', 'coma', 'comatose', 'combat', 'combination', 'combine', 'combined', 'combines', 'combustible', 'combustion', 'come', 'comedian', 'comedic', 'comedically', 'comedies', 'comedy', 'comes', 'comfort', 'comfortable', 'comfortably', 'comforting', 'comfy', 'comic', 'comically', 'comics', 'coming', 'command', 'commander', 'commands', 'commend', 'commentary', 'commenting', 'comments', 'commerce', 'commercial', 'commercialism', 'commiserating', 'committed', 'common', 'commonplace', 'communicating', 'communication', 'communications', 'community', 'companion', 'companionable', 'company', 'compare', 'compared', 'comparing', 'comparison', 'compassion', 'compassionate', 'compassionately', 'compelled', 'compelling', 'compellingly', 'compels', 'compendium', 'compensate', 'competence', 'competent', 'competently', 'competing', 'competition', 'complacency', 'complain', 'complaining', 'complaint', 'complaints', 'complete', 'completely', 'completion', 'completists', 'complex', 'complexities', 'complexity', 'complexly', 'complicated', 'complications', 'compliment', 'components', 'composed', 'composer', 'composition', 'composure', 'comprehend', 'comprehension', 'compressed', 'comprise', 'compromise', 'compromised', 'compromising', 'compulsive', 'compulsively', 'computer', 'computerized', 'con', 'conan', 'conceal', 'concealment', 'conceit', 'conceited', 'conceits', 'conceive', 'conceived', 'concentrates', 'concentrating', 'concept', 'conception', 'concepts', 'conceptual', 'conceptually', 'concern', 'concerned', 'concerning', 'concerns', 'concert', 'concession', 'concludes', 'conclusion', 'conclusions', 'conclusive', 'concocted', 'concoction', 'concrete', 'concubine', 'condensed', 'condescending', 'condescension', 'condition', 'conditioning', 'conditions', 'conduct', 'conducted', 'conduits', 'condundrum', 'confection', 'confessional', 'confessions', 'confidence', 'confident', 'confidently', 'configurations', 'confirms', 'conflagration', 'conflict', 'conflicts', 'confluence', 'conforms', 'confront', 'confrontations', 'confronting', 'confuse', 'confused', 'confuses', 'confusing', 'confusion', 'congeniality', 'congratulate', 'conjure', 'conjures', 'connect', 'connected', 'connection', 'connections', 'conned', 'conniving', 'connoisseurs', 'conquer', 'conquers', 'conrad', 'cons', 'conscience', 'conscious', 'consciously', 'consciousness', 'consequence', 'consequences', 'conservative', 'consider', 'considerable', 'considerably', 'considered', 'considering', 'considers', 'consigned', 'consistency', 'consistent', 'consistently', 'consists', 'consolation', 'consoled', 'conspicuous', 'conspicuously', 'conspiracies', 'conspiracy', 'conspiratorial', 'constant', 'constantly', 'constraints', 'constricted', 'constrictive', 'construct', 'constructed', 'constructs', 'consumed', 'consumerist', 'consumers', 'consuming', 'consummate', 'contact', 'contain', 'contained', 'contains', 'contemplation', 'contemplative', 'contemporaries', 'contemporary', 'contempt', 'contemptible', 'contender', 'content', 'contentedly', 'contentious', 'contest', 'context', 'continue', 'continues', 'continuing', 'continuity', 'continuum', 'contorting', 'contradiction', 'contradictory', 'contradicts', 'contraption', 'contrast', 'contrasting', 'contribute', 'contributed', 'contribution', 'contributions', 'contrivance', 'contrivances', 'contrived', 'contriving', 'control', 'controlling', 'controversy', 'contructed', 'convenient', 'convention', 'conventional', 'conventions', 'conversation', 'conversational', 'conversations', 'converts', 'convey', 'conveying', 'conveyor', 'conviction', 'convictions', 'convince', 'convinced', 'convincing', 'convoluted', 'cook', 'cooker', 'cookie', 'cooks', 'cool', 'cooler', 'cooly', 'cooper', 'coos', 'cop', 'cope', 'copious', 'coppola', 'cops', 'copy', 'copycat', 'cor', 'corbett', 'corcuera', 'core', 'coriat', 'corn', 'cornball', 'corner', 'corners', 'corniest', 'cornpone', 'corny', 'corporate', 'corpse', 'corpus', 'correctly', 'corrupt', 'corruption', 'cosa', 'cost', 'costner', 'costume', 'costumes', 'costuming', 'cotton', 'couch', 'could', 'count', 'counter', 'counterparts', 'counterproductive', 'countless', 'country', 'counts', 'county', 'couple', 'coupled', 'couples', 'coupling', 'courage', 'courageous', 'course', 'courtesy', 'courtroom', 'courtship', 'couture', 'cover', 'covers', 'cow', 'cowardly', 'cowering', 'cows', 'cox', 'cq', 'crack', 'cracked', 'crackle', 'crackles', 'cracks', 'cradles', 'craft', 'crafted', 'craftsmanship', 'crafty', 'craig', 'cram', 'crammed', 'crane', 'cranked', 'cranky', 'crap', 'crappy', 'crapulence', 'crash', 'crashing', 'crass', 'crassly', 'crassness', 'crave', 'craven', 'crawlies', 'crawling', 'crawls', 'crawly', 'crazed', 'craziness', 'crazy', 'cream', 'create', 'created', 'creates', 'creating', 'creation', 'creations', 'creative', 'creativity', 'creator', 'creators', 'creature', 'creatures', 'credibility', 'credible', 'credit', 'credited', 'credits', 'credulity', 'credulous', 'creep', 'creepiest', 'creepiness', 'creeps', 'creepy', 'cremaster', 'crematorium', 'crew', 'cricket', 'crime', 'crimen', 'crimes', 'criminal', 'criminals', 'cringe', 'cringing', 'crippled', 'crisis', 'crisp', 'crispin', 'criterion', 'critic', 'critical', 'critically', 'criticism', 'criticizes', 'criticizing', 'critics', 'critique', 'critiquing', 'crocodile', 'cronenberg', 'crooks', 'crooning', 'cross', 'crosses', 'crossing', 'crossover', 'crossroads', 'crowd', 'crowds', 'crucial', 'crucifixion', 'crude', 'crudities', 'crudity', 'crudup', 'cruel', 'cruelty', 'crumb', 'crummy', 'crush', 'crushing', 'crushingly', 'cry', 'crypt', 'crystal', 'crystallize', 'cuaron', 'cub', 'cuba', 'cuban', 'cube', 'cue', 'cuisine', 'culkin', 'culled', 'cult', 'cultivated', 'cultural', 'culture', 'cultures', 'cumbersome', 'cumulative', 'cunning', 'cup', 'curdling', 'cure', 'curiosity', 'curious', 'curiously', 'curling', 'curmudgeon', 'current', 'currently', 'curse', 'curtain', 'curtains', 'curtsy', 'curve', 'curves', 'cusack', 'cushion', 'customarily', 'cut', 'cute', 'cuteness', 'cutes', 'cutesy', 'cuts', 'cutter', 'cutthroat', 'cutting', 'cyber', 'cylinders', 'cynic', 'cynical', 'cynicism', 'da', 'dabbles', 'dad', 'dadaist', 'dafoe', 'daft', 'dahmer', 'daily', 'damage', 'damaged', 'damme', 'damn', 'damned', 'damning', 'damon', 'dampened', 'damsel', 'dana', 'danang', 'dance', 'dancers', 'dances', 'dancing', 'danger', 'dangerous', 'dangerously', 'danish', 'danny', 'dante', 'dare', 'dared', 'daredevils', 'dares', 'daring', 'daringly', 'dark', 'darker', 'darkest', 'darkly', 'darkness', 'darling', 'das', 'dash', 'dashing', 'dass', 'date', 'dated', 'dates', 'daughter', 'daughters', 'dave', 'david', 'davies', 'davis', 'dawn', 'dawson', 'day', 'daydreams', 'days', 'daytime', 'dazed', 'dazzle', 'dazzling', 'de', 'dead', 'deadening', 'deadly', 'deadpan', 'deafening', 'deal', 'dealer', 'dealing', 'deals', 'dean', 'dear', 'dearly', 'dearth', 'death', 'deathly', 'deaths', 'debate', 'debated', 'debris', 'debt', 'debts', 'debut', 'debuts', 'decade', 'decadent', 'decades', 'decay', 'deceit', 'decency', 'decent', 'deception', 'deceptions', 'deceptively', 'decibel', 'decide', 'decided', 'decidedly', 'decides', 'decipherable', 'decision', 'decisive', 'decisively', 'deckhand', 'decline', 'decommissioned', 'decomposition', 'decorating', 'decter', 'dedication', 'deeds', 'deep', 'deepa', 'deeper', 'deepest', 'deeply', 'deer', 'defeated', 'defend', 'defensible', 'defiance', 'defiant', 'defiantly', 'deficit', 'defies', 'define', 'defined', 'defines', 'defining', 'definite', 'definitely', 'definition', 'definitive', 'deflated', 'deft', 'deftly', 'defuses', 'defying', 'degenerates', 'degraded', 'degrades', 'degrading', 'degree', 'dehumanizing', 'deja', 'del', 'delay', 'delectable', 'delete', 'deleting', 'delhi', 'deliberate', 'deliberately', 'deliberateness', 'delicate', 'delicately', 'delicious', 'deliciously', 'delight', 'delightful', 'delightfully', 'delights', 'delineate', 'delinquent', 'delirious', 'deliriously', 'deliver', 'delivered', 'delivering', 'delivers', 'delivery', 'delusion', 'delusional', 'delusions', 'delves', 'delving', 'demand', 'demanding', 'demands', 'demented', 'demi', 'demise', 'demme', 'democracie', 'democracies', 'democracy', 'demographic', 'demographically', 'demonic', 'demons', 'demonstrate', 'demonstrated', 'demonstrates', 'demonstrating', 'denial', 'denied', 'deniro', 'denis', 'denlopp', 'denouement', 'denouements', 'dense', 'densely', 'densest', 'dentist', 'deny', 'denying', 'denzel', 'deok', 'depalma', 'department', 'departments', 'departs', 'departure', 'dependable', 'dependence', 'depending', 'depends', 'depict', 'depicted', 'depiction', 'depictions', 'depicts', 'depleted', 'deportment', 'deposited', 'depraved', 'depravity', 'deprecating', 'depress', 'depressed', 'depressing', 'depressingly', 'depression', 'depth', 'depths', 'derailed', 'deranged', 'derek', 'derisions', 'derisive', 'derivative', 'derive', 'derived', 'derrida', 'derring', 'descends', 'describe', 'describes', 'describing', 'description', 'descriptions', 'desecrations', 'desert', 'deserve', 'deserved', 'deserves', 'deserving', 'desiccated', 'design', 'designed', 'desirable', 'desire', 'desired', 'desires', 'desolate', 'despair', 'despairing', 'desperate', 'desperately', 'desperation', 'despicable', 'despite', 'desplat', 'destin', 'destination', 'destined', 'destroy', 'destroying', 'destruction', 'destructive', 'desultory', 'detached', 'detail', 'detailed', 'detailing', 'details', 'detective', 'detention', 'determination', 'determine', 'determined', 'detract', 'detractors', 'deuces', 'devastated', 'devastating', 'devastatingly', 'devastation', 'develop', 'developed', 'developers', 'development', 'developmentally', 'developments', 'develops', 'device', 'devices', 'devils', 'devious', 'deviously', 'devito', 'devoid', 'devolves', 'devos', 'devoted', 'devotedly', 'devotees', 'dewy', 'dey', 'di', 'diabolical', 'dialog', 'dialogue', 'diamond', 'diane', 'diapers', 'diaries', 'diary', 'diatribes', 'diaz', 'dicaprio', 'dichotomy', 'dick', 'dickens', 'dickensian', 'dictates', 'dictator', 'did', 'didactic', 'didacticism', 'die', 'diego', 'dies', 'diesel', 'difference', 'differences', 'different', 'differently', 'difficult', 'difficulty', 'dig', 'digest', 'diggs', 'digital', 'digitally', 'dignity', 'digs', 'dilemma', 'dilettante', 'dilutes', 'dim', 'dime', 'dimension', 'dimensional', 'dimensions', 'dimwits', 'diner', 'dinner', 'dip', 'diplomacy', 'dipped', 'dips', 'dire', 'direct', 'directed', 'directing', 'direction', 'directionless', 'directions', 'directly', 'director', 'directorial', 'directors', 'directs', 'dirgelike', 'dirty', 'disabled', 'disadvantage', 'disagree', 'disappoint', 'disappointed', 'disappointing', 'disappointingly', 'disappointment', 'disappointments', 'disappoints', 'disapproval', 'disarmingly', 'disaster', 'disbelief', 'discerned', 'discernible', 'discerning', 'discipline', 'disciplined', 'discloses', 'discomfort', 'disconcertingly', 'disconnection', 'discontent', 'discordant', 'discourse', 'discover', 'discovering', 'discovery', 'discreet', 'discursive', 'discuss', 'discussed', 'discussion', 'disdain', 'disease', 'disgracefully', 'disguise', 'disguised', 'disguising', 'disgust', 'disgusted', 'disgusting', 'dish', 'dishes', 'dishonest', 'dishonesty', 'disingenuous', 'disintegrates', 'disintegrating', 'disjointed', 'dislikable', 'dislocation', 'dismal', 'dismally', 'dismantle', 'dismay', 'dismember', 'dismiss', 'dismissed', 'dismissive', 'disney', 'disorientated', 'disparate', 'dispassionate', 'dispel', 'displacement', 'display', 'displays', 'disposable', 'disposible', 'disposition', 'dispossessed', 'disquieting', 'disquietingly', 'disregard', 'disreputable', 'disservice', 'dissing', 'dissipated', 'distance', 'distanced', 'distances', 'distant', 'distasteful', 'distillation', 'distinct', 'distinction', 'distinctions', 'distinctive', 'distinctly', 'distinguish', 'distinguished', 'distort', 'distorts', 'distract', 'distracted', 'distraction', 'distractions', 'distress', 'distressingly', 'disturb', 'disturbance', 'disturbed', 'disturbing', 'ditched', 'ditsy', 'diva', 'dive', 'diverges', 'diverse', 'diversion', 'diversions', 'diversity', 'diverting', 'divertissement', 'divided', 'divine', 'divisions', 'dizzy', 'do', 'doa', 'doc', 'doctor', 'doctorate', 'docu', 'document', 'documentarian', 'documentarians', 'documentaries', 'documentary', 'documented', 'dodge', 'dodger', 'does', 'dog', 'dognini', 'dogs', 'dogtown', 'doing', 'doings', 'doles', 'dollar', 'dollars', 'dolls', 'dolorous', 'domestic', 'dominated', 'domineering', 'don', 'donald', 'done', 'dong', 'donna', 'donovan', 'doo', 'doodled', 'doofus', 'dooper', 'door', 'doors', 'doorstep', 'dopey', 'doris', 'dorkier', 'dorm', 'dosage', 'dose', 'doses', 'doshas', 'dot', 'doting', 'dots', 'dotted', 'double', 'doubles', 'doubling', 'doubt', 'doubtful', 'doubts', 'dough', 'douglas', 'dour', 'dover', 'down', 'downbeat', 'downer', 'downfall', 'downhill', 'downplaying', 'downplays', 'downright', 'downsizing', 'downtown', 'downward', 'doyle', 'doze', 'dozen', 'dozing', 'dr', 'drab', 'draft', 'drag', 'dragged', 'draggy', 'dragon', 'dragonfly', 'dragons', 'drags', 'drain', 'drains', 'drama', 'dramas', 'dramatic', 'dramatically', 'dramatics', 'dramatization', 'dramatize', 'dramatized', 'dramaturgy', 'dramedy', 'drang', 'drastic', 'draw', 'drawing', 'drawings', 'drawn', 'draws', 'dreadful', 'dreadfully', 'dreadfulness', 'dream', 'dreamed', 'dreaming', 'dreamlike', 'dreams', 'dreamscape', 'dreamworks', 'dreamy', 'dreary', 'dreck', 'dredge', 'drek', 'drenched', 'dress', 'dressed', 'dresses', 'dressing', 'drew', 'dridi', 'drifts', 'drill', 'drink', 'drinking', 'dripping', 'drive', 'drivel', 'driven', 'driver', 'drives', 'driving', 'droll', 'droning', 'drooling', 'drop', 'dropped', 'dropping', 'drops', 'drown', 'drowned', 'drowns', 'drowsy', 'drug', 'drugs', 'drum', 'drumbeat', 'drumline', 'drumming', 'drunk', 'drunken', 'dry', 'drying', 'dual', 'dubbed', 'dubious', 'duck', 'duckling', 'ducts', 'dud', 'dude', 'duds', 'dudsville', 'due', 'duel', 'dug', 'duke', 'duking', 'dull', 'dullard', 'dullest', 'dullingly', 'dullness', 'dumas', 'dumb', 'dumbed', 'dumbness', 'dumbo', 'dumplings', 'dungeons', 'dungpile', 'dunk', 'dunno', 'dunst', 'durable', 'duration', 'during', 'dust', 'dustbin', 'dustin', 'dusty', 'duties', 'dutiful', 'duty', 'duvall', 'dv', 'dvd', 'dwells', 'dying', 'dylan', 'dynamic', 'dynamics', 'dynamism', 'dynamite', 'dysfunctional', 'dyslexia', 'each', 'eager', 'eagle', 'ear', 'earlier', 'early', 'earmarks', 'earn', 'earned', 'earnest', 'earnestness', 'earnhart', 'earns', 'earplugs', 'ears', 'earth', 'earthy', 'ease', 'easier', 'easily', 'east', 'eastwood', 'easy', 'eat', 'eating', 'eats', 'ebullient', 'eccentric', 'eccentricity', 'eccentrics', 'echelons', 'echo', 'echoes', 'ecks', 'eclair', 'ecological', 'economic', 'economical', 'economics', 'ecstasy', 'ed', 'eddie', 'edge', 'edged', 'edges', 'edgy', 'edifying', 'edited', 'editing', 'edition', 'editor', 'editorial', 'edits', 'educates', 'education', 'educational', 'edward', 'eee', 'eerie', 'eerily', 'effect', 'effecting', 'effective', 'effectively', 'effects', 'efficiently', 'effort', 'effortless', 'effortlessly', 'efforts', 'efteriades', 'ego', 'egomaniac', 'egregious', 'eh', 'eight', 'eighth', 'eighties', 'eileen', 'eisenhower', 'eisenstein', 'either', 'el', 'elaborate', 'elbowed', 'elbows', 'elder', 'elderly', 'elect', 'election', 'electoral', 'electric', 'electrocute', 'electronic', 'elegance', 'elegant', 'elegantly', 'element', 'elemental', 'elements', 'elephant', 'elevate', 'elevated', 'elevates', 'eleven', 'elfriede', 'elicit', 'elicited', 'elie', 'elite', 'elizabeth', 'elizabethans', 'ellen', 'elling', 'elliptically', 'elm', 'eloquence', 'eloquent', 'else', 'elsewhere', 'eludes', 'elusive', 'elves', 'elvira', 'elvis', 'em', 'emaciated', 'emailed', 'embalmed', 'embarking', 'embarrassed', 'embarrassingly', 'embarrassment', 'embellishment', 'embodies', 'embody', 'embrace', 'embraced', 'embraces', 'embracing', 'embroils', 'emerge', 'emergence', 'emergency', 'emerges', 'emerging', 'eminently', 'emotion', 'emotional', 'emotionally', 'emotions', 'empathizes', 'empathy', 'emperor', 'emphasis', 'emphasising', 'emphasized', 'emphasizes', 'emphasizing', 'emphatic', 'empire', 'employ', 'employment', 'employs', 'empowerment', 'emptiness', 'empty', 'emulates', 'enabling', 'enacted', 'enactments', 'enamored', 'enchanting', 'enchantment', 'encompassing', 'encounter', 'encountered', 'encounters', 'encourage', 'encourages', 'encouraging', 'encumbers', 'end', 'endear', 'endearing', 'endeavor', 'endeavour', 'ended', 'ending', 'endings', 'endless', 'endlessly', 'ends', 'endurance', 'endure', 'enduring', 'energetic', 'energizes', 'energy', 'enervating', 'enforced', 'enforcement', 'engage', 'engaged', 'engages', 'engaging', 'engagingly', 'engine', 'engineering', 'england', 'english', 'engorged', 'engross', 'engrossing', 'engulfed', 'enhanced', 'enhances', 'enigma', 'enigmatic', 'enjoy', 'enjoyable', 'enjoyably', 'enjoyed', 'enjoying', 'enjoyment', 'enjoys', 'enlightening', 'enlightenment', 'enlivens', 'ennui', 'enormous', 'enormously', 'enough', 'enriched', 'ensemble', 'ensnare', 'ensues', 'ensures', 'enter', 'entered', 'entering', 'enterprise', 'enters', 'entertain', 'entertained', 'entertaining', 'entertainingly', 'entertainment', 'entertainments', 'entertains', 'enthrall', 'enthralling', 'enthusiasm', 'enthusiasms', 'enthusiastic', 'enthusiasts', 'enticing', 'entire', 'entirely', 'entitled', 'entr', 'entranced', 'entrapment', 'entree', 'entry', 'entwined', 'enveloping', 'envelops', 'environment', 'environmental', 'environments', 'environs', 'epic', 'epicenter', 'epics', 'epiphanies', 'epiphany', 'episode', 'episodes', 'episodic', 'eponymous', 'epps', 'equal', 'equalizer', 'equally', 'equals', 'equate', 'equation', 'equations', 'equilibrium', 'equipment', 'equipped', 'equivalent', 'equlibrium', 'er', 'era', 'eric', 'erin', 'ernest', 'eroded', 'eroti', 'erotic', 'erotically', 'eroticized', 'erratic', 'errol', 'error', 'errors', 'escapade', 'escapades', 'escape', 'escaped', 'escapes', 'escapism', 'escapist', 'eschews', 'escort', 'esoteric', 'especially', 'espionage', 'espite', 'espn', 'esque', 'essay', 'essayist', 'essence', 'essential', 'essentially', 'establish', 'established', 'establishes', 'establishing', 'establishment', 'esteem', 'esteemed', 'estela', 'esther', 'estranged', 'et', 'etc', 'eternal', 'eternally', 'eternity', 'ethan', 'ethereal', 'ethical', 'ethics', 'ethnic', 'ethnicities', 'ethnography', 'ethos', 'etre', 'eudora', 'eun', 'euphemism', 'euphoria', 'europe', 'european', 'evacuations', 'evade', 'evanescent', 'evans', 'evaporates', 'evasive', 'eve', 'evelyn', 'even', 'evening', 'evenings', 'evenly', 'event', 'eventful', 'events', 'eventual', 'eventually', 'ever', 'everett', 'everlyn', 'every', 'everybody', 'everyday', 'everyman', 'everyone', 'everything', 'everywhere', 'eviction', 'evidence', 'evident', 'evil', 'evocative', 'evoke', 'evokes', 'evolution', 'evolves', 'ex', 'exact', 'exactly', 'exaggerated', 'exaggeration', 'exalted', 'exalts', 'examination', 'examine', 'examines', 'example', 'examples', 'exasperating', 'exasperatingly', 'exceeding', 'exceedingly', 'exceeds', 'excellence', 'excellent', 'excels', 'except', 'excepting', 'exception', 'exceptional', 'exceptionally', 'exceptions', 'excess', 'excesses', 'exchange', 'excite', 'excited', 'excitement', 'excites', 'exciting', 'exclamation', 'excruciating', 'excruciatingly', 'excursion', 'excuse', 'executed', 'execution', 'executive', 'executives', 'exercise', 'exercises', 'exhausted', 'exhaustingly', 'exhaustion', 'exhibit', 'exhibitionism', 'exhibits', 'exhilarating', 'exist', 'existed', 'existence', 'existent', 'existential', 'existentialism', 'existing', 'exists', 'exit', 'exotic', 'exoticism', 'expand', 'expands', 'expansion', 'expect', 'expectant', 'expectation', 'expectations', 'expected', 'expecting', 'expects', 'expense', 'expensive', 'experience', 'experienced', 'experiences', 'experiment', 'experimental', 'expert', 'expertly', 'expiration', 'explain', 'explanation', 'explode', 'explodes', 'exploit', 'exploitation', 'exploitative', 'exploiting', 'exploitive', 'exploits', 'exploration', 'explore', 'explores', 'exploring', 'explosion', 'explosions', 'explosive', 'exposes', 'exposition', 'expository', 'exposure', 'express', 'expressing', 'expression', 'expressionist', 'expressionistic', 'expressions', 'expressive', 'expressively', 'expressiveness', 'exquisite', 'exquisitely', 'extended', 'extends', 'extension', 'extensive', 'extent', 'exterior', 'exterminator', 'extra', 'extracting', 'extraordinarily', 'extraordinary', 'extravagant', 'extravagantly', 'extravaganza', 'extreme', 'extremely', 'extremes', 'extremists', 'extremities', 'exuberance', 'exuberantly', 'exxon', 'eye', 'eyeballs', 'eyed', 'eyelids', 'eyes', 'eyre', 'fabian', 'fable', 'fabric', 'fabuleux', 'fabulous', 'fabulousness', 'facade', 'facades', 'face', 'faced', 'faces', 'facial', 'facile', 'facing', 'fact', 'factor', 'factory', 'facts', 'fade', 'faded', 'fagioli', 'fai', 'fail', 'failed', 'failing', 'failings', 'fails', 'failure', 'faint', 'fair', 'fairies', 'fairlane', 'fairly', 'fairy', 'fairytale', 'faith', 'faithful', 'fake', 'falcon', 'fall', 'fallen', 'fallibility', 'fallible', 'falling', 'fallon', 'falls', 'false', 'falsehoods', 'faltering', 'falters', 'fame', 'famed', 'familial', 'familiar', 'familiarity', 'families', 'family', 'famine', 'famous', 'famuyiwa', 'fan', 'fanatical', 'fanciful', 'fancy', 'fang', 'fans', 'fantasies', 'fantasma', 'fantasti', 'fantastic', 'fantastically', 'fantasy', 'far', 'farce', 'farcical', 'farcically', 'fare', 'farenheit', 'farrelly', 'fart', 'farts', 'fascinate', 'fascinates', 'fascinating', 'fascination', 'fashion', 'fashioned', 'fashioning', 'faso', 'fast', 'fastballs', 'faster', 'fat', 'fatal', 'fatalism', 'fate', 'fateful', 'father', 'fathers', 'fathom', 'fatter', 'fault', 'faults', 'favor', 'favorably', 'favorite', 'favors', 'favourite', 'fax', 'fear', 'feardotcom', 'fearless', 'fearlessly', 'fears', 'feast', 'feat', 'feathers', 'feature', 'features', 'featuring', 'feces', 'feeble', 'feeds', 'feel', 'feeling', 'feelings', 'feels', 'fees', 'feet', 'feisty', 'felinni', 'fell', 'fellow', 'fellowship', 'felt', 'female', 'feminine', 'feminist', 'fence', 'fencing', 'feral', 'ferocity', 'ferrara', 'ferrera', 'ferris', 'fertile', 'fertility', 'fervently', 'fessenden', 'fest', 'festers', 'festival', 'fests', 'fetched', 'fetid', 'fetishistic', 'few', 'fewer', 'fi', 'fiascos', 'fiction', 'fictional', 'fiddle', 'fide', 'fidel', 'field', 'fiendishly', 'fiennes', 'fierce', 'fiery', 'fifteen', 'fifth', 'fight', 'fighters', 'fighting', 'fights', 'figure', 'figured', 'figures', 'figuring', 'files', 'fill', 'filled', 'filler', 'fillers', 'filling', 'fillm', 'fills', 'film', 'filmed', 'filmgoers', 'filmgoing', 'filming', 'filmmaker', 'filmmakers', 'filmmaking', 'films', 'fils', 'filter', 'filth', 'final', 'finale', 'finally', 'finch', 'fincher', 'find', 'finding', 'finds', 'fine', 'finely', 'finest', 'finger', 'fingered', 'fingers', 'finish', 'finished', 'finishing', 'fire', 'fireballs', 'fires', 'fireworks', 'firing', 'firmer', 'firmly', 'first', 'firsthand', 'firth', 'fish', 'fisher', 'fishy', 'fisk', 'fisted', 'fit', 'fitfully', 'fits', 'fitting', 'five', 'fix', 'fixated', 'fixating', 'fizz', 'fizzability', 'fizzle', 'flabby', 'flaccid', 'flag', 'flagellation', 'flagrantly', 'flailing', 'flails', 'flair', 'flakiness', 'flam', 'flamboyant', 'flame', 'flash', 'flashback', 'flashbacks', 'flashbulb', 'flashes', 'flashy', 'flat', 'flatly', 'flatman', 'flattened', 'flatter', 'flatula', 'flatulence', 'flavor', 'flavorful', 'flavorless', 'flavour', 'flavours', 'flaw', 'flawed', 'flawless', 'flaws', 'flck', 'fleder', 'fledged', 'fledgling', 'fleeing', 'fleet', 'fleeting', 'flesh', 'fleshed', 'flibbertigibbet', 'flick', 'flickering', 'flicks', 'flies', 'flight', 'flim', 'flimsier', 'flimsy', 'fling', 'flinging', 'flip', 'flippant', 'flirts', 'floats', 'flood', 'floor', 'flop', 'flopped', 'floria', 'florid', 'floundering', 'flounders', 'flourish', 'flourishes', 'flow', 'flower', 'flowering', 'flowers', 'flowery', 'flows', 'floyd', 'fluent', 'fluff', 'fluffy', 'fluid', 'fluidity', 'fluke', 'flung', 'flurries', 'flush', 'fluttering', 'fluxing', 'fly', 'flying', 'focus', 'focused', 'focuses', 'focusing', 'fogging', 'foibles', 'folk', 'folks', 'folksy', 'folktales', 'follies', 'follow', 'followed', 'followers', 'following', 'follows', 'folly', 'fondly', 'fontaine', 'foo', 'food', 'fool', 'foolish', 'footage', 'footed', 'footnote', 'for', 'forbidden', 'force', 'forced', 'forceful', 'forcefully', 'forcefulness', 'forces', 'forcing', 'ford', 'foreground', 'foreign', 'foreman', 'foremost', 'forest', 'forever', 'forewarned', 'forget', 'forgets', 'forgettable', 'forgettably', 'forgivable', 'forgive', 'forgiveness', 'forgoes', 'forgot', 'forgotten', 'form', 'formal', 'formalism', 'format', 'formed', 'former', 'formidable', 'forming', 'forms', 'formula', 'formulaic', 'formuliac', 'forth', 'forthright', 'fortify', 'fortunately', 'fortune', 'forty', 'forum', 'foster', 'foul', 'found', 'foundation', 'foundering', 'founders', 'founding', 'four', 'fourteen', 'fourth', 'fraction', 'fragile', 'fragmentary', 'fragmented', 'frailty', 'frame', 'frames', 'framework', 'franc', 'france', 'franchise', 'francisco', 'franco', 'frank', 'frankenstein', 'frankie', 'franklin', 'frankly', 'frat', 'freak', 'freakish', 'freaks', 'freakshow', 'freaky', 'fred', 'freddie', 'freddy', 'free', 'freedom', 'freely', 'freeman', 'freezers', 'frei', 'freight', 'freighter', 'french', 'frenetic', 'frequent', 'frequently', 'fresh', 'freshening', 'freshly', 'freshman', 'freshness', 'fresnadillo', 'fret', 'freud', 'freudianism', 'freundlich', 'frida', 'friday', 'fried', 'friel', 'friend', 'friendly', 'friends', 'friendship', 'friendships', 'friggin', 'fright', 'frighten', 'frightening', 'frighteningly', 'frightfest', 'frightful', 'frills', 'fringe', 'fringes', 'frissons', 'frittered', 'frolic', 'from', 'front', 'frontal', 'frontman', 'frosting', 'frosty', 'frothing', 'frothy', 'frozen', 'fruit', 'fruition', 'frustrated', 'frustrates', 'frustrating', 'frustratingly', 'frustration', 'frustrations', 'fu', 'fuddled', 'fudges', 'fuel', 'fueled', 'fuelled', 'fuhrman', 'fulfill', 'fulfilling', 'fulford', 'full', 'fullness', 'fully', 'fumbled', 'fumbles', 'fun', 'function', 'functions', 'fundamentally', 'fundamentals', 'funeral', 'funk', 'funky', 'funnier', 'funniest', 'funniness', 'funny', 'funnybone', 'furious', 'furiously', 'further', 'fury', 'fuse', 'fused', 'fuss', 'fussing', 'fussy', 'fustily', 'fusty', 'futile', 'futility', 'future', 'futuristic', 'fuzziness', 'fuzzy', 'ga', 'gabbiest', 'gadgets', 'gag', 'gaghan', 'gags', 'gaiety', 'gain', 'gained', 'gaining', 'gainsbourg', 'gaitskill', 'galinsky', 'gall', 'galled', 'gallery', 'gallic', 'gallo', 'gamble', 'gambles', 'game', 'games', 'gamut', 'gandalf', 'gander', 'ganesh', 'gang', 'gangs', 'gangster', 'gantz', 'gap', 'gaping', 'gaps', 'garage', 'garbage', 'garbled', 'garc', 'garcia', 'garde', 'garden', 'garish', 'garner', 'garnered', 'garth', 'gary', 'gas', 'gasp', 'gasping', 'gates', 'gator', 'gaudy', 'gauge', 'gaunt', 'gave', 'gawky', 'gay', 'gaye', 'gays', 'gaze', 'gear', 'geared', 'geeked', 'geeks', 'gel', 'gelati', 'gem', 'gender', 'general', 'generalities', 'generally', 'generals', 'generate', 'generated', 'generates', 'generation', 'generational', 'generic', 'generosity', 'generous', 'genevieve', 'genial', 'geniality', 'genitals', 'genius', 'genre', 'genres', 'genteel', 'gentle', 'gentlemen', 'gently', 'genuine', 'genuinely', 'geographical', 'george', 'georgia', 'gere', 'geriatric', 'german', 'germanic', 'gestalt', 'gesture', 'gesturing', 'get', 'gets', 'getting', 'ghastly', 'gheorghiu', 'ghetto', 'ghost', 'ghostbusters', 'gianni', 'giannini', 'giant', 'gibson', 'giddy', 'gidget', 'gifford', 'gift', 'gifted', 'gifts', 'giggle', 'giggles', 'giggling', 'gimmick', 'gimmicks', 'gimmicky', 'girardot', 'girl', 'girlfriend', 'girlfriends', 'girlish', 'girls', 'give', 'given', 'gives', 'giving', 'glamorous', 'glamour', 'glance', 'glancing', 'glaring', 'glass', 'glasses', 'glazed', 'gleefully', 'glides', 'gliding', 'glimmer', 'glimpse', 'glimpses', 'glinting', 'glitter', 'glitz', 'glizty', 'globalizing', 'globetrotters', 'gloom', 'gloomy', 'glorification', 'glorified', 'glorious', 'gloriously', 'glory', 'gloss', 'glosses', 'glossy', 'glover', 'glow', 'glows', 'glucose', 'glued', 'gluing', 'glum', 'glumly', 'gnashing', 'go', 'goal', 'goals', 'gobbler', 'god', 'godard', 'godfrey', 'godzilla', 'goers', 'goes', 'going', 'gold', 'goldbacher', 'golden', 'goldman', 'goldmember', 'golf', 'goliath', 'gondry', 'gone', 'gong', 'goo', 'good', 'goodall', 'goodfellas', 'goodies', 'gooding', 'goodly', 'goodness', 'goods', 'goodwill', 'gooeyness', 'goofball', 'goofiest', 'goofily', 'goofiness', 'goofy', 'goose', 'gordy', 'gore', 'gored', 'gorefest', 'gorgeous', 'gorgeously', 'gorgeousness', 'gory', 'gosford', 'gosling', 'got', 'goth', 'gotten', 'gourd', 'governance', 'government', 'governmental', 'goyer', 'grab', 'grabowsky', 'grabs', 'grace', 'graced', 'graceful', 'gracefully', 'graceless', 'graces', 'gracious', 'grad', 'grade', 'grader', 'gradually', 'graffiti', 'graham', 'grand', 'grandeur', 'grandfather', 'grandiloquent', 'grandiosity', 'grandly', 'grandmother', 'grandness', 'grandson', 'granger', 'grant', 'granted', 'graphic', 'graphically', 'grasp', 'grasping', 'gratefully', 'gratify', 'grating', 'gratingly', 'gratitude', 'gratuitous', 'grave', 'graves', 'graveyard', 'gravity', 'graze', 'grease', 'greaseballs', 'great', 'greater', 'greatest', 'greatly', 'greatness', 'greed', 'greek', 'green', 'greene', 'greenfingers', 'greenlight', 'greg', 'gremlins', 'grenade', 'grenier', 'grew', 'grey', 'grief', 'grieving', 'grievous', 'griffith', 'griffiths', 'grim', 'grin', 'grind', 'grinder', 'grinning', 'grip', 'gripping', 'grips', 'grisly', 'grit', 'grittily', 'gritty', 'groan', 'groaners', 'groggy', 'groove', 'grooved', 'gross', 'grossest', 'grossly', 'grotesque', 'grotesquely', 'ground', 'groundbreaking', 'grounded', 'group', 'groups', 'grow', 'growing', 'grown', 'grownups', 'grows', 'growth', 'grub', 'grubbers', 'grubbing', 'grumble', 'grumbling', 'grunge', 'grungy', 'guarantee', 'guaranteed', 'guardian', 'guess', 'guessable', 'guessed', 'guessing', 'guest', 'guffaw', 'guiding', 'guilt', 'guilty', 'guise', 'gullible', 'gulzar', 'gum', 'gun', 'gunfest', 'gunfight', 'gunfire', 'gunplay', 'guns', 'guru', 'gurus', 'gushing', 'gut', 'guts', 'gutsy', 'gutter', 'guy', 'guys', 'guzman', 'gyllenhaal', 'gymnastics', 'hack', 'hackneyed', 'had', 'hades', 'hagiographic', 'hai', 'hail', 'hailed', 'hair', 'hairdo', 'haired', 'hairs', 'hal', 'half', 'halfhearted', 'halftime', 'halfway', 'hall', 'hallelujah', 'hallmark', 'hallmarks', 'halloween', 'hallucinatory', 'hallucinogenic', 'ham', 'hammers', 'hammily', 'hamming', 'hammy', 'hampered', 'hand', 'handbag', 'handed', 'handedly', 'handful', 'handheld', 'handicap', 'handle', 'handled', 'handles', 'handling', 'hands', 'handsome', 'handsomely', 'handy', 'haneke', 'hanging', 'hangover', 'hanks', 'hanky', 'hanley', 'hanna', 'hannibal', 'hanukkah', 'hanussen', 'haphazard', 'haphazardness', 'haplessness', 'happen', 'happened', 'happening', 'happens', 'happenstance', 'happily', 'happiness', 'happy', 'harangues', 'harbor', 'harbour', 'hard', 'hardened', 'harder', 'hardest', 'hardhearted', 'hardly', 'hardship', 'hardware', 'hardwood', 'hardy', 'harlem', 'harmed', 'harmless', 'harmon', 'harmoniously', 'harps', 'harris', 'harrowing', 'harry', 'harsh', 'harshness', 'hart', 'hartley', 'harvard', 'harvesting', 'has', 'hash', 'hashiguchi', 'hastily', 'hat', 'hate', 'hated', 'hates', 'hatfield', 'hating', 'hatosy', 'hatred', 'haul', 'haunted', 'haunting', 'haute', 'have', 'having', 'hawaiian', 'hawk', 'hawke', 'hawley', 'hawn', 'hayek', 'haynes', 'hazy', 'he', 'head', 'headaches', 'headbanger', 'headed', 'headline', 'headly', 'heads', 'heady', 'heal', 'healing', 'health', 'healthy', 'heap', 'heaped', 'hear', 'heard', 'hearing', 'hears', 'heart', 'heartache', 'heartbreak', 'heartbreaking', 'heartbreakingly', 'hearted', 'heartedness', 'heartening', 'heartfelt', 'hearts', 'heartwarming', 'heartwarmingly', 'hearty', 'heated', 'heaven', 'heavily', 'heavy', 'heavyweights', 'hedonistic', 'heed', 'heedless', 'hefty', 'heidegger', 'height', 'heightened', 'heights', 'heist', 'held', 'helga', 'hell', 'heller', 'hellish', 'hellstenius', 'helluva', 'helm', 'helms', 'help', 'helped', 'helping', 'helps', 'hem', 'hems', 'hence', 'hennings', 'henry', 'her', 'heralds', 'here', 'hereby', 'heritage', 'hermetic', 'hermitage', 'hermocrates', 'hero', 'heroes', 'heroic', 'heroine', 'heroism', 'herring', 'herrings', 'herself', 'herzog', 'hewitt', 'hews', 'hey', 'heyday', 'hiatus', 'hibernation', 'hibiscus', 'hickenlooper', 'hicks', 'hidden', 'hide', 'hidebound', 'hideous', 'hideously', 'hiding', 'hierarchy', 'high', 'higher', 'highest', 'highlander', 'highlight', 'highlighted', 'highly', 'highs', 'highway', 'highways', 'hilarious', 'hilariously', 'hilarity', 'hilary', 'hill', 'hills', 'him', 'himself', 'hindered', 'hinges', 'hint', 'hints', 'hip', 'hipness', 'hippopotamus', 'his', 'historic', 'historical', 'historically', 'history', 'histrionic', 'histrionics', 'hit', 'hitch', 'hitchcock', 'hitchcockian', 'hitchcockianism', 'hitler', 'hits', 'hitting', 'hmmm', 'ho', 'hoary', 'hobbled', 'hobby', 'hobnail', 'hodgepodge', 'hoffman', 'hogwash', 'hokey', 'hokum', 'hold', 'holden', 'holding', 'holds', 'hole', 'holes', 'holiday', 'holistic', 'holland', 'hollow', 'holly', 'hollywood', 'holm', 'holmes', 'holocaust', 'holofcener', 'holographic', 'holy', 'homage', 'home', 'homes', 'homework', 'homicide', 'homogenized', 'homophobia', 'homosexuality', 'honest', 'honestly', 'honesty', 'honeys', 'hong', 'honks', 'honor', 'honorable', 'honorably', 'honored', 'honoring', 'hoofing', 'hook', 'hooked', 'hookers', 'hooks', 'hooliganism', 'hoopla', 'hoot', 'hop', 'hope', 'hoped', 'hopeful', 'hopefully', 'hopeless', 'hopelessly', 'hopes', 'hoping', 'hopkins', 'hopping', 'horde', 'horizons', 'horns', 'horrendously', 'horrible', 'horribly', 'horrid', 'horrified', 'horrifying', 'horror', 'horrors', 'horse', 'horton', 'hospital', 'hossein', 'host', 'hostage', 'hostile', 'hot', 'hotel', 'hotels', 'hotsies', 'hotter', 'hoult', 'hounds', 'hour', 'hourlong', 'hours', 'house', 'households', 'houses', 'hovering', 'how', 'howard', 'however', 'howler', 'howling', 'hudson', 'hue', 'hug', 'huge', 'hugely', 'huggers', 'hugh', 'hughes', 'human', 'humanism', 'humanist', 'humanistic', 'humanity', 'humanize', 'humanizing', 'humankind', 'humanly', 'humble', 'humbling', 'humbuggery', 'humdrum', 'humidity', 'humiliated', 'humility', 'humor', 'humorless', 'humorous', 'humorously', 'humour', 'hundred', 'hunger', 'hungry', 'hunk', 'hunky', 'hunnam', 'hunter', 'huppert', 'hurley', 'hurried', 'hurry', 'hurt', 'hurts', 'husband', 'hush', 'huskies', 'hustler', 'hustling', 'huston', 'hyang', 'hybrid', 'hype', 'hyped', 'hyper', 'hypermasculine', 'hypnotic', 'hypothesis', 'hysterics', 'ia', 'ian', 'ice', 'iced', 'ichi', 'ick', 'icky', 'icon', 'iconoclastic', 'iconography', 'icy', 'idea', 'ideal', 'idealism', 'idealistic', 'ideally', 'ideas', 'idemoto', 'identity', 'ideological', 'ideology', 'idiocy', 'idiom', 'idiosyncratic', 'idiotic', 'idiotically', 'idling', 'idol', 'if', 'igby', 'ignite', 'ignites', 'ignorant', 'ignore', 'ignored', 'ignoring', 'ii', 'iii', 'iles', 'ilk', 'ill', 'illiterate', 'illness', 'illogic', 'illogical', 'ills', 'illuminated', 'illuminating', 'illumination', 'illustrated', 'illustrates', 'illustrating', 'image', 'imagery', 'images', 'imaginable', 'imaginary', 'imagination', 'imaginative', 'imaginatively', 'imagine', 'imagined', 'imagines', 'imagining', 'imamura', 'imax', 'imbecilic', 'imbue', 'imbued', 'imitating', 'imitation', 'imitations', 'imitative', 'imitator', 'immaculate', 'immature', 'immediacy', 'immediate', 'immediately', 'immense', 'immensely', 'immersed', 'immersive', 'immigrant', 'immortal', 'immune', 'imogen', 'impact', 'impart', 'imparted', 'impassive', 'impatient', 'impatiently', 'impeccable', 'impenetrable', 'imperfect', 'impersonal', 'impetuousness', 'impish', 'implausible', 'implications', 'implicitly', 'implied', 'implies', 'implodes', 'imply', 'import', 'importance', 'important', 'imposed', 'impossible', 'impossibly', 'imposter', 'impostor', 'impress', 'impressed', 'impresses', 'impression', 'impressionable', 'impressions', 'impressive', 'impressively', 'imprint', 'improbability', 'improbable', 'improperly', 'improve', 'improved', 'improvement', 'improvisation', 'improvise', 'improvised', 'impudent', 'impulse', 'impulsive', 'in', 'inactive', 'inadequate', 'inadequately', 'inadvertently', 'inane', 'inappropriate', 'inauthentic', 'inc', 'incapable', 'incarnation', 'incarnations', 'incessant', 'incessantly', 'incident', 'incinerates', 'incisive', 'inclination', 'include', 'included', 'includes', 'including', 'inclusive', 'inclusiveness', 'incoherence', 'incoherent', 'incompetent', 'incomprehensible', 'inconclusive', 'incongruous', 'inconsequential', 'inconsistencies', 'inconsistent', 'incorporate', 'incorporates', 'increase', 'increasingly', 'incredible', 'incredibly', 'incurably', 'indecent', 'indeed', 'indefinitely', 'independence', 'independent', 'india', 'indian', 'indians', 'indicative', 'indictment', 'indie', 'indifference', 'indigestion', 'indignant', 'indignation', 'indispensable', 'indisputably', 'indistinct', 'individual', 'individuality', 'individuals', 'indomitability', 'indoor', 'indoors', 'induce', 'induced', 'induces', 'inducing', 'inducingly', 'indulge', 'indulgence', 'indulgent', 'indulges', 'industrial', 'industry', 'ineffable', 'ineffective', 'inept', 'ineptly', 'inert', 'inertia', 'inescapable', 'inescapably', 'inevitable', 'inevitably', 'inexperienced', 'inexplicable', 'inexplicably', 'inexpressible', 'inexpressive', 'inextricably', 'infamy', 'infantile', 'infantilized', 'infatuated', 'infatuation', 'infectious', 'infectiously', 'inferior', 'infidelity', 'infinitely', 'infirmity', 'inflammatory', 'inflicted', 'influence', 'influenced', 'influential', 'infomercial', 'information', 'informative', 'informed', 'infuriating', 'infuriatingly', 'infuse', 'infused', 'infuses', 'infusing', 'infusion', 'ingenious', 'ingeniously', 'ingenue', 'ingenuity', 'ingest', 'ingratiating', 'ingredients', 'inhabit', 'inhalant', 'inhale', 'inherent', 'inhuman', 'inimitable', 'initial', 'initially', 'inject', 'injects', 'injuries', 'innate', 'inner', 'innocence', 'innocent', 'innovation', 'innovations', 'innovative', 'innuendo', 'innumerable', 'inoffensive', 'inquiry', 'inquisitive', 'inquisitiveness', 'insane', 'insanely', 'insanity', 'insecure', 'insecurity', 'insensitivity', 'inseparable', 'inside', 'insider', 'insiders', 'insight', 'insightful', 'insightfully', 'insights', 'insignificance', 'insignificant', 'insinuating', 'insinuation', 'insipid', 'insistence', 'insistent', 'insistently', 'insomnia', 'inspiration', 'inspirational', 'inspire', 'inspired', 'inspires', 'inspiring', 'instability', 'installment', 'instalment', 'instances', 'instantly', 'instead', 'instigator', 'instilled', 'instinct', 'instincts', 'institution', 'instruct', 'instructive', 'instrument', 'insufferable', 'insufferably', 'insufficiently', 'insult', 'insulted', 'insulting', 'insultingly', 'insults', 'insurance', 'intact', 'intacto', 'integrated', 'integrates', 'integrating', 'integrity', 'intellect', 'intellectual', 'intellectually', 'intellectuals', 'intelligence', 'intelligent', 'intelligently', 'intended', 'intense', 'intensely', 'intensity', 'intent', 'intentionally', 'intentioned', 'intentions', 'inter', 'interaction', 'interchangeable', 'interest', 'interested', 'interesting', 'interestingly', 'interests', 'interference', 'intergalactic', 'interior', 'interlocked', 'interludes', 'intermediary', 'intermezzo', 'interminable', 'interminably', 'intermingling', 'intermittently', 'intern', 'internal', 'international', 'interpersonal', 'interplay', 'interpretation', 'interrogation', 'intervention', 'interview', 'interviewees', 'interviews', 'interweaves', 'intimacy', 'intimate', 'intimately', 'intimidated', 'into', 'intolerable', 'intolerant', 'intoxicating', 'intoxicatingly', 'intractable', 'intrepid', 'intricate', 'intricately', 'intrigue', 'intriguing', 'intro', 'introduce', 'introduces', 'introducing', 'introduction', 'introspective', 'invaders', 'invaluable', 'invasion', 'invented', 'invention', 'inventive', 'inventiveness', 'invents', 'inversion', 'invest', 'invested', 'investigate', 'investigation', 'investment', 'invigorating', 'invincible', 'invite', 'invited', 'inviting', 'invitingly', 'involve', 'involved', 'involving', 'invulnerable', 'iosseliani', 'iq', 'iran', 'iranian', 'ireland', 'iris', 'irish', 'irksome', 'ironic', 'ironically', 'irony', 'irrational', 'irreconcilable', 'irredeemably', 'irrelevant', 'irreparably', 'irrepressible', 'irresistible', 'irresistibly', 'irresponsible', 'irreverence', 'irreversible', 'irrevocable', 'irritates', 'irritating', 'irvine', 'irwin', 'irwins', 'is', 'isabelle', 'ish', 'island', 'islanders', 'ismail', 'isolation', 'israel', 'israeli', 'issue', 'issues', 'it', 'italian', 'italicized', 'italicizes', 'item', 'items', 'iteration', 'itinerant', 'itis', 'its', 'itself', 'ivan', 'ivans', 'ivory', 'iwai', 'jack', 'jackass', 'jacket', 'jackie', 'jackson', 'jacobi', 'jacqueline', 'jacques', 'jacquot', 'jaded', 'jae', 'jagged', 'jagger', 'jagjit', 'jaglom', 'jake', 'james', 'jammies', 'jams', 'jane', 'janey', 'jangle', 'janice', 'janine', 'janklowicz', 'japan', 'japanese', 'jar', 'jargon', 'jarring', 'jason', 'jaunt', 'jaw', 'jay', 'jazz', 'jazzy', 'jealous', 'jealousy', 'jean', 'jeffrey', 'jeffs', 'jelinek', 'jell', 'jennifer', 'jeong', 'jeopardy', 'jerk', 'jerking', 'jerry', 'jersey', 'jerusalem', 'jesse', 'jessica', 'jesus', 'jet', 'jettisoned', 'jeunet', 'jewish', 'jews', 'jez', 'jfk', 'jia', 'jiang', 'jie', 'jim', 'jimmy', 'jo', 'joan', 'job', 'jock', 'jockey', 'joe', 'joel', 'joff', 'john', 'johnnie', 'johnny', 'joie', 'join', 'joined', 'joins', 'joint', 'joke', 'jokers', 'jokes', 'jokester', 'jokey', 'jolie', 'jolt', 'jolted', 'jolts', 'jonah', 'jonathan', 'jones', 'jonze', 'jordan', 'jos', 'jose', 'joseph', 'josh', 'jostles', 'jostling', 'journalism', 'journalist', 'journalistically', 'journalists', 'journey', 'jovial', 'joy', 'joyful', 'joyless', 'joyous', 'joys', 'jr', 'juan', 'judaism', 'judd', 'judgment', 'judith', 'juiced', 'juiceless', 'juicy', 'julia', 'julianne', 'julie', 'juliet', 'juliette', 'jumble', 'jumbled', 'jumbo', 'jump', 'jumps', 'june', 'jungle', 'junior', 'junk', 'junkie', 'jury', 'just', 'justice', 'justifies', 'justify', 'justine', 'juvenile', 'juwanna', 'juxtaposition', 'juxtapositions', 'ka', 'kahlo', 'kahlories', 'kahn', 'kaige', 'kalvert', 'kane', 'kang', 'kapur', 'karen', 'karim', 'kate', 'katherine', 'kathie', 'kathryn', 'kathy', 'katz', 'kaufman', 'kazan', 'ke', 'keel', 'keen', 'keenest', 'keenly', 'keep', 'keeping', 'keeps', 'keg', 'ken', 'kendall', 'kennedy', 'kenneth', 'kept', 'kevin', 'key', 'khan', 'khouri', 'ki', 'kiarostami', 'kibbitzes', 'kibosh', 'kick', 'kicking', 'kicks', 'kid', 'kidd', 'kiddie', 'kiddies', 'kidlets', 'kidman', 'kidnapper', 'kidnappings', 'kids', 'kieran', 'kieslowski', 'kill', 'killed', 'killer', 'killing', 'kills', 'kilmer', 'kilt', 'kilted', 'kilter', 'kim', 'kimmel', 'kind', 'kinda', 'kindness', 'kindred', 'kinds', 'kinetic', 'king', 'kingdom', 'kingsley', 'kinky', 'kinnear', 'kiosks', 'kirshner', 'kirsten', 'kiss', 'kissing', 'kissinger', 'kitchen', 'kitsch', 'kitschy', 'kitten', 'kittenish', 'kjell', 'klein', 'kline', 'knack', 'knee', 'knees', 'knew', 'knickknacks', 'knight', 'knitting', 'knock', 'knockabout', 'knockaround', 'knockoff', 'knockout', 'knocks', 'knotting', 'know', 'knowing', 'knowledge', 'known', 'knows', 'knoxville', 'knuckled', 'knucklehead', 'koepp', 'komediant', 'kong', 'kooky', 'korea', 'korean', 'kosashvili', 'kosminsky', 'koury', 'kozmo', 'kramer', 'kubrick', 'kudos', 'kumble', 'kung', 'kurds', 'kurt', 'kurys', 'kwan', 'lab', 'labelled', 'labels', 'labor', 'laboratory', 'labored', 'labour', 'labours', 'labute', 'labyrinthine', 'laced', 'lack', 'lackadaisical', 'lacked', 'lacking', 'lackluster', 'lacks', 'laconic', 'ladder', 'laden', 'ladies', 'ladles', 'lady', 'lagaan', 'laggard', 'lagging', 'lags', 'laid', 'laissez', 'lake', 'lambs', 'lame', 'lameness', 'lamentations', 'lamer', 'lan', 'land', 'landing', 'landmark', 'landscape', 'landscapes', 'lane', 'lanes', 'lange', 'language', 'languid', 'languishing', 'languorous', 'lapaglia', 'lapses', 'laptops', 'laramie', 'large', 'largely', 'larger', 'largest', 'lark', 'larky', 'larry', 'larson', 'lascivious', 'laser', 'last', 'lasting', 'late', 'lately', 'later', 'latest', 'lathan', 'latino', 'latter', 'lau', 'laudable', 'laugh', 'laughable', 'laughably', 'laughed', 'laugher', 'laughing', 'laughs', 'laughter', 'launch', 'laundry', 'laurence', 'lavish', 'law', 'lawn', 'lawrence', 'lawyers', 'lax', 'layer', 'layered', 'layers', 'lays', 'lazily', 'laziness', 'lazy', 'lds', 'le', 'lead', 'leaden', 'leader', 'leading', 'leads', 'leafing', 'league', 'leaks', 'leaky', 'lean', 'leaner', 'leanest', 'leaning', 'leap', 'leaping', 'leaps', 'lear', 'learn', 'learning', 'learns', 'leash', 'least', 'leather', 'leatherbound', 'leave', 'leavened', 'leaves', 'leaving', 'leblanc', 'lecherous', 'lecter', 'lector', 'lecture', 'lectured', 'lectures', 'led', 'ledger', 'lee', 'leers', 'leery', 'left', 'leftovers', 'legacy', 'legal', 'legally', 'legend', 'legendary', 'legged', 'legs', 'leguizamo', 'leigh', 'lend', 'lending', 'lends', 'length', 'lengths', 'lengthy', 'leniency', 'lens', 'lensed', 'lensing', 'leon', 'leonard', 'leone', 'leonine', 'leontine', 'leplouff', 'les', 'lesbian', 'less', 'lessen', 'lesser', 'lesson', 'lessons', 'let', 'letdown', 'lethally', 'lethargically', 'lets', 'letter', 'letterman', 'letting', 'level', 'levels', 'levity', 'lewd', 'lewis', 'leys', 'li', 'liability', 'liana', 'liang', 'liar', 'liberal', 'liberalism', 'liberating', 'liberation', 'liberties', 'libertine', 'librarian', 'library', 'libretto', 'license', 'lick', 'lie', 'lies', 'lieutenant', 'life', 'lifeless', 'lifestyle', 'lifetime', 'lift', 'lifting', 'lifts', 'light', 'lightest', 'lighthearted', 'lighting', 'lightly', 'lightness', 'lights', 'lightweight', 'lika', 'likable', 'like', 'likeable', 'liked', 'likely', 'likes', 'liking', 'lil', 'lilia', 'lillard', 'lilo', 'lily', 'limb', 'limbs', 'limit', 'limitations', 'limited', 'limits', 'limp', 'limpid', 'limply', 'limps', 'lina', 'line', 'linearity', 'liner', 'liners', 'lines', 'lingered', 'lingerie', 'lingering', 'lingual', 'lint', 'lion', 'lioness', 'lionize', 'liotta', 'lip', 'lipped', 'lips', 'lipstick', 'lisa', 'lisping', 'list', 'listen', 'listening', 'listless', 'lit', 'literal', 'literally', 'literarily', 'literary', 'literate', 'literature', 'litmus', 'littered', 'little', 'liu', 'live', 'lived', 'livelier', 'liveliness', 'lively', 'liven', 'lives', 'living', 'liza', 'lizard', 'll', 'lo', 'load', 'loaded', 'loads', 'loaf', 'loathsome', 'lobby', 'lobbyists', 'local', 'locales', 'location', 'locations', 'lock', 'loco', 'locusts', 'lodging', 'lofty', 'logic', 'logical', 'logically', 'logistically', 'lohman', 'lola', 'lolita', 'london', 'lone', 'loneliest', 'loneliness', 'lonely', 'long', 'longer', 'longest', 'longing', 'longley', 'look', 'looked', 'lookin', 'looking', 'looks', 'looney', 'loop', 'loopholes', 'loops', 'loopy', 'loose', 'loosely', 'looseness', 'lopez', 'loquacious', 'lord', 'lore', 'lose', 'loser', 'losers', 'loses', 'losing', 'loss', 'losses', 'lost', 'lot', 'lothario', 'lots', 'lottery', 'loud', 'louis', 'louise', 'lousy', 'louts', 'lovable', 'lovably', 'love', 'loveable', 'loved', 'lovefest', 'lovely', 'lover', 'lovers', 'loves', 'loving', 'lovingly', 'low', 'lowbrow', 'lower', 'lowered', 'lows', 'loyal', 'lrb', 'lucas', 'lucia', 'lucid', 'luck', 'luckiest', 'lucky', 'lucratively', 'lucy', 'ludicrous', 'luke', 'lullaby', 'lulled', 'lulls', 'lumbering', 'luminous', 'lump', 'lumpen', 'lumps', 'lumpy', 'lunacy', 'lunatic', 'lunch', 'lungs', 'lurches', 'lurid', 'luridly', 'lurks', 'luscious', 'lush', 'lushly', 'lust', 'luster', 'lusty', 'luv', 'lux', 'lying', 'lynch', 'lyne', 'lynne', 'lyrical', 'lyricism', 'lyrics', 'macabre', 'macdowell', 'machinations', 'machine', 'machines', 'machismo', 'mad', 'madcap', 'maddening', 'maddeningly', 'made', 'madman', 'madness', 'madonna', 'maelstrom', 'mafia', 'maggie', 'maggio', 'maggots', 'magi', 'magic', 'magical', 'magician', 'magnetic', 'magnificent', 'maid', 'maids', 'mail', 'main', 'mainly', 'mainstream', 'maintain', 'maintained', 'maintaining', 'maintains', 'majestic', 'majid', 'majidi', 'major', 'majority', 'make', 'maker', 'makers', 'makes', 'makeup', 'makhmalbaf', 'making', 'malaise', 'malarkey', 'malcolm', 'male', 'males', 'malik', 'malkovich', 'mall', 'malle', 'malleable', 'malls', 'mam', 'mama', 'mamet', 'man', 'manage', 'managed', 'manager', 'manages', 'managing', 'manchild', 'mandy', 'manhattan', 'manhunter', 'mania', 'manic', 'manically', 'manifesto', 'manipulating', 'manipulation', 'manipulative', 'mankind', 'mann', 'manner', 'mannered', 'mannerisms', 'manners', 'manoel', 'mantra', 'manual', 'manufactured', 'many', 'map', 'mapquest', 'mar', 'marathons', 'marching', 'marcken', 'margarita', 'margaritas', 'margin', 'marginal', 'marginally', 'margins', 'margolo', 'mariah', 'marilyn', 'marina', 'marinated', 'marine', 'mario', 'mark', 'marked', 'markedly', 'marker', 'markers', 'market', 'marketable', 'marketing', 'markets', 'marking', 'marks', 'marquis', 'marriage', 'married', 'marry', 'marshall', 'mart', 'martha', 'martial', 'martin', 'marveilleux', 'marvel', 'marvelous', 'marvelously', 'marvin', 'marxian', 'mary', 'maryam', 'masala', 'masculine', 'mask', 'masochism', 'masquerade', 'mass', 'masses', 'masseur', 'massive', 'master', 'masterful', 'masterfully', 'mastering', 'masterly', 'masterpeice', 'masterpiece', 'masterpieces', 'mat', 'match', 'matched', 'matches', 'matchmaking', 'materalism', 'material', 'maternal', 'mateys', 'matinee', 'matron', 'mattei', 'mattel', 'matter', 'mattered', 'matters', 'matthew', 'mature', 'maturity', 'maudlin', 'mawkish', 'max', 'maximum', 'may', 'maybe', 'mayhem', 'maze', 'mcadams', 'mcbeal', 'mccann', 'mccoist', 'mcconaughey', 'mccracken', 'mccrudden', 'mcculloch', 'mcdonald', 'mcdowell', 'mcgrath', 'mckay', 'mcmullen', 'me', 'meager', 'meal', 'mean', 'meander', 'meandering', 'meanest', 'meaning', 'meaningful', 'meaningless', 'means', 'meanspirited', 'meant', 'measure', 'measured', 'meat', 'meaty', 'mechanical', 'mechanics', 'meddles', 'media', 'medical', 'medicine', 'mediocre', 'mediocrity', 'meditation', 'medium', 'meet', 'meeting', 'meets', 'megaplex', 'mehta', 'mein', 'mel', 'melancholia', 'melancholic', 'melancholy', 'melange', 'melanie', 'melds', 'melodrama', 'melodramas', 'melodramatic', 'melted', 'melville', 'member', 'members', 'memento', 'memoir', 'memorable', 'memories', 'memory', 'men', 'menace', 'menacing', 'mendes', 'mending', 'mends', 'mental', 'mentally', 'mention', 'mentioned', 'menu', 'meow', 'merchandised', 'merchant', 'mercilessly', 'mercy', 'mere', 'merely', 'mergers', 'merges', 'merit', 'merited', 'merits', 'mermaid', 'merrily', 'meshes', 'mesmerised', 'mesmerize', 'mesmerizing', 'mess', 'message', 'messages', 'messiness', 'messing', 'messy', 'metal', 'metaphor', 'metaphorical', 'metaphors', 'metaphysical', 'method', 'methodical', 'methodically', 'methodology', 'meticulous', 'meticulously', 'metropolis', 'metropolitan', 'mexican', 'meyjes', 'mib', 'mibii', 'michael', 'michel', 'michele', 'mick', 'microscope', 'mid', 'middle', 'middling', 'midlife', 'midnight', 'midsection', 'midst', 'midway', 'midwest', 'might', 'mighty', 'mika', 'mike', 'mikes', 'mild', 'mildly', 'mile', 'milestones', 'milieu', 'military', 'milk', 'milked', 'milking', 'milks', 'mill', 'millennial', 'millennium', 'miller', 'million', 'millions', 'millisecond', 'mimetic', 'mimics', 'minac', 'mind', 'minded', 'mindless', 'minds', 'mindset', 'mine', 'mined', 'ming', 'mingles', 'mini', 'minimal', 'minimalist', 'minimum', 'miniseries', 'ministers', 'minor', 'minority', 'minute', 'minutely', 'minutes', 'minutiae', 'mira', 'miracle', 'miracles', 'miraculous', 'miramax', 'mire', 'mired', 'mirren', 'misanthropic', 'misbegotten', 'miscalculates', 'miscalculation', 'misconceived', 'misconstrued', 'misdemeanor', 'miserable', 'miserably', 'misery', 'misfire', 'misguided', 'mishandle', 'mishandled', 'mishmash', 'misogynist', 'misogyny', 'misplaced', 'miss', 'missed', 'misses', 'missing', 'mission', 'missive', 'mist', 'mistake', 'mistaken', 'mistress', 'misty', 'misunderstood', 'misuse', 'mitch', 'mix', 'mixed', 'mixes', 'mixing', 'mixture', 'miyazaki', 'mo', 'moan', 'moat', 'mob', 'mobility', 'mobius', 'mocking', 'mockumentary', 'model', 'modeled', 'models', 'modern', 'modernize', 'modest', 'modestly', 'modesty', 'modicum', 'modus', 'moist', 'moisture', 'mojo', 'moldy', 'molehill', 'molestation', 'molested', 'molly', 'mom', 'moment', 'moments', 'momentum', 'mon', 'monday', 'money', 'mongering', 'monitor', 'monkey', 'monkeys', 'monologue', 'monopoly', 'monosyllabic', 'monotone', 'monotonous', 'monotony', 'monroe', 'monsoon', 'monster', 'monsters', 'monstrous', 'month', 'months', 'monty', 'mood', 'moodiness', 'moody', 'moon', 'moonlight', 'moore', 'mopping', 'mora', 'moral', 'moralism', 'moralistic', 'morality', 'moralizing', 'morally', 'moratorium', 'morbid', 'morbidity', 'mordant', 'mordantly', 'more', 'mores', 'moretti', 'morgan', 'morlocks', 'mormon', 'morning', 'moronic', 'morose', 'morph', 'morphs', 'morris', 'morrissette', 'morsels', 'mortal', 'morton', 'morvern', 'most', 'mostly', 'mother', 'motherhood', 'mothers', 'mothman', 'motifs', 'motion', 'motionless', 'motions', 'motivate', 'motivated', 'motivation', 'motivations', 'motives', 'motorcycles', 'motorized', 'motown', 'mouglalis', 'mountain', 'mountains', 'mounted', 'mounts', 'mournful', 'mourning', 'mouse', 'mouth', 'mouthed', 'mouthpieces', 'move', 'moved', 'movement', 'movements', 'moves', 'movie', 'moviegoer', 'moviegoers', 'moviegoing', 'moviemakers', 'moviemaking', 'movies', 'moving', 'mpaa', 'mr', 'mrs', 'ms', 'mtv', 'muccino', 'much', 'muckraking', 'mud', 'muddle', 'muddled', 'muddy', 'mug', 'mugging', 'mugs', 'multi', 'multiple', 'multiplex', 'mumbles', 'mumbo', 'mummy', 'mundane', 'murder', 'murderer', 'murderous', 'murders', 'murky', 'murphy', 'murray', 'musclefest', 'muscles', 'muse', 'mush', 'mushy', 'music', 'musical', 'musicals', 'musicians', 'musings', 'musketeer', 'musset', 'must', 'muster', 'musty', 'mutates', 'muted', 'mutilation', 'muting', 'muttering', 'muy', 'muzak', 'my', 'myers', 'myopic', 'myriad', 'myrtle', 'myself', 'mysteries', 'mysterious', 'mystery', 'mystic', 'mystical', 'mystification', 'myth', 'mythic', 'mythologizing', 'mythology', 'na', 'nachtwey', 'nadia', 'nagging', 'nail', 'nailbiter', 'nails', 'naipaul', 'nair', 'naive', 'naivet', 'naked', 'name', 'named', 'nameless', 'names', 'naomi', 'napoleon', 'napoli', 'naqoyqatsi', 'narc', 'narcissism', 'narcissistic', 'narration', 'narrative', 'narratively', 'narrator', 'narrow', 'nary', 'nash', 'nasty', 'natalie', 'nation', 'national', 'nationalism', 'nationwide', 'native', 'natter', 'natural', 'naturalism', 'naturalistic', 'naturally', 'naturalness', 'nature', 'natured', 'naturedly', 'naturedness', 'naught', 'naughty', 'nausea', 'nauseating', 'naval', 'navel', 'nazi', 'nazism', 'nba', 'ne', 'near', 'nearly', 'neat', 'neatly', 'nebrida', 'necessarily', 'necessary', 'neck', 'need', 'needed', 'needing', 'needles', 'needlessly', 'needs', 'needy', 'neeson', 'negate', 'negated', 'negative', 'neglecting', 'negligible', 'negotiate', 'neighbor', 'neighborhood', 'neil', 'neither', 'nelson', 'nemesis', 'neo', 'nerds', 'nerve', 'nerves', 'nervy', 'nesbitt', 'net', 'nettelbeck', 'network', 'neurotic', 'neurotics', 'neutral', 'never', 'nevertheless', 'new', 'newcomer', 'newcomers', 'newfangled', 'newfoundland', 'newness', 'news', 'next', 'nia', 'niblet', 'niccol', 'nice', 'nicely', 'nicest', 'niche', 'niches', 'nicholas', 'nicholson', 'nick', 'nickleby', 'nicks', 'nicolas', 'nicole', 'nietzsche', 'nifty', 'night', 'nightmare', 'nightmarish', 'nights', 'nighttime', 'nijinsky', 'nimble', 'nincompoop', 'ninety', 'niro', 'no', 'noble', 'nobody', 'nohe', 'noir', 'noise', 'noisy', 'nolan', 'nominated', 'nomination', 'non', 'nonchalant', 'nonchalantly', 'nonconformity', 'none', 'nonetheless', 'nonethnic', 'nonexistent', 'nonfiction', 'nonjudgmental', 'nonsense', 'nonsensical', 'nonstop', 'noon', 'nor', 'norma', 'normal', 'normally', 'north', 'norton', 'norwegian', 'nose', 'nosedive', 'nostalgia', 'nostalgic', 'nostra', 'not', 'notable', 'notably', 'notations', 'notch', 'notches', 'note', 'notes', 'noteworthy', 'nothing', 'notice', 'noticeably', 'noticed', 'noticing', 'notion', 'notorious', 'notwithstanding', 'nouvelle', 'novak', 'novel', 'novelist', 'novels', 'novelty', 'now', 'nowadays', 'nowhere', 'nowheresville', 'noyce', 'nuance', 'nuanced', 'nuances', 'nubile', 'nuclear', 'nuld', 'numb', 'number', 'numbered', 'numbers', 'numbing', 'numbingly', 'numbness', 'numerous', 'nurses', 'nurtured', 'nurtures', 'nuts', 'nutty', 'nyc', 'o2', 'object', 'objective', 'objectivity', 'objects', 'obligations', 'obligatory', 'oblivious', 'obnoxious', 'obnoxiously', 'obscenely', 'obscenity', 'obscure', 'obscured', 'observant', 'observation', 'observations', 'observe', 'observed', 'obsessed', 'obsession', 'obsessions', 'obsessive', 'obsessively', 'obstacles', 'obvious', 'obviously', 'occasional', 'occasionally', 'occupation', 'occupied', 'occur', 'occurrences', 'occurs', 'ocean', 'octane', 'odd', 'oddballs', 'oddest', 'oddity', 'oddly', 'odds', 'ode', 'odorous', 'odyssey', 'oedekerk', 'of', 'off', 'offbeat', 'offend', 'offended', 'offensive', 'offer', 'offering', 'offerings', 'offers', 'office', 'officially', 'offset', 'oft', 'often', 'oftentimes', 'oh', 'oily', 'ok', 'okay', 'ol', 'old', 'older', 'oldie', 'oleander', 'oliver', 'olivier', 'oliviera', 'olympia', 'olympic', 'ominous', 'omission', 'omitted', 'omnibus', 'omniscient', 'on', 'once', 'one', 'ones', 'onion', 'online', 'only', 'onscreen', 'ontiveros', 'onto', 'oo', 'oomph', 'ooze', 'oozes', 'oozing', 'opaque', 'open', 'opened', 'opening', 'openly', 'openness', 'opens', 'opera', 'operandi', 'operates', 'operatic', 'operating', 'operational', 'operative', 'opinion', 'opportunities', 'opportunity', 'opposed', 'opposite', 'opposites', 'oppositions', 'oppressive', 'oppressively', 'ops', 'optic', 'optimism', 'optimistic', 'opting', 'option', 'opts', 'or', 'oral', 'orange', 'orc', 'orchard', 'orchestrated', 'orchestrating', 'ordeal', 'order', 'ordered', 'orders', 'ordinances', 'ordinary', 'organic', 'organizing', 'orgasm', 'orgy', 'oriented', 'original', 'originality', 'origins', 'orlando', 'orthodox', 'orwell', 'os', 'oscar', 'oscars', 'otar', 'other', 'otherness', 'others', 'otherwise', 'otherworldly', 'otto', 'ou', 'ought', 'our', 'ours', 'ourselves', 'ourside', 'out', 'outage', 'outbursts', 'outcome', 'outdated', 'outer', 'outgag', 'outing', 'outline', 'outnumber', 'outpaces', 'outrage', 'outrageous', 'outrageously', 'outrageousness', 'outre', 'outright', 'outshined', 'outside', 'outsiders', 'outstanding', 'outtakes', 'outward', 'outweighs', 'over', 'overachieving', 'overacted', 'overall', 'overbearing', 'overblown', 'overboard', 'overburdened', 'overcome', 'overcomes', 'overcoming', 'overcooked', 'overdone', 'overeager', 'overflowing', 'overflows', 'overhearing', 'overinflated', 'overkill', 'overladen', 'overlapping', 'overload', 'overlong', 'overlook', 'overly', 'overmanipulative', 'overpowered', 'overproduced', 'overrun', 'oversexed', 'oversimplification', 'oversized', 'overstated', 'overstating', 'overstays', 'overstylized', 'overtake', 'overtly', 'overture', 'overused', 'overview', 'overweight', 'overwhelm', 'overwhelmed', 'overwhelming', 'overwhelms', 'overworked', 'overwritten', 'overwrought', 'owe', 'owed', 'owen', 'owes', 'own', 'ozpetek', 'pa', 'pablum', 'pabulum', 'pace', 'paced', 'pacing', 'pacino', 'pack', 'package', 'packages', 'packed', 'pact', 'padded', 'padding', 'padre', 'paean', 'paeans', 'page', 'pageant', 'pageantry', 'pageants', 'pages', 'paid', 'pain', 'pained', 'painful', 'painfully', 'painless', 'pains', 'paint', 'painted', 'painterly', 'painting', 'paintings', 'paints', 'pair', 'pairing', 'palatable', 'palate', 'pale', 'palestinian', 'palette', 'pallid', 'palma', 'palmed', 'palpable', 'paltrow', 'pamela', 'pan', 'panache', 'pandemonium', 'pander', 'pandora', 'panic', 'panky', 'panorama', 'panoramic', 'pantheon', 'pants', 'pap', 'paper', 'paperbacks', 'papin', 'par', 'parable', 'parachutes', 'parade', 'paradigm', 'paradiso', 'paradoxically', 'parallel', 'paralyzed', 'paramount', 'paranoia', 'paranoid', 'paranormal', 'parapsychological', 'parent', 'parental', 'parents', 'paris', 'park', 'parker', 'parking', 'parlance', 'parlor', 'parmentier', 'parochial', 'parody', 'parris', 'parrot', 'parsing', 'part', 'participant', 'participants', 'participatory', 'particular', 'particularly', 'parties', 'partisans', 'partly', 'partner', 'partners', 'partnerships', 'parts', 'party', 'pasach', 'pascale', 'pasolini', 'pass', 'passages', 'passe', 'passed', 'passer', 'passes', 'passing', 'passion', 'passionate', 'passionately', 'passions', 'passive', 'past', 'pasta', 'paste', 'pastel', 'pastiche', 'pastry', 'pasty', 'pat', 'patch', 'patchwork', 'patchy', 'patent', 'path', 'pathetic', 'pathetically', 'pathology', 'pathos', 'patience', 'patient', 'patiently', 'patric', 'patricio', 'patriot', 'patrolmen', 'patting', 'paul', 'paulette', 'pauline', 'pauly', 'paunchy', 'pause', 'paws', 'pax', 'paxton', 'pay', 'payami', 'payback', 'paycheck', 'paying', 'payne', 'payoff', 'pays', 'pb', 'pbs', 'peace', 'peak', 'peanut', 'pearce', 'pearl', 'pearls', 'peas', 'peculiar', 'peculiarly', 'pedestal', 'pedestrian', 'pedigree', 'pedro', 'peek', 'peekaboo', 'peep', 'peevish', 'pellington', 'pelosi', 'penchant', 'pencil', 'pender', 'penetrating', 'penn', 'penned', 'pent', 'people', 'peopled', 'peploe', 'peppering', 'per', 'peralta', 'percentages', 'perception', 'perceptive', 'perceptiveness', 'perch', 'percolating', 'perdition', 'perfect', 'perfection', 'perfectly', 'perfervid', 'perform', 'performance', 'performances', 'performed', 'performers', 'performing', 'perfunctory', 'perhaps', 'peril', 'perils', 'period', 'permeates', 'permits', 'permitting', 'peroxide', 'perpetually', 'perplexing', 'persistence', 'persistent', 'person', 'persona', 'personal', 'personalities', 'personality', 'personally', 'personified', 'personnel', 'perspective', 'perspectives', 'persuasive', 'pertinent', 'pervasive', 'perverse', 'perversely', 'perversity', 'pessimism', 'pessimistic', 'pessimists', 'pet', 'pete', 'peter', 'petite', 'petri', 'petter', 'pg', 'phenomena', 'phenomenal', 'phifer', 'philip', 'philippe', 'phillip', 'philosophers', 'philosophic', 'philosophical', 'philosophically', 'philosophy', 'phoenix', 'phonce', 'phone', 'phoned', 'phones', 'phoney', 'phoniness', 'phony', 'photo', 'photographed', 'photographer', 'photographic', 'photography', 'photos', 'phrase', 'physical', 'physician', 'physique', 'pianist', 'piano', 'pic', 'picaresque', 'piccoli', 'pick', 'picked', 'pickup', 'picnic', 'picpus', 'picture', 'pictures', 'pie', 'piece', 'pieces', 'piecing', 'pierce', 'piercing', 'pies', 'piffle', 'pig', 'pile', 'piles', 'pileup', 'pillages', 'pillowcases', 'pilot', 'pimps', 'pin', 'pink', 'pinks', 'pinnacle', 'pinocchio', 'pinochet', 'pipe', 'pipeline', 'pique', 'pirate', 'piscopo', 'piss', 'pissed', 'pitch', 'pitched', 'pitfalls', 'pitiful', 'pitifully', 'pitted', 'pity', 'pitying', 'pixar', 'pizazz', 'pizza', 'place', 'placement', 'places', 'placid', 'placing', 'plague', 'plagued', 'plaguing', 'plain', 'plainly', 'plaintiveness', 'plan', 'plane', 'planet', 'planned', 'plans', 'plasma', 'plastic', 'plate', 'plateau', 'plato', 'platter', 'play', 'playbook', 'playboy', 'played', 'player', 'players', 'playful', 'playing', 'playlist', 'playoff', 'plays', 'playwriting', 'plea', 'pleas', 'pleasant', 'pleasantly', 'please', 'pleased', 'pleaser', 'pleasing', 'pleasingly', 'pleasurable', 'pleasure', 'pleasures', 'pleasuring', 'plenty', 'plethora', 'plex', 'plight', 'plimpton', 'plod', 'plodding', 'ploddingly', 'plods', 'plot', 'plotless', 'plotline', 'plots', 'plotted', 'plotting', 'plucking', 'plumbed', 'plumbing', 'plumbs', 'plummer', 'plummets', 'plunge', 'plunging', 'plus', 'plutonium', 'plympton', 'pocket', 'poem', 'poet', 'poetic', 'poetry', 'pogue', 'poignancy', 'poignant', 'point', 'pointed', 'pointless', 'points', 'poise', 'pok', 'poke', 'pokemon', 'pokes', 'pokey', 'poking', 'poky', 'polanski', 'police', 'polished', 'polite', 'politesse', 'political', 'politically', 'politics', 'pollute', 'pollution', 'pollyana', 'pompeo', 'pomposity', 'pompous', 'ponder', 'ponderous', 'pony', 'poof', 'pool', 'pooper', 'poor', 'poorly', 'pootie', 'pop', 'popcorn', 'popped', 'popping', 'popular', 'popularity', 'populated', 'populates', 'populating', 'populist', 'pore', 'pork', 'porn', 'porno', 'pornographic', 'pornography', 'porous', 'porridge', 'portent', 'portions', 'portrait', 'portraiture', 'portray', 'portrayal', 'portrayals', 'portrayed', 'portraying', 'portrays', 'portuguese', 'poses', 'posey', 'posing', 'position', 'positive', 'positively', 'possess', 'possibilities', 'possibility', 'possible', 'possibly', 'post', 'postcard', 'poster', 'posthumously', 'postmodern', 'posturing', 'pot', 'potboiler', 'potent', 'potential', 'potentially', 'potshots', 'potter', 'pounding', 'pours', 'pouty', 'poverty', 'pow', 'powder', 'power', 'powered', 'powerful', 'powerfully', 'powerhouse', 'powerpuff', 'powers', 'practically', 'practice', 'practices', 'praise', 'prank', 'pranks', 'pratfalls', 'pray', 'prayer', 'pre', 'preaches', 'preaching', 'preachy', 'precarious', 'preceded', 'precious', 'preciousness', 'precise', 'precisely', 'preciseness', 'precision', 'precocious', 'predators', 'predecessor', 'predecessors', 'predicament', 'predict', 'predictability', 'predictable', 'predictably', 'predisposed', 'preemptive', 'prefabricated', 'prefer', 'preferable', 'preferably', 'pregnancy', 'prejudice', 'preliminary', 'premise', 'preordained', 'prep', 'prepare', 'prepared', 'preposterous', 'preposterousness', 'prescient', 'prescribed', 'prescription', 'presence', 'present', 'presentation', 'presented', 'presenting', 'presents', 'preservation', 'preserves', 'preserving', 'president', 'presiding', 'press', 'pressed', 'presses', 'pressure', 'presume', 'preteen', 'pretend', 'pretends', 'pretension', 'pretensions', 'pretentious', 'prettiest', 'pretty', 'prevails', 'prevalent', 'prevent', 'prevention', 'prevents', 'preview', 'previous', 'previously', 'prey', 'price', 'priceless', 'pride', 'priggish', 'prim', 'prima', 'primal', 'primarily', 'primary', 'prime', 'primer', 'primitive', 'princess', 'princesses', 'principal', 'principled', 'printed', 'printing', 'prints', 'prism', 'prison', 'prisoners', 'pristine', 'private', 'privileged', 'privy', 'pro', 'probably', 'probe', 'probes', 'probing', 'problem', 'problematic', 'problems', 'procedural', 'procedure', 'proceed', 'proceedings', 'proceeds', 'process', 'processed', 'procession', 'proclaim', 'prod', 'produce', 'produced', 'producer', 'producers', 'product', 'production', 'productions', 'products', 'profession', 'professional', 'professionals', 'professors', 'proficiency', 'proficient', 'proficiently', 'profile', 'profound', 'profoundly', 'profundities', 'program', 'progress', 'progressed', 'progresses', 'progression', 'progressive', 'project', 'projectile', 'projection', 'projector', 'projects', 'prolific', 'prologue', 'prolonged', 'prom', 'promenade', 'prominent', 'prominently', 'promise', 'promised', 'promises', 'promising', 'promisingly', 'promotion', 'prone', 'pronounced', 'proof', 'propaganda', 'propelled', 'propels', 'propensity', 'proper', 'properly', 'properties', 'property', 'prophecies', 'prophet', 'proportions', 'proposal', 'proposes', 'propriety', 'pros', 'prose', 'prospect', 'prostitute', 'prostituted', 'protagonist', 'protagonists', 'protect', 'protecting', 'protective', 'protestors', 'proud', 'prove', 'proved', 'proven', 'proverbial', 'proves', 'provide', 'provided', 'provides', 'providing', 'province', 'provincial', 'proving', 'provocateur', 'provocative', 'provoke', 'provoked', 'provokes', 'provoking', 'prozac', 'prurient', 'pryce', 'pryor', 'pseudo', 'psyche', 'psychedelia', 'psychedelic', 'psycho', 'psychodrama', 'psychodramatics', 'psychological', 'psychologically', 'psychology', 'psychopathic', 'psychotic', 'puberty', 'pubescent', 'public', 'publicists', 'publicity', 'published', 'publishing', 'puddle', 'puerile', 'puff', 'pull', 'pulled', 'pulling', 'pulls', 'pulp', 'pulpiness', 'pulpy', 'pulse', 'pump', 'punch', 'punched', 'punches', 'punching', 'punchline', 'punchlines', 'punchy', 'punctuation', 'pungent', 'punishment', 'punk', 'punny', 'puppies', 'pur', 'pure', 'purely', 'purer', 'purgatory', 'purists', 'puritanical', 'purity', 'purportedly', 'purpose', 'purposefully', 'purposeless', 'purposes', 'purr', 'pursued', 'pursuers', 'pursuing', 'push', 'pushed', 'pushes', 'pushiness', 'pushing', 'put', 'putrid', 'puts', 'putters', 'putting', 'puttingly', 'puzzle', 'puzzled', 'puzzling', 'pyrotechnics', 'pyschological', 'pythonesque', 'qatsi', 'quaid', 'quaint', 'quaking', 'qualify', 'qualities', 'quality', 'quarter', 'quashed', 'quasi', 'queasy', 'queen', 'queens', 'quentin', 'quest', 'question', 'questionable', 'questioning', 'questions', 'quibble', 'quick', 'quickie', 'quickly', 'quicksand', 'quiet', 'quieter', 'quietly', 'quietude', 'quinn', 'quirkiness', 'quirks', 'quirky', 'quite', 'quitting', 'quivering', 'quixotic', 'quotations', 'race', 'races', 'rachel', 'racial', 'racism', 'radar', 'radiant', 'radiates', 'radical', 'radioactive', 'rae', 'rafael', 'raffish', 'ragbag', 'ragged', 'raging', 'rah', 'rails', 'raimi', 'raimondi', 'rain', 'rainbow', 'raindrop', 'raise', 'raised', 'raises', 'raison', 'raked', 'rally', 'ralph', 'ram', 'ramble', 'rambles', 'rambling', 'ramblings', 'ramifications', 'rampant', 'rampantly', 'ramsay', 'ran', 'rancid', 'rancorous', 'randall', 'random', 'randomness', 'range', 'ranges', 'rank', 'ranks', 'ransacked', 'ransacks', 'rant', 'rap', 'rape', 'raped', 'rapes', 'rapid', 'rapidly', 'rapids', 'rappers', 'rapport', 'rapt', 'rapturous', 'rare', 'rarely', 'rarest', 'rarity', 'rat', 'rate', 'rated', 'rates', 'rather', 'rating', 'ratio', 'ratliff', 'rats', 'rattling', 'raucous', 'raucously', 'raunch', 'raunchy', 'ravaging', 'raving', 'ravishing', 'raw', 'ray', 'raymond', 'razzle', 're', 'rea', 'reach', 'reached', 'reaches', 'react', 'reacting', 'reaction', 'reactionary', 'read', 'reader', 'readily', 'reading', 'readings', 'ready', 'reaffirms', 'real', 'realism', 'realistic', 'realistically', 'realities', 'reality', 'realization', 'realize', 'realized', 'realizes', 'realizing', 'really', 'realm', 'reap', 'reason', 'reasonably', 'reasons', 'reassembled', 'reassure', 'reassures', 'reassuring', 'reassuringly', 'rebel', 'recall', 'recalling', 'receive', 'received', 'receives', 'receiving', 'recent', 'recently', 'reception', 'recesses', 'recessive', 'recipe', 'recite', 'recklessness', 'reclaiming', 'recognise', 'recognizably', 'recognize', 'recognizes', 'recommend', 'recommendation', 'recommended', 'recompense', 'reconceptualize', 'reconciliation', 'reconstruction', 'record', 'recorded', 'recording', 'records', 'recount', 'recovering', 'recovers', 'recovery', 'recreated', 'recreates', 'recreating', 'recreation', 'recruiting', 'recycle', 'recycled', 'recycles', 'recycling', 'red', 'redeem', 'redeeming', 'redeems', 'redemption', 'rediscover', 'rediscovers', 'redone', 'reduce', 'reduced', 'reduces', 'reductions', 'reductive', 'redundancies', 'redundant', 'reefs', 'reek', 'reeked', 'reeking', 'reeks', 'reel', 'reese', 'reeses', 'references', 'referencing', 'referential', 'referred', 'refers', 'reflect', 'reflection', 'reflective', 'reflects', 'reflexive', 'refracting', 'refresh', 'refreshing', 'refreshingly', 'refugees', 'refusal', 'refused', 'refuses', 'refusing', 'regain', 'regalia', 'regard', 'regarding', 'regardless', 'regards', 'regeneration', 'reggio', 'region', 'register', 'registering', 'regret', 'regrets', 'regular', 'rehash', 'rehashes', 'rehearsed', 'reid', 'reigen', 'reign', 'reigns', 'reincarnation', 'rejected', 'rejects', 'rejigger', 'rekindles', 'relate', 'relating', 'relationship', 'relationships', 'relative', 'relatively', 'relaxed', 'relayed', 'relays', 'release', 'released', 'releases', 'releasing', 'relegated', 'relentless', 'relentlessly', 'relevance', 'relevant', 'reliable', 'reliance', 'relic', 'relied', 'relief', 'relies', 'relieved', 'religion', 'religious', 'relish', 'relocated', 'reluctant', 'rely', 'relying', 'remade', 'remain', 'remained', 'remains', 'remake', 'remarkable', 'remarkably', 'remember', 'remembered', 'remembering', 'remembrance', 'remind', 'reminded', 'reminder', 'reminding', 'reminds', 'reminiscent', 'remote', 'remotely', 'remove', 'removed', 'render', 'rendered', 'rendering', 'renegade', 'renewal', 'renner', 'reno', 'renowned', 'rent', 'reopens', 'repartee', 'repeated', 'repeatedly', 'repeating', 'repellantly', 'repellent', 'repetition', 'repetitious', 'repetitive', 'repetitively', 'replace', 'replaced', 'replacing', 'replete', 'report', 'reportedly', 'reprehensible', 'represented', 'representing', 'represents', 'repressed', 'reptilian', 'repugnant', 'repulse', 'repulsive', 'reputation', 'reputedly', 'requiem', 'require', 'required', 'requires', 'requiring', 'requisite', 'rerun', 'reruns', 'rescue', 'research', 'resemblance', 'resemble', 'resembles', 'resembling', 'resentment', 'resents', 'reserved', 'reshaping', 'reside', 'resident', 'resist', 'resistance', 'resolutely', 'resolution', 'resonance', 'resonant', 'resonate', 'resorting', 'resorts', 'resourceful', 'resources', 'respect', 'respectable', 'respecting', 'respectively', 'respects', 'respite', 'respond', 'responsible', 'rest', 'restage', 'restatement', 'restless', 'restrained', 'restraint', 'restroom', 'rests', 'result', 'resulted', 'results', 'resume', 'resumes', 'resurrecting', 'resurrection', 'resuscitate', 'retail', 'retaining', 'retains', 'retaliation', 'retelling', 'retiring', 'retitle', 'retooled', 'retooling', 'retread', 'retreats', 'retro', 'retrograde', 'retrospectively', 'return', 'returned', 'returns', 'reunion', 'reveal', 'revealed', 'revealing', 'reveals', 'revel', 'revelation', 'revelations', 'revelatory', 'revelled', 'revels', 'revenge', 'reverberates', 'reverent', 'reverie', 'reversal', 'review', 'revigorates', 'revisionism', 'revisionist', 'revisiting', 'revitalize', 'revolting', 'revolution', 'revolutionary', 'revulsion', 'reward', 'rewarded', 'rewarding', 'rewards', 'reworking', 'rewrite', 'rewritten', 'reyes', 'reynolds', 'rhapsodic', 'rhapsodize', 'rhapsodizes', 'rhetoric', 'rhythm', 'rhythms', 'ribcage', 'ribisi', 'rice', 'rich', 'richard', 'richer', 'richly', 'richness', 'rick', 'ricture', 'ridden', 'riddle', 'riddles', 'ride', 'rider', 'ridicule', 'ridiculous', 'ridiculousness', 'riding', 'ridley', 'rife', 'rifkin', 'right', 'righteous', 'righteousness', 'rightly', 'rigid', 'rigidly', 'rigor', 'riled', 'ring', 'ringing', 'rings', 'ringside', 'ringu', 'rinzler', 'riot', 'rip', 'ripe', 'ripoff', 'ripper', 'ripping', 'rise', 'rises', 'rising', 'risks', 'risky', 'ritchie', 'rival', 'rivalry', 'rivals', 'river', 'riveted', 'riveting', 'roach', 'road', 'roads', 'roaring', 'roars', 'rob', 'robert', 'roberto', 'roberts', 'robin', 'robinson', 'robotically', 'robust', 'robustness', 'rocawear', 'rock', 'rocket', 'rocks', 'rockumentary', 'rocky', 'rodan', 'rode', 'rodrigues', 'rodriguez', 'roger', 'rogers', 'rogue', 'rohmer', 'roiling', 'roland', 'role', 'roles', 'roll', 'roller', 'rollerball', 'rollicking', 'rolling', 'rolls', 'rom', 'roman', 'romance', 'romancer', 'romances', 'romanek', 'romantic', 'romanticism', 'romanticization', 'romanticized', 'romeo', 'romero', 'romething', 'romoli', 'romp', 'ron', 'room', 'rooms', 'root', 'rooted', 'rooting', 'roots', 'rope', 'rorschach', 'rosario', 'rose', 'rosemary', 'roses', 'roster', 'rote', 'rotoscope', 'rotting', 'rouge', 'rough', 'roughshod', 'round', 'rounded', 'roundelay', 'rouses', 'route', 'routine', 'routines', 'row', 'rowdy', 'rowling', 'royals', 'rrb', 'rubbish', 'rubbo', 'rude', 'rueful', 'ruffle', 'rug', 'ruggero', 'rugrats', 'ruined', 'ruins', 'rules', 'rumblings', 'rumination', 'ruminations', 'rumor', 'run', 'runner', 'running', 'runs', 'runteldat', 'runyon', 'rural', 'ruse', 'rush', 'rushed', 'russell', 'russian', 'rustic', 'rut', 'ruthless', 'ruthlessly', 'ryan', 'ryder', 'rye', 'rymer', 's1m0ne', 'sabotage', 'sabotaged', 'saccharine', 'sack', 'sacrifice', 'sacrificed', 'sacrifices', 'sacrificing', 'sad', 'saddens', 'saddest', 'saddle', 'saddled', 'sade', 'sadistic', 'sadly', 'sadness', 'safe', 'sag', 'said', 'saigon', 'sailor', 'sake', 'salacious', 'sale', 'sallies', 'salma', 'salt', 'salton', 'salute', 'salvage', 'salvos', 'sam', 'same', 'sameness', 'samira', 'sampi', 'sample', 'samuel', 'samurai', 'san', 'sanctimonious', 'sanctimoniousness', 'sanctimony', 'sand', 'sandbox', 'sandeman', 'sandler', 'sandlerian', 'sandra', 'sandwich', 'sane', 'sanguine', 'sanity', 'santa', 'sap', 'sappiness', 'sappy', 'sara', 'sarah', 'sarandon', 'sardonic', 'sascha', 'sassy', 'sat', 'satan', 'satin', 'satire', 'satiric', 'satirical', 'satisfaction', 'satisfactorily', 'satisfactory', 'satisfied', 'satisfies', 'satisfy', 'satisfying', 'satisfyingly', 'saturday', 'saucy', 'savage', 'savaged', 'save', 'saved', 'saves', 'saving', 'savor', 'savory', 'savour', 'savvy', 'saw', 'say', 'saying', 'sayles', 'says', 'scalds', 'scale', 'scam', 'scan', 'scandalous', 'scandals', 'scar', 'scarcely', 'scare', 'scared', 'scares', 'scarface', 'scarier', 'scariest', 'scarily', 'scarlet', 'scarpia', 'scary', 'scathingly', 'scattered', 'scenario', 'scenarios', 'scene', 'scenery', 'scenes', 'scenic', 'scented', 'sch', 'schaefer', 'schaeffer', 'schemes', 'schepisi', 'scherfig', 'schiffer', 'schindler', 'schizophrenia', 'schlock', 'schlocky', 'schmaltz', 'schmaltzy', 'schmidt', 'schmucks', 'schneider', 'schnieder', 'schnitzler', 'school', 'schoolboy', 'schoolgirl', 'schools', 'schrader', 'schtick', 'schticky', 'schumacher', 'schwarzenegger', 'sci', 'science', 'scientific', 'scientist', 'scientists', 'scooby', 'scoopers', 'scooter', 'scope', 'scorcher', 'score', 'scored', 'scores', 'scoring', 'scorn', 'scorpion', 'scorsese', 'scotland', 'scott', 'scottish', 'scouse', 'scrap', 'scrapbook', 'scratch', 'scratching', 'scream', 'screaming', 'screams', 'screed', 'screen', 'screening', 'screenings', 'screenplay', 'screenplays', 'screens', 'screenwriter', 'screenwriters', 'screenwriting', 'screwball', 'screwed', 'screwing', 'screwy', 'scribe', 'script', 'scripted', 'scripters', 'scripting', 'scripts', 'scriptwriters', 'scrooge', 'scruffy', 'scrutiny', 'scum', 'scummy', 'scuttled', 'scuzzy', 'sea', 'seagal', 'seal', 'sealed', 'seamless', 'seamstress', 'seamy', 'sean', 'search', 'searching', 'searing', 'seas', 'season', 'seasonal', 'seat', 'seater', 'seats', 'seattle', 'second', 'secondhand', 'seconds', 'secret', 'secretary', 'secretions', 'secrets', 'section', 'secular', 'seductive', 'see', 'seed', 'seeds', 'seeing', 'seek', 'seeking', 'seeks', 'seem', 'seemed', 'seeming', 'seemingly', 'seems', 'seen', 'seeping', 'sees', 'seesawing', 'segal', 'segment', 'seigner', 'seinfeld', 'seizing', 'seldahl', 'seldhal', 'seldom', 'selection', 'self', 'sell', 'seller', 'sellers', 'selves', 'semen', 'semi', 'semitism', 'send', 'sending', 'sends', 'sensation', 'sensational', 'sensationalism', 'sensationalize', 'sense', 'senseless', 'senses', 'sensibilities', 'sensibility', 'sensitive', 'sensitivities', 'sensitivity', 'sensual', 'sensuality', 'sensuous', 'sent', 'sentence', 'sentiment', 'sentimental', 'sentimentality', 'sentimentalizing', 'sentiments', 'separate', 'separates', 'separation', 'sept', 'september', 'septic', 'sequel', 'sequels', 'sequence', 'sequences', 'serbian', 'serbs', 'serene', 'serenely', 'serenity', 'sergio', 'serial', 'series', 'serious', 'seriously', 'seriousness', 'sermon', 'sermonize', 'serpent', 'serrault', 'serry', 'servants', 'serve', 'served', 'serves', 'service', 'serviceability', 'serviceable', 'serving', 'sessions', 'set', 'setpiece', 'setpieces', 'sets', 'setting', 'settings', 'settle', 'settled', 'settles', 'setup', 'setups', 'seven', 'seventeen', 'seventy', 'sever', 'several', 'severe', 'sewer', 'sewing', 'sex', 'sexes', 'sexiness', 'sexism', 'sexpot', 'sexual', 'sexuality', 'sexually', 'sexy', 'shabby', 'shackles', 'shades', 'shadow', 'shadows', 'shadowy', 'shadyac', 'shaggy', 'shainberg', 'shake', 'shaken', 'shakes', 'shakespeare', 'shakespearean', 'shakesperean', 'shaking', 'shaky', 'shall', 'shallow', 'shallows', 'sham', 'shambles', 'shame', 'shameful', 'shamefully', 'shameless', 'shamelessly', 'shanghai', 'shape', 'shaped', 'shapeless', 'shapiro', 'share', 'sharing', 'sharks', 'sharp', 'sharpener', 'sharper', 'sharply', 'shatner', 'shattering', 'shatters', 'she', 'shearer', 'shedding', 'sheds', 'sheer', 'sheerly', 'sheets', 'shekhar', 'shelf', 'shell', 'shenanigans', 'shepard', 'sheridan', 'shift', 'shifting', 'shimizu', 'shimmering', 'shimmeringly', 'shindler', 'shine', 'shiner', 'shines', 'shining', 'ship', 'shiri', 'shirley', 'shirt', 'shiver', 'shivers', 'shmear', 'shock', 'shocker', 'shockers', 'shocking', 'shockingly', 'shocks', 'shockwaves', 'shoddy', 'shoe', 'shoes', 'shoestring', 'shoot', 'shooting', 'shootout', 'shop', 'shopping', 'shore', 'short', 'shortcomings', 'shorter', 'shortness', 'shorts', 'shot', 'shots', 'should', 'shoulder', 'shoulders', 'shout', 'shouting', 'show', 'showcase', 'showcases', 'showdown', 'shower', 'showgirls', 'showing', 'shown', 'shows', 'showtime', 'shred', 'shreve', 'shrewd', 'shrewdly', 'shrieky', 'shrill', 'shriveled', 'shrug', 'shtick', 'shu', 'shudder', 'shum', 'shunji', 'shut', 'shyamalan', 'sibling', 'sica', 'sick', 'sickening', 'sickeningly', 'sickly', 'side', 'sided', 'sidedness', 'sidekicks', 'sides', 'sidesplitting', 'sidewalks', 'siege', 'siegel', 'sight', 'sights', 'sign', 'signals', 'signature', 'significant', 'significantly', 'signing', 'signpost', 'signposts', 'signs', 'silbersteins', 'silence', 'silences', 'silent', 'sillier', 'sillified', 'silliness', 'silly', 'silver', 'similar', 'similarly', 'simmer', 'simmering', 'simone', 'simpering', 'simple', 'simpleminded', 'simpler', 'simplicity', 'simplistic', 'simply', 'simpson', 'simultaneously', 'sin', 'since', 'sincere', 'sincerity', 'sing', 'singer', 'singh', 'singing', 'single', 'singles', 'singular', 'singularly', 'sinister', 'sink', 'sinks', 'sinuously', 'sip', 'siren', 'sirk', 'sister', 'sisterhood', 'sisters', 'sit', 'sitcom', 'sitcomishly', 'sits', 'sitting', 'situates', 'situation', 'situations', 'siuation', 'six', 'sixth', 'sixties', 'size', 'sized', 'sizzle', 'skateboard', 'skateboarder', 'skateboards', 'skeeved', 'skeleton', 'sketch', 'sketchiest', 'sketchy', 'skewed', 'skewering', 'skid', 'skidding', 'skies', 'skill', 'skilled', 'skillful', 'skillfully', 'skills', 'skimpy', 'skims', 'skin', 'skinny', 'skins', 'skip', 'skipped', 'skipping', 'skirmishes', 'skit', 'skittish', 'skulls', 'sky', 'skyscraper', 'slack', 'slackers', 'slaloming', 'slam', 'slap', 'slapdash', 'slaps', 'slapstick', 'slash', 'slasher', 'slather', 'slathered', 'slave', 'slc', 'sleazy', 'sledgehammer', 'sleekness', 'sleep', 'sleeper', 'sleepless', 'sleeve', 'sleight', 'slender', 'slice', 'slick', 'slickest', 'slide', 'slight', 'slightest', 'slightly', 'slim', 'slimed', 'slip', 'slipperiness', 'slippery', 'slips', 'slivers', 'slo', 'slob', 'slog', 'slogans', 'slop', 'slope', 'sloppily', 'sloppiness', 'sloppy', 'slot', 'sloughs', 'slovenly', 'slow', 'slowed', 'slowly', 'sluggish', 'slummer', 'slump', 'sly', 'smack', 'smackdown', 'smacks', 'small', 'smaller', 'smallest', 'smart', 'smarter', 'smartest', 'smartly', 'smarts', 'smash', 'smear', 'smeary', 'smell', 'smile', 'smiling', 'smirk', 'smith', 'smoke', 'smokers', 'smokey', 'smoking', 'smoky', 'smoochy', 'smooth', 'smoother', 'smoothly', 'smorgasbord', 'smug', 'smuggling', 'smugly', 'smutty', 'snagged', 'snail', 'snake', 'snap', 'snapping', 'snappy', 'snaps', 'snapshot', 'snared', 'snatch', 'sneak', 'sneaks', 'sneering', 'sneers', 'sneeze', 'snickers', 'snide', 'sniffle', 'snipes', 'snl', 'snobbery', 'snoots', 'snooze', 'snore', 'snow', 'snowman', 'snubbing', 'so', 'soaked', 'soap', 'soapy', 'soar', 'soars', 'sober', 'sobering', 'soccer', 'social', 'socially', 'societal', 'society', 'sociological', 'sociology', 'sociopathy', 'sodden', 'soderbergh', 'sofia', 'soft', 'softheaded', 'soggy', 'solaris', 'soldiers', 'sole', 'solely', 'solemn', 'solemnity', 'solid', 'solidly', 'soliloquies', 'solo', 'solomonic', 'solondz', 'solutions', 'somber', 'some', 'somebodies', 'somebody', 'someday', 'somehow', 'someone', 'someplace', 'something', 'somethings', 'sometimes', 'somewhat', 'somewhere', 'sommers', 'somnambulant', 'son', 'song', 'songbird', 'songs', 'sonnenfeld', 'sonny', 'sons', 'soon', 'sooner', 'sooooo', 'soothe', 'soothing', 'sophie', 'sophisticated', 'sophistication', 'sophomore', 'sophomoric', 'soporific', 'sopranos', 'sorcery', 'sordid', 'sorely', 'sorority', 'sorriest', 'sorrow', 'sorrowful', 'sorrowfully', 'sorry', 'sort', 'sorts', 'sorvino', 'souffl', 'soul', 'soulful', 'soulless', 'soullessness', 'souls', 'sound', 'sounding', 'sounds', 'soundtrack', 'sour', 'source', 'sources', 'soured', 'south', 'southern', 'souvlaki', 'space', 'spade', 'spader', 'spain', 'spall', 'span', 'spangle', 'spanish', 'spanning', 'spare', 'spark', 'sparkling', 'sparks', 'sparse', 'spawned', 'speak', 'speaking', 'speaks', 'spears', 'special', 'specialized', 'species', 'specific', 'specifically', 'specifics', 'specimen', 'spectacle', 'spectacular', 'spectacularly', 'spectator', 'spectators', 'specter', 'speculation', 'speculative', 'speed', 'speeds', 'speedy', 'spell', 'spellbinding', 'spells', 'spend', 'spending', 'spends', 'spent', 'spice', 'spiced', 'spicy', 'spider', 'spied', 'spielberg', 'spielbergian', 'spies', 'spiffing', 'spiffy', 'spike', 'spiked', 'spikes', 'spill', 'spin', 'spindly', 'spine', 'spinner', 'spinning', 'spinoff', 'spins', 'spiral', 'spirals', 'spirit', 'spirited', 'spirits', 'spiritual', 'spiritualism', 'spirituality', 'spiritually', 'spite', 'spits', 'splash', 'splashed', 'splatter', 'splattering', 'splendid', 'splendidly', 'splendor', 'split', 'splitting', 'spoken', 'spontaneity', 'spontaneous', 'spoof', 'spoofs', 'spookily', 'spookiness', 'spooks', 'spooky', 'sporadic', 'sport', 'sporting', 'sports', 'sportsmen', 'spot', 'spotlight', 'spots', 'spousal', 'spouses', 'spout', 'sprawling', 'spreading', 'spreads', 'sprightly', 'spring', 'springing', 'springs', 'sprinkled', 'sprung', 'sputters', 'spy', 'squabbling', 'squad', 'squander', 'squandering', 'squanders', 'square', 'squarely', 'squareness', 'squashed', 'squeeze', 'squint', 'squirm', 'squirts', 'ss', 'stab', 'stabbing', 'stable', 'stabs', 'stacked', 'stacks', 'stacy', 'stadium', 'stage', 'staged', 'stages', 'stagey', 'staggered', 'staggering', 'staggeringly', 'staggers', 'stagings', 'stagy', 'stained', 'stains', 'stakes', 'stale', 'stalked', 'stalking', 'stallion', 'stalls', 'stamina', 'stammering', 'stamp', 'stand', 'standard', 'standardized', 'standards', 'standbys', 'standing', 'standoffish', 'standout', 'stands', 'stanley', 'star', 'stardom', 'stare', 'staring', 'stark', 'starring', 'stars', 'starship', 'start', 'started', 'starting', 'startled', 'startling', 'starts', 'starving', 'stasis', 'state', 'stately', 'statements', 'states', 'static', 'station', 'status', 'stay', 'stays', 'steadfastly', 'steadily', 'steady', 'steal', 'stealing', 'steals', 'steam', 'steamboat', 'steaming', 'steamy', 'steeped', 'steers', 'stein', 'steinis', 'stellar', 'stench', 'step', 'stepdad', 'stephen', 'stepmom', 'stepmother', 'stepped', 'steps', 'stereotype', 'stereotypes', 'stereotypical', 'sterile', 'sterling', 'steve', 'steven', 'stevenon', 'stevens', 'stevenson', 'stew', 'stewart', 'stick', 'stickiness', 'sticking', 'sticks', 'sticky', 'stiff', 'stifling', 'stiflingly', 'stiletto', 'still', 'stills', 'stilted', 'stimulate', 'stimulating', 'stimulus', 'sting', 'stink', 'stinker', 'stinks', 'stirring', 'stirs', 'stitch', 'stitched', 'stock', 'stockings', 'stockwell', 'stoked', 'stolid', 'stomach', 'stomached', 'stomp', 'stomps', 'stone', 'stonehenge', 'stones', 'stooping', 'stoops', 'stop', 'stoppard', 'stopped', 'stoppingly', 'stops', 'store', 'stores', 'stories', 'storm', 'stortelling', 'story', 'storyline', 'storylines', 'storyteller', 'storytelling', 'straight', 'straightforward', 'strain', 'strained', 'strains', 'stranded', 'strands', 'strange', 'strangely', 'strangeness', 'strangers', 'strategy', 'strays', 'streaks', 'stream', 'streamed', 'streamlined', 'street', 'streets', 'strength', 'strengths', 'strenuously', 'stress', 'stretch', 'stretched', 'stretches', 'stricken', 'strict', 'strictly', 'strike', 'strikes', 'striking', 'strikingly', 'string', 'strings', 'strip', 'stripe', 'stripped', 'strips', 'strives', 'stroke', 'stroked', 'strokes', 'strolls', 'strong', 'stronger', 'strongest', 'strongly', 'strongman', 'struck', 'structure', 'structured', 'struggle', 'struggled', 'struggles', 'struggling', 'strung', 'strutting', 'stuart', 'stubbornly', 'stuck', 'stud', 'studded', 'student', 'students', 'studio', 'studios', 'studiously', 'study', 'stuff', 'stuffed', 'stuffiest', 'stuffing', 'stuffs', 'stuffy', 'stultifyingly', 'stumble', 'stumbles', 'stunning', 'stunningly', 'stunt', 'stunts', 'stuntwork', 'stupid', 'stupidity', 'sturdiest', 'sturm', 'style', 'styled', 'styles', 'stylings', 'stylish', 'stylishly', 'stylist', 'stylistic', 'stylistically', 'stylized', 'sub', 'subculture', 'subcultures', 'subgenre', 'subject', 'subjected', 'subjective', 'subjects', 'subjugate', 'sublime', 'sublimely', 'subliminally', 'submarine', 'submerged', 'submerging', 'subordinate', 'subplot', 'subplots', 'subsided', 'substance', 'substances', 'substandard', 'substantial', 'substitutable', 'substitute', 'substitutes', 'subtext', 'subtexts', 'subtitled', 'subtitles', 'subtle', 'subtler', 'subtlest', 'subtlety', 'subtly', 'suburban', 'subversive', 'subzero', 'succeed', 'succeeded', 'succeeds', 'success', 'successful', 'successfully', 'successor', 'succumb', 'succumbing', 'succumbs', 'such', 'suck', 'sucked', 'suckers', 'sucking', 'sucks', 'sudden', 'sudsy', 'suey', 'suffer', 'suffered', 'suffering', 'suffers', 'sufficiently', 'suffocate', 'suffocating', 'suffused', 'sugar', 'sugarcoated', 'sugarman', 'suge', 'suggest', 'suggested', 'suggesting', 'suggestion', 'suggestive', 'suggests', 'suicide', 'suit', 'suitable', 'suitably', 'suitcase', 'suited', 'suits', 'sulky', 'sullivan', 'sultry', 'sum', 'summer', 'summertime', 'summery', 'sumptuous', 'sun', 'sunbaked', 'sundance', 'sunday', 'sung', 'sunk', 'sunny', 'sunset', 'sunshine', 'super', 'superb', 'superbly', 'superficial', 'superficiality', 'superficially', 'superfluous', 'superhero', 'superheroics', 'superior', 'superman', 'supermarket', 'supernatural', 'supple', 'supplies', 'supply', 'support', 'supporting', 'suppose', 'supposed', 'supposedly', 'suppression', 'supremely', 'supremes', 'sure', 'surefire', 'surehanded', 'surely', 'surest', 'surf', 'surface', 'surfeit', 'surfer', 'surfing', 'surge', 'surgeon', 'surplus', 'surprise', 'surprised', 'surprises', 'surprising', 'surprisingly', 'surreal', 'surrealism', 'surrealist', 'surrealistic', 'surrender', 'surrendering', 'surrenders', 'surround', 'surrounding', 'surroundings', 'surrounds', 'surveillance', 'surveys', 'survivable', 'survival', 'survive', 'surviving', 'survivors', 'susan', 'susceptible', 'suspect', 'suspected', 'suspecting', 'suspects', 'suspend', 'suspended', 'suspense', 'suspenseful', 'sustain', 'sustained', 'sustains', 'sven', 'swaggers', 'swallow', 'swan', 'swank', 'swathe', 'sway', 'swaying', 'swear', 'sweat', 'sweaty', 'swedish', 'sweep', 'sweeping', 'sweet', 'sweetest', 'sweetheart', 'sweetly', 'sweetness', 'swept', 'swiftly', 'swill', 'swim', 'swimfan', 'swimming', 'swims', 'swingers', 'swinging', 'swings', 'swipe', 'swirl', 'swirling', 'switch', 'switchblade', 'switching', 'swooning', 'sword', 'swords', 'swung', 'sy', 'sydney', 'sydow', 'symbolic', 'symbolically', 'symbolism', 'sympathetic', 'sympathies', 'sympathizing', 'sympathy', 'symptom', 'synagogue', 'synching', 'synthetic', 'syrup', 'system', 'systematically', 'sytle', 'szpilman', 'table', 'tables', 'tabloid', 'tabloids', 'taboo', 'tacked', 'tackled', 'tackles', 'tackling', 'tacky', 'tactic', 'tactics', 'tadpole', 'tag', 'tagline', 'tail', 'tailor', 'tainted', 'taiwanese', 'take', 'taken', 'takes', 'taking', 'talanc', 'tale', 'talent', 'talented', 'talents', 'tales', 'talk', 'talkers', 'talkiness', 'talking', 'talks', 'talky', 'tambi', 'tambor', 'tame', 'tamer', 'tang', 'tangents', 'tangled', 'tank', 'tanks', 'tantamount', 'tap', 'tape', 'tapestry', 'tapping', 'taps', 'tara', 'tarantino', 'tarantula', 'tardier', 'target', 'targeted', 'targets', 'tartakovsky', 'tartly', 'task', 'taste', 'tasteful', 'tasteless', 'tastelessness', 'tasty', 'tat', 'tattered', 'tatters', 'tattoo', 'tattoos', 'taut', 'tautou', 'tavernier', 'tawdry', 'tax', 'taxi', 'taxicab', 'taylor', 'taymor', 'tea', 'teach', 'teacher', 'teachers', 'team', 'teaming', 'teams', 'tear', 'tearful', 'tearing', 'tearjerker', 'tears', 'tease', 'teasing', 'teau', 'tech', 'technical', 'technically', 'technique', 'techniques', 'techno', 'technological', 'technologies', 'technology', 'teddy', 'tedious', 'tediously', 'tedium', 'teeming', 'teen', 'teenage', 'teenaged', 'teenager', 'teenagers', 'teens', 'teeny', 'teenybopper', 'teetering', 'teeth', 'telanovela', 'telegrams', 'telemarketers', 'telenovela', 'telephone', 'telescope', 'televised', 'television', 'tell', 'telling', 'tells', 'tempered', 'temple', 'temporal', 'temptations', 'tempted', 'tempting', 'temptingly', 'ten', 'tenacious', 'tend', 'tendencies', 'tendency', 'tendentious', 'tender', 'tenderness', 'tends', 'tenor', 'tens', 'tense', 'tension', 'tensions', 'tenth', 'tep', 'tepid', 'tequila', 'term', 'terminal', 'terminally', 'terms', 'terrible', 'terribly', 'terrific', 'terrifically', 'terrifying', 'territory', 'terror', 'terrorist', 'terrorists', 'terry', 'test', 'testament', 'testimony', 'testing', 'testosterone', 'testud', 'text', 'textbook', 'texture', 'than', 'thank', 'thankfully', 'thanks', 'that', 'the', 'theater', 'theaters', 'theatre', 'theatrical', 'theatrically', 'theatrics', 'their', 'them', 'thematic', 'thematically', 'theme', 'themed', 'themes', 'themselves', 'then', 'theological', 'theology', 'theories', 'theorist', 'theorizing', 'theory', 'therapeutic', 'there', 'therefore', 'these', 'thesis', 'thewlis', 'they', 'thick', 'thin', 'thing', 'things', 'think', 'thinkers', 'thinking', 'thinks', 'thinly', 'thinness', 'third', 'thirds', 'thirst', 'thirteen', 'thirty', 'this', 'thomas', 'thornberry', 'thornberrys', 'thorough', 'thoroughfare', 'thoroughly', 'those', 'thou', 'though', 'thought', 'thoughtful', 'thoughtfully', 'thoughtfulness', 'thoughtless', 'thoughtlessly', 'thoughts', 'thousand', 'thousands', 'threadbare', 'threads', 'threat', 'threatened', 'threatens', 'three', 'threefold', 'threw', 'thrill', 'thrilled', 'thriller', 'thrillers', 'thrilling', 'thrillingly', 'thrills', 'thrives', 'throbbing', 'throes', 'through', 'throughout', 'throw', 'throwaway', 'throwing', 'thrown', 'throws', 'thrust', 'thrusts', 'thud', 'thuds', 'thulani', 'thumbing', 'thumbs', 'thump', 'thumpingly', 'thunderstorms', 'thurman', 'tian', 'tick', 'ticket', 'tickets', 'ticking', 'tickled', 'tickles', 'ticks', 'tics', 'tides', 'tied', 'tier', 'ties', 'tiger', 'tight', 'tighter', 'tightly', 'tightrope', 'til', 'tim', 'time', 'timed', 'timeless', 'timely', 'timeout', 'timer', 'times', 'timid', 'timing', 'tinge', 'tiniest', 'tinny', 'tinsel', 'tinted', 'tiny', 'tirade', 'tired', 'tiresome', 'tiresomely', 'tiring', 'tissues', 'tit', 'titans', 'title', 'titled', 'titles', 'tits', 'titular', 'titus', 'to', 'toback', 'today', 'todd', 'toes', 'together', 'togetherness', 'toilet', 'told', 'tolerable', 'tolerance', 'tom', 'tomatoes', 'tomfoolery', 'tommy', 'tomorrow', 'ton', 'tonal', 'tonally', 'tone', 'toned', 'tones', 'tongue', 'tongues', 'tonight', 'tony', 'too', 'took', 'tool', 'toolbags', 'tooth', 'toothless', 'tootsie', 'top', 'topic', 'topical', 'topics', 'topless', 'topple', 'tops', 'torments', 'torn', 'toro', 'torpedo', 'torrent', 'torture', 'tortured', 'tosca', 'toss', 'tossed', 'tosses', 'total', 'totalitarian', 'totally', 'touch', 'touched', 'touches', 'touching', 'touchingly', 'touchstone', 'tough', 'toughest', 'tour', 'tourism', 'tourists', 'tout', 'toward', 'towards', 'towering', 'town', 'toy', 'toys', 'trace', 'traced', 'traces', 'track', 'tracking', 'trademark', 'tradition', 'traditional', 'traditionally', 'traditions', 'traffic', 'traffics', 'tragedies', 'tragedy', 'tragic', 'tragically', 'trail', 'trailer', 'train', 'trainspotting', 'traits', 'tranquil', 'transcend', 'transcendence', 'transcendent', 'transcends', 'transfigures', 'transfixes', 'transform', 'transformation', 'transformed', 'transforms', 'transgression', 'transgressive', 'transition', 'translate', 'translating', 'translation', 'transparency', 'transparent', 'transported', 'transporter', 'transporting', 'transvestite', 'trap', 'trapeze', 'trapped', 'trappings', 'trash', 'trashy', 'travail', 'travails', 'travel', 'traveled', 'traveler', 'travelogue', 'travesty', 'travis', 'treachery', 'treacle', 'treacly', 'treading', 'treads', 'treasure', 'treasured', 'treat', 'treated', 'treating', 'treatise', 'treatment', 'treats', 'trees', 'trek', 'tremble', 'trembling', 'tremendous', 'tremendously', 'tremors', 'trenchant', 'tres', 'trey', 'trial', 'trials', 'triangle', 'triangles', 'tribute', 'trick', 'trickery', 'tricks', 'tried', 'trier', 'tries', 'trifle', 'trifling', 'trilogy', 'trim', 'trimmed', 'trimmings', 'trio', 'trip', 'tripe', 'triple', 'trite', 'triteness', 'triumph', 'triumphant', 'triumphantly', 'triumphs', 'trivialize', 'trivializing', 'trod', 'trombone', 'tron', 'troopers', 'tropes', 'tropic', 'trot', 'trots', 'trotting', 'trouble', 'troubled', 'troubling', 'trounce', 'trove', 'truck', 'trudge', 'true', 'truest', 'truffaut', 'truly', 'trumpet', 'trust', 'trusted', 'trusts', 'truth', 'truthful', 'truths', 'try', 'trying', 'tryingly', 'tsai', 'tso', 'tte', 'ttner', 'tu', 'tub', 'tuck', 'tucked', 'tucker', 'tufano', 'tug', 'tully', 'tummy', 'tumult', 'tumultuous', 'tuned', 'tunes', 'tunis', 'tunisian', 'tunnel', 'tunnels', 'tunney', 'tupac', 'turbulent', 'turd', 'turf', 'turgid', 'turkey', 'turks', 'turmoil', 'turn', 'turned', 'turner', 'turning', 'turns', 'turpin', 'tutorial', 'tuxedo', 'tv', 'twaddle', 'tweener', 'twelve', 'twenty', 'twentysomething', 'twice', 'twilight', 'twin', 'twinkling', 'twinkly', 'twirling', 'twist', 'twisted', 'twisting', 'twists', 'twisty', 'twitchy', 'two', 'twohy', 'tyco', 'tykwer', 'type', 'typed', 'types', 'typical', 'tyson', 'ub', 'ugh', 'uglier', 'ugliness', 'ugly', 'uh', 'uhf', 'uhhh', 'ultimate', 'ultimately', 'ultra', 'un', 'unabashed', 'unabashedly', 'unable', 'unaccountable', 'unadorned', 'unadulterated', 'unafraid', 'unambitious', 'unapologetic', 'unappealing', 'unashamedly', 'unassuming', 'unattractive', 'unbalanced', 'unbearable', 'unbearably', 'unbelievable', 'unbelievably', 'unblinking', 'unblinkingly', 'unbreakable', 'unbridled', 'uncanny', 'uncertain', 'unchanged', 'uncharismatically', 'uncinematic', 'uncle', 'unclean', 'unclear', 'uncluttered', 'uncomfortable', 'uncomfortably', 'uncommonly', 'uncompelling', 'uncompromising', 'unconcerned', 'unconditional', 'unconned', 'unconventional', 'unconvincing', 'uncouth', 'uncover', 'uncovers', 'uncreative', 'uncut', 'und', 'undead', 'undemanding', 'undeniable', 'undeniably', 'under', 'underachiever', 'underappreciated', 'underbelly', 'undercover', 'undercurrent', 'undercut', 'undercuts', 'underdeveloped', 'underdog', 'underestimated', 'undergo', 'undergoing', 'undergrad', 'undergraduate', 'underground', 'underlay', 'underlies', 'underlines', 'underlying', 'undermined', 'undermining', 'underneath', 'undernourished', 'underplays', 'underrated', 'underrehearsed', 'unders', 'underscore', 'underscoring', 'understand', 'understandable', 'understanding', 'understands', 'understated', 'understatement', 'undertaken', 'undertaking', 'undertone', 'underutilized', 'underventilated', 'underway', 'underwear', 'underwhelming', 'underworld', 'undeserved', 'undeterminable', 'undiminished', 'undisputed', 'undistinguished', 'undone', 'undoubtedly', 'undramatic', 'undying', 'unearth', 'uneasy', 'unembarrassing', 'unemployment', 'unencouraging', 'unendurable', 'unengaging', 'unentertaining', 'unequivocally', 'unerring', 'uneven', 'unevenly', 'uneventful', 'unexamined', 'unexpected', 'unexpectedly', 'unexplainable', 'unexplored', 'unfaithful', 'unfakable', 'unfilmable', 'unflappable', 'unflinching', 'unfocused', 'unfold', 'unfolding', 'unfolds', 'unforced', 'unforgettable', 'unforgivingly', 'unfortunate', 'unfortunately', 'unfulfilling', 'unfunny', 'unfurls', 'unfussily', 'ungainly', 'unguarded', 'unhappiness', 'unhappy', 'unhibited', 'unholy', 'unhurried', 'uni', 'uniformly', 'unimaginable', 'unimaginative', 'unimaginatively', 'unimpeachable', 'unimpressively', 'uninflected', 'uninhibited', 'uninitiated', 'uninspired', 'uninspiring', 'unintentional', 'unintentionally', 'uninteresting', 'uninventive', 'uninvolving', 'unique', 'uniquely', 'uniqueness', 'united', 'units', 'univac', 'universal', 'universe', 'university', 'unknowable', 'unknown', 'unlaughable', 'unleashed', 'unleashes', 'unless', 'unlikable', 'unlike', 'unlikeable', 'unlikely', 'unlimited', 'unmemorable', 'unmentionables', 'unmistakable', 'unmotivated', 'unnamed', 'unnecessary', 'unnerving', 'unnoticed', 'unoriginal', 'unpaid', 'unparalleled', 'unpersuasive', 'unpleasant', 'unpleasantly', 'unpredictable', 'unpretentious', 'unprovoked', 'unrealized', 'unrecoverable', 'unrelenting', 'unrelentingly', 'unreligious', 'unremittingly', 'unrepentant', 'unresolved', 'unrewarding', 'unromantic', 'unruly', 'unsaid', 'unsatisfied', 'unsatisfying', 'unscathed', 'unseemly', 'unsentimental', 'unsettling', 'unshapely', 'unslick', 'unsolved', 'unsophisticated', 'unstable', 'unstoppable', 'unsubtle', 'unsuccessfully', 'unsurprising', 'unsurprisingly', 'unsympathetic', 'untalented', 'until', 'untrained', 'unturned', 'unusual', 'unusually', 'unwatchable', 'unwavering', 'unwieldy', 'unwillingness', 'up', 'upbeat', 'update', 'updates', 'updatings', 'upfront', 'upheaval', 'uphill', 'uplifter', 'uplifting', 'upon', 'upper', 'upping', 'uproar', 'uproarious', 'ups', 'upscale', 'upsetting', 'upstaged', 'uptight', 'urban', 'urbanity', 'urge', 'urgency', 'urgent', 'urgently', 'urges', 'urine', 'uruk', 'us', 'use', 'used', 'useful', 'useless', 'uselessly', 'uses', 'usher', 'using', 'usual', 'usually', 'usurp', 'ut', 'utilizes', 'utter', 'utterly', 'uwe', 'uzumaki', 'vacant', 'vacation', 'vacuous', 'vague', 'vaguely', 'vagueness', 'vain', 'vainglorious', 'valentine', 'valiant', 'valiantly', 'valid', 'validated', 'valley', 'valuable', 'value', 'values', 'vampire', 'vampires', 'van', 'vanity', 'vapid', 'vaporize', 'vardalos', 'variable', 'variant', 'variation', 'variations', 'variety', 'various', 'vary', 'vast', 'vastly', 'vat', 'vaudeville', 'vaunted', 've', 'veered', 'veers', 'veggies', 'vehicle', 'veil', 'veiling', 'vein', 'veins', 'velocity', 'veneer', 'venice', 'venture', 'ventures', 'vera', 'veracity', 'verbal', 'verdict', 'veret', 'verete', 'verges', 'verging', 'verisimilitude', 'verismo', 'verite', 'versace', 'versatile', 'version', 'versions', 'versus', 'vertical', 'verve', 'very', 'veteran', 'vexing', 'vh1', 'via', 'vibe', 'vibrance', 'vibrant', 'vibrantly', 'vicente', 'vices', 'vicious', 'victim', 'victimized', 'victims', 'victories', 'video', 'videodrome', 'videologue', 'videos', 'videotape', 'vietnam', 'vietnamese', 'view', 'viewed', 'viewer', 'viewers', 'viewing', 'views', 'vigils', 'vignettes', 'vigorously', 'vile', 'villain', 'villainess', 'villainous', 'villains', 'villeneuve', 'vin', 'vincent', 'vintage', 'violated', 'violence', 'violent', 'violently', 'violinist', 'virtually', 'virtue', 'virtues', 'virtuosity', 'virtuous', 'virus', 'visceral', 'viscerally', 'visible', 'vision', 'visionary', 'visions', 'visit', 'visual', 'visualize', 'visually', 'visuals', 'vital', 'vitality', 'vittorio', 'viva', 'vivacious', 'viveka', 'vivi', 'vivid', 'vividly', 'vivre', 'vocalized', 'voice', 'voices', 'void', 'volatile', 'volcano', 'volume', 'volumes', 'von', 'vonnegut', 'voting', 'vowing', 'voyage', 'voyeuristic', 'vs', 'vu', 'vulgar', 'vulnerability', 'vulnerable', 'wacky', 'wade', 'wades', 'wafer', 'waged', 'wai', 'waif', 'wait', 'waited', 'waiting', 'waits', 'wake', 'waking', 'wal', 'waldo', 'walk', 'walked', 'walker', 'walking', 'wall', 'wallace', 'walled', 'wallet', 'wallflower', 'wallop', 'wallowing', 'walls', 'walsh', 'walt', 'walter', 'waltzed', 'wander', 'wanders', 'wanes', 'wang', 'wanna', 'wannabe', 'want', 'wanted', 'wanting', 'wanton', 'wants', 'war', 'ward', 'warfare', 'warlord', 'warm', 'warmed', 'warming', 'warmth', 'warn', 'warned', 'warner', 'warning', 'warrior', 'warriors', 'wars', 'wartime', 'wary', 'was', 'wash', 'washed', 'washington', 'washout', 'washy', 'wasp', 'waste', 'wasted', 'wastes', 'wasting', 'watch', 'watchable', 'watching', 'water', 'waterboy', 'watercolor', 'watered', 'waterlogged', 'waters', 'watery', 'watstein', 'wattage', 'watts', 'wave', 'wavers', 'waves', 'waving', 'way', 'waydowntown', 'wayne', 'ways', 'wayward', 'we', 'weak', 'weakly', 'weakness', 'weaknesses', 'weaponry', 'wear', 'wearing', 'wears', 'weary', 'weasels', 'weave', 'weaver', 'weaves', 'web', 'webcast', 'weber', 'website', 'wedding', 'weddings', 'wedge', 'wedgie', 'wednesday', 'week', 'weeks', 'weep', 'weepy', 'weighed', 'weighs', 'weight', 'weighted', 'weightless', 'weighty', 'weird', 'weirdly', 'weirdness', 'weirdo', 'weissman', 'welcome', 'welcomed', 'welcomes', 'well', 'welled', 'welles', 'welsh', 'welt', 'welty', 'wen', 'wendigo', 'wending', 'went', 'were', 'werewolf', 'wertmuller', 'wes', 'wesley', 'west', 'westbrook', 'western', 'westerners', 'wet', 'wewannour', 'whale', 'what', 'whatever', 'whatsoever', 'wheels', 'wheezy', 'when', 'whence', 'whenever', 'where', 'whereas', 'wherein', 'wherever', 'whet', 'whether', 'which', 'whiff', 'whiffle', 'while', 'whimper', 'whimsical', 'whimsicality', 'whimsy', 'whiney', 'whiny', 'whip', 'whippersnappers', 'whipping', 'whir', 'whirling', 'whirlwind', 'whistle', 'whitaker', 'white', 'whites', 'whitewash', 'who', 'whodunit', 'whole', 'wholesome', 'wholly', 'whom', 'whoop', 'whoopee', 'whose', 'why', 'wicked', 'wickedly', 'wide', 'widely', 'widescreen', 'widget', 'widow', 'widowmaker', 'wierzbicki', 'wife', 'wiggling', 'wilco', 'wild', 'wildcard', 'wilde', 'wildean', 'wilder', 'wildlife', 'wildly', 'will', 'william', 'williams', 'willie', 'willies', 'willing', 'willingness', 'willis', 'wilson', 'wimps', 'win', 'wince', 'wind', 'winded', 'window', 'windows', 'winds', 'windtalkers', 'wines', 'wing', 'winger', 'winking', 'winner', 'winners', 'winning', 'winningly', 'wins', 'wintry', 'wire', 'wireless', 'wisdom', 'wise', 'wiseacre', 'wised', 'wisegirls', 'wisely', 'wiseman', 'wiser', 'wish', 'wishful', 'wishing', 'wishy', 'wispy', 'wistful', 'wistfully', 'wit', 'witch', 'with', 'withered', 'witherspoon', 'within', 'without', 'witless', 'witlessness', 'witness', 'witnessed', 'witnesses', 'witted', 'wittier', 'witty', 'wives', 'wizard', 'wizardry', 'wladyslaw', 'wo', 'wobbly', 'woe', 'woefully', 'wollter', 'woman', 'womanhood', 'women', 'won', 'wonder', 'wondered', 'wonderful', 'wonderfully', 'wondering', 'wonderment', 'wonderous', 'wonders', 'wondrous', 'wondrously', 'wonton', 'woo', 'wood', 'woodard', 'wooden', 'woodman', 'woody', 'woolly', 'woozy', 'word', 'words', 'wore', 'work', 'workable', 'worked', 'worker', 'workers', 'working', 'workings', 'workmanlike', 'workout', 'workplace', 'works', 'workshop', 'workshops', 'world', 'worldly', 'worlds', 'worm', 'worn', 'worried', 'worries', 'worry', 'worse', 'worship', 'worshipful', 'worst', 'worth', 'worthless', 'worthwhile', 'worthy', 'would', 'wound', 'wounded', 'wounding', 'woven', 'wow', 'wrapped', 'wrapping', 'wrath', 'wreaked', 'wreck', 'wreckage', 'wrecks', 'wrenching', 'wrestling', 'wretched', 'wrists', 'write', 'writer', 'writers', 'writing', 'writings', 'written', 'wrong', 'wrote', 'wrought', 'wry', 'wryly', 'wwii', 'wyman', 'xerox', 'xiaoshuai', 'xmas', 'xtc', 'xxx', 'ya', 'yakusho', 'yale', 'yank', 'yard', 'yarn', 'yas', 'yawner', 'yawning', 'ye', 'yeah', 'year', 'yearning', 'yearnings', 'years', 'yellow', 'yes', 'yesterday', 'yet', 'yiddish', 'yielded', 'yields', 'yoda', 'yong', 'york', 'yorker', 'you', 'young', 'younger', 'youngsters', 'your', 'yours', 'yourself', 'yourselves', 'youth', 'yu', 'yuen', 'yung', 'zaidan', 'zany', 'zap', 'zaza', 'zeal', 'zealand', 'zealously', 'zellweger', 'zemeckis', 'zero', 'zeroes', 'zeus', 'zhang', 'zhao', 'zhuangzhuang', 'zigzag', 'zinger', 'zingers', 'zings', 'zipper', 'zippy', 'zips', 'zishe', 'ziyi', 'zombie', 'zone', 'zoning', 'zoom', 'zwick', 'zzzzzzzzz']\n",
            "X: \n",
            "  (0, 9886)\t1\n",
            "  (0, 4302)\t1\n",
            "  (0, 487)\t3\n",
            "  (0, 3977)\t1\n",
            "  (0, 10690)\t1\n",
            "  (0, 8298)\t1\n",
            "  (0, 5174)\t1\n",
            "  (0, 7160)\t1\n",
            "  (0, 960)\t1\n",
            "  (0, 10428)\t1\n",
            "  (0, 952)\t1\n",
            "  (0, 25)\t1\n",
            "  (0, 5026)\t1\n",
            "  (0, 3971)\t1\n",
            "  (1, 7160)\t1\n",
            "  (1, 10428)\t1\n",
            "  (1, 566)\t1\n",
            "  (1, 8331)\t1\n",
            "  (1, 4259)\t1\n",
            "  (1, 2507)\t1\n",
            "  (1, 8759)\t1\n",
            "  (1, 4077)\t1\n",
            "  (1, 547)\t1\n",
            "  (1, 4454)\t1\n",
            "  (1, 2572)\t1\n",
            "  (1, 9542)\t1\n",
            "(3750,)\n",
            "(3750, 11759)\n",
            "train_feature_set: \n",
            "  (0, 487)\t2\n",
            "  (0, 673)\t4\n",
            "  (0, 1887)\t1\n",
            "  (0, 2964)\t1\n",
            "  (0, 3904)\t1\n",
            "  (0, 4544)\t1\n",
            "  (0, 4787)\t1\n",
            "  (0, 4888)\t1\n",
            "  (0, 5617)\t1\n",
            "  (0, 6155)\t1\n",
            "  (0, 6238)\t1\n",
            "  (0, 7197)\t1\n",
            "  (0, 7274)\t1\n",
            "  (0, 7643)\t1\n",
            "  (0, 7972)\t1\n",
            "  (0, 10472)\t1\n",
            "  (0, 10576)\t1\n",
            "  (0, 11189)\t1\n",
            "  (0, 11579)\t1\n",
            "  (1, 487)\t1\n",
            "  (1, 3014)\t1\n",
            "  (1, 3831)\t1\n",
            "  (1, 4057)\t1\n",
            "  (1, 4130)\t1\n",
            "  (1, 7735)\t1\n",
            "  :\t:\n",
            "  (2, 3060)\t1\n",
            "  (2, 3236)\t1\n",
            "  (2, 3385)\t1\n",
            "  (2, 3527)\t1\n",
            "  (2, 3604)\t1\n",
            "  (2, 4259)\t1\n",
            "  (2, 5246)\t1\n",
            "  (2, 5396)\t1\n",
            "  (2, 5572)\t1\n",
            "  (2, 6928)\t1\n",
            "  (2, 7080)\t1\n",
            "  (2, 7160)\t1\n",
            "  (2, 7550)\t1\n",
            "  (2, 8091)\t1\n",
            "  (2, 8247)\t1\n",
            "  (2, 9540)\t1\n",
            "  (2, 10427)\t1\n",
            "  (2, 10428)\t2\n",
            "  (3, 487)\t1\n",
            "  (3, 726)\t1\n",
            "  (3, 2825)\t1\n",
            "  (3, 2914)\t1\n",
            "  (3, 7196)\t1\n",
            "  (3, 9920)\t1\n",
            "  (3, 9951)\t1\n"
          ],
          "name": "stdout"
        }
      ]
    },
    {
      "cell_type": "code",
      "metadata": {
        "id": "49dnFSqOyR6Y",
        "colab": {
          "base_uri": "https://localhost:8080/"
        },
        "outputId": "08450840-33a6-4349-c4fd-3791245885ef"
      },
      "source": [
        "print(train_labels.shape)"
      ],
      "execution_count": null,
      "outputs": [
        {
          "output_type": "stream",
          "text": [
            "(3750,)\n"
          ],
          "name": "stdout"
        }
      ]
    },
    {
      "cell_type": "code",
      "metadata": {
        "id": "Rh6Uf7nQ0s0P",
        "colab": {
          "base_uri": "https://localhost:8080/"
        },
        "outputId": "3c5c9538-25f5-4a44-ed0c-f1dd9c5d6902"
      },
      "source": [
        "lr_clf = LogisticRegression()\n",
        "lr_clf.fit(train_feature_set, train_labels)\n",
        "lr_clf.score(test_feature_set, test_labels)"
      ],
      "execution_count": null,
      "outputs": [
        {
          "output_type": "execute_result",
          "data": {
            "text/plain": [
              "0.7648"
            ]
          },
          "metadata": {
            "tags": []
          },
          "execution_count": 11
        }
      ]
    },
    {
      "cell_type": "markdown",
      "metadata": {
        "id": "xdwEcTs9yHl0"
      },
      "source": [
        "**STEP 2: Word2Vec + LOGISTIC REGRESSION**"
      ]
    },
    {
      "cell_type": "code",
      "metadata": {
        "id": "m6aPbT_7bAP9",
        "colab": {
          "base_uri": "https://localhost:8080/"
        },
        "outputId": "14e6d587-1119-4b2c-e9ce-3acf3ce49af2"
      },
      "source": [
        "train_features[:3]"
      ],
      "execution_count": null,
      "outputs": [
        {
          "output_type": "execute_result",
          "data": {
            "text/plain": [
              "90      ou 've got to love a disney pic with as little...\n",
              "365     a fleet footed and pleasingly upbeat family di...\n",
              "3076    the notion of deleting emotion from people , e...\n",
              "Name: 0, dtype: object"
            ]
          },
          "metadata": {
            "tags": []
          },
          "execution_count": 12
        }
      ]
    },
    {
      "cell_type": "code",
      "metadata": {
        "id": "ic-zYTdPLnaV",
        "colab": {
          "base_uri": "https://localhost:8080/"
        },
        "outputId": "0344cfab-e644-4bc4-9cfd-f205a1f9eb9f"
      },
      "source": [
        "!python -m spacy download en_core_web_lg"
      ],
      "execution_count": null,
      "outputs": [
        {
          "output_type": "stream",
          "text": [
            "Collecting en_core_web_lg==2.2.5\n",
            "\u001b[?25l  Downloading https://github.com/explosion/spacy-models/releases/download/en_core_web_lg-2.2.5/en_core_web_lg-2.2.5.tar.gz (827.9MB)\n",
            "\u001b[K     |████████████████████████████████| 827.9MB 1.1MB/s \n",
            "\u001b[?25hRequirement already satisfied: spacy>=2.2.2 in /usr/local/lib/python3.7/dist-packages (from en_core_web_lg==2.2.5) (2.2.4)\n",
            "Requirement already satisfied: murmurhash<1.1.0,>=0.28.0 in /usr/local/lib/python3.7/dist-packages (from spacy>=2.2.2->en_core_web_lg==2.2.5) (1.0.5)\n",
            "Requirement already satisfied: tqdm<5.0.0,>=4.38.0 in /usr/local/lib/python3.7/dist-packages (from spacy>=2.2.2->en_core_web_lg==2.2.5) (4.41.1)\n",
            "Requirement already satisfied: blis<0.5.0,>=0.4.0 in /usr/local/lib/python3.7/dist-packages (from spacy>=2.2.2->en_core_web_lg==2.2.5) (0.4.1)\n",
            "Requirement already satisfied: plac<1.2.0,>=0.9.6 in /usr/local/lib/python3.7/dist-packages (from spacy>=2.2.2->en_core_web_lg==2.2.5) (1.1.3)\n",
            "Requirement already satisfied: requests<3.0.0,>=2.13.0 in /usr/local/lib/python3.7/dist-packages (from spacy>=2.2.2->en_core_web_lg==2.2.5) (2.23.0)\n",
            "Requirement already satisfied: numpy>=1.15.0 in /usr/local/lib/python3.7/dist-packages (from spacy>=2.2.2->en_core_web_lg==2.2.5) (1.19.5)\n",
            "Requirement already satisfied: preshed<3.1.0,>=3.0.2 in /usr/local/lib/python3.7/dist-packages (from spacy>=2.2.2->en_core_web_lg==2.2.5) (3.0.5)\n",
            "Requirement already satisfied: catalogue<1.1.0,>=0.0.7 in /usr/local/lib/python3.7/dist-packages (from spacy>=2.2.2->en_core_web_lg==2.2.5) (1.0.0)\n",
            "Requirement already satisfied: wasabi<1.1.0,>=0.4.0 in /usr/local/lib/python3.7/dist-packages (from spacy>=2.2.2->en_core_web_lg==2.2.5) (0.8.2)\n",
            "Requirement already satisfied: thinc==7.4.0 in /usr/local/lib/python3.7/dist-packages (from spacy>=2.2.2->en_core_web_lg==2.2.5) (7.4.0)\n",
            "Requirement already satisfied: cymem<2.1.0,>=2.0.2 in /usr/local/lib/python3.7/dist-packages (from spacy>=2.2.2->en_core_web_lg==2.2.5) (2.0.5)\n",
            "Requirement already satisfied: srsly<1.1.0,>=1.0.2 in /usr/local/lib/python3.7/dist-packages (from spacy>=2.2.2->en_core_web_lg==2.2.5) (1.0.5)\n",
            "Requirement already satisfied: setuptools in /usr/local/lib/python3.7/dist-packages (from spacy>=2.2.2->en_core_web_lg==2.2.5) (56.0.0)\n",
            "Requirement already satisfied: chardet<4,>=3.0.2 in /usr/local/lib/python3.7/dist-packages (from requests<3.0.0,>=2.13.0->spacy>=2.2.2->en_core_web_lg==2.2.5) (3.0.4)\n",
            "Requirement already satisfied: idna<3,>=2.5 in /usr/local/lib/python3.7/dist-packages (from requests<3.0.0,>=2.13.0->spacy>=2.2.2->en_core_web_lg==2.2.5) (2.10)\n",
            "Requirement already satisfied: certifi>=2017.4.17 in /usr/local/lib/python3.7/dist-packages (from requests<3.0.0,>=2.13.0->spacy>=2.2.2->en_core_web_lg==2.2.5) (2020.12.5)\n",
            "Requirement already satisfied: urllib3!=1.25.0,!=1.25.1,<1.26,>=1.21.1 in /usr/local/lib/python3.7/dist-packages (from requests<3.0.0,>=2.13.0->spacy>=2.2.2->en_core_web_lg==2.2.5) (1.24.3)\n",
            "Requirement already satisfied: importlib-metadata>=0.20; python_version < \"3.8\" in /usr/local/lib/python3.7/dist-packages (from catalogue<1.1.0,>=0.0.7->spacy>=2.2.2->en_core_web_lg==2.2.5) (3.10.1)\n",
            "Requirement already satisfied: zipp>=0.5 in /usr/local/lib/python3.7/dist-packages (from importlib-metadata>=0.20; python_version < \"3.8\"->catalogue<1.1.0,>=0.0.7->spacy>=2.2.2->en_core_web_lg==2.2.5) (3.4.1)\n",
            "Requirement already satisfied: typing-extensions>=3.6.4; python_version < \"3.8\" in /usr/local/lib/python3.7/dist-packages (from importlib-metadata>=0.20; python_version < \"3.8\"->catalogue<1.1.0,>=0.0.7->spacy>=2.2.2->en_core_web_lg==2.2.5) (3.7.4.3)\n",
            "Building wheels for collected packages: en-core-web-lg\n",
            "  Building wheel for en-core-web-lg (setup.py) ... \u001b[?25l\u001b[?25hdone\n",
            "  Created wheel for en-core-web-lg: filename=en_core_web_lg-2.2.5-cp37-none-any.whl size=829180944 sha256=e808d61422e3a8a9933b4f3a49a2f852f2e9187f161c2cc994b80c9715c2251d\n",
            "  Stored in directory: /tmp/pip-ephem-wheel-cache-pypgzz7o/wheels/2a/c1/a6/fc7a877b1efca9bc6a089d6f506f16d3868408f9ff89f8dbfc\n",
            "Successfully built en-core-web-lg\n",
            "Installing collected packages: en-core-web-lg\n",
            "Successfully installed en-core-web-lg-2.2.5\n",
            "\u001b[38;5;2m✔ Download and installation successful\u001b[0m\n",
            "You can now load the model via spacy.load('en_core_web_lg')\n"
          ],
          "name": "stdout"
        }
      ]
    },
    {
      "cell_type": "code",
      "metadata": {
        "id": "pMuhnaEYzHDs"
      },
      "source": [
        "# https://spacy.io/usage/linguistic-features#vectors-similarity\n",
        "import spacy\n",
        "import en_core_web_lg\n",
        "\n",
        "#nlp = spacy.load(\"en_core_web_sm\") # try en_core_web_lg later: tried: doesn't change the accuracy at all\n",
        "nlp = en_core_web_lg.load() # try en_core_web_lg later: tried: doesn't change the accuracy at all\n",
        "\n",
        "\n",
        "def tokenizedDoc2Vec(X):\n",
        "  transformed_X = []\n",
        "  for document in X:\n",
        "      transformed_X.append(nlp(document).vector)\n",
        "  return np.array(transformed_X)\n"
      ],
      "execution_count": null,
      "outputs": []
    },
    {
      "cell_type": "code",
      "metadata": {
        "id": "JsHB-LHHt61M",
        "colab": {
          "base_uri": "https://localhost:8080/"
        },
        "outputId": "a514a7da-e4e1-4140-c675-e26fecc292d5"
      },
      "source": [
        "lr_clf = LogisticRegression()\n",
        "lr_clf.fit(tokenizedDoc2Vec(train_features), train_labels)\n"
      ],
      "execution_count": null,
      "outputs": [
        {
          "output_type": "execute_result",
          "data": {
            "text/plain": [
              "LogisticRegression(C=1.0, class_weight=None, dual=False, fit_intercept=True,\n",
              "                   intercept_scaling=1, l1_ratio=None, max_iter=100,\n",
              "                   multi_class='auto', n_jobs=None, penalty='l2',\n",
              "                   random_state=None, solver='lbfgs', tol=0.0001, verbose=0,\n",
              "                   warm_start=False)"
            ]
          },
          "metadata": {
            "tags": []
          },
          "execution_count": 15
        }
      ]
    },
    {
      "cell_type": "code",
      "metadata": {
        "id": "vz2vZ55FbhAF",
        "colab": {
          "base_uri": "https://localhost:8080/"
        },
        "outputId": "aae21a98-14aa-46e4-e666-be7f37264735"
      },
      "source": [
        "lr_clf.score(tokenizedDoc2Vec(test_features), test_labels) # previous : 0.611, 0.8208\n"
      ],
      "execution_count": null,
      "outputs": [
        {
          "output_type": "execute_result",
          "data": {
            "text/plain": [
              "0.8072"
            ]
          },
          "metadata": {
            "tags": []
          },
          "execution_count": 16
        }
      ]
    },
    {
      "cell_type": "markdown",
      "metadata": {
        "id": "OrZxKGdeyHn4"
      },
      "source": [
        "**STEP 3: BERT + LOGISTIC REGRESSION**\n",
        "\n",
        "https://colab.research.google.com/github/jalammar/jalammar.github.io/blob/master/notebooks/bert/A_Visual_Notebook_to_Using_BERT_for_the_First_Time.ipynb#scrollTo=4K_iGRNa_Ozc\n"
      ]
    },
    {
      "cell_type": "code",
      "metadata": {
        "id": "HijT_mM0yFOC",
        "colab": {
          "base_uri": "https://localhost:8080/",
          "height": 264,
          "referenced_widgets": [
            "c9c34324a6084843b4d5feaac5c84a81",
            "bd0cba7a82a345fa854184d225fbd935",
            "df14af0c92dd46dbbaa0b0913bc74b24",
            "783a24ad1cb74c07b38849866639cd93",
            "ec383b1418c34d6ba82196cb89d9554a",
            "91ae1413f3484519b5da5453797732d9",
            "af43c458ef67415596e5a6031ccce860",
            "731c7dd7382a40dd83c706f21611b852",
            "724c58ac7adb4697a4207b0cfd57bfe3",
            "55224181748b47c6b7f0263c4b97902b",
            "30a2bb4b43b843ff8161a7c23636a78a",
            "f6a7d21751f149cab03b1c7540c4ba23",
            "62b5351543b94cdca121184109acc824",
            "2f21116bdba94ce4a0c560717af0b2ba",
            "0246ebbf0a984d10837714684cda8c07",
            "244d8a8405464d819075462fb6dc00b1",
            "455f2559f77a471f978eb267686d948a",
            "02947fcf13c04298bf6d85651541b22c",
            "a31fc1be386d410198e71eba684cfa66",
            "3d4405ff71c142fda7d28d3c67aa801d",
            "f1b85988290f4f9bb5d02304a717e946",
            "a49b151f2e914e3c9dd529a7cad8d143",
            "bbc511f3ef644d86a0b233c64bc5b8b2",
            "c30117159a23483f980918f08603358d",
            "7969193dc3cd42a78d817f0017e6bf81",
            "6e6346a9fdf146629cd1c14a37570ddb",
            "a06437f13bf24876bb3bfc17b08054e2",
            "0f8f9d699da04a218378ab9beb44d573",
            "7e2e1b768e664d6e8ceec22c45168379",
            "119fe8a2ead14952a1c42dd7d3ec0329",
            "e16a8411ba404143b807e954e78c8d29",
            "1a4d9fdf5a96478fadeadadffbb87efa",
            "df4890d44fca4697aec6d1572a7fe224",
            "f96bf41427154cffbc330c9f5202390c",
            "40b7216cbe224d9c9db836c3657771b7",
            "27d8b0a9e6134498b6d50afb87c220e0",
            "8bc01b5fa8534ac894b6ed3199623276",
            "84e24f68d12544eb914dc5f28101d775",
            "824ea75058a643cd898eb4fd93fd8611",
            "589f85530e894cfbb8a658bb0757d5ce"
          ]
        },
        "outputId": "6c452e55-8c4a-450f-e61d-17e246612bef"
      },
      "source": [
        "# Load the model\n",
        "# For DistilBERT:\n",
        "model_class, tokenizer_class, pretrained_weights = (transformers.DistilBertModel, transformers.DistilBertTokenizer, 'distilbert-base-uncased')\n",
        "\n",
        "## Want BERT instead of distilBERT? Uncomment the following line:\n",
        "#model_class, tokenizer_class, pretrained_weights = (ppb.BertModel, ppb.BertTokenizer, 'bert-base-uncased')\n",
        "\n",
        "# Load pretrained model/tokenizer\n",
        "tokenizer = tokenizer_class.from_pretrained(pretrained_weights)\n",
        "model = model_class.from_pretrained(pretrained_weights)"
      ],
      "execution_count": null,
      "outputs": [
        {
          "output_type": "display_data",
          "data": {
            "application/vnd.jupyter.widget-view+json": {
              "model_id": "c9c34324a6084843b4d5feaac5c84a81",
              "version_minor": 0,
              "version_major": 2
            },
            "text/plain": [
              "HBox(children=(FloatProgress(value=0.0, description='Downloading', max=231508.0, style=ProgressStyle(descripti…"
            ]
          },
          "metadata": {
            "tags": []
          }
        },
        {
          "output_type": "stream",
          "text": [
            "\n"
          ],
          "name": "stdout"
        },
        {
          "output_type": "display_data",
          "data": {
            "application/vnd.jupyter.widget-view+json": {
              "model_id": "724c58ac7adb4697a4207b0cfd57bfe3",
              "version_minor": 0,
              "version_major": 2
            },
            "text/plain": [
              "HBox(children=(FloatProgress(value=0.0, description='Downloading', max=28.0, style=ProgressStyle(description_w…"
            ]
          },
          "metadata": {
            "tags": []
          }
        },
        {
          "output_type": "stream",
          "text": [
            "\n"
          ],
          "name": "stdout"
        },
        {
          "output_type": "display_data",
          "data": {
            "application/vnd.jupyter.widget-view+json": {
              "model_id": "455f2559f77a471f978eb267686d948a",
              "version_minor": 0,
              "version_major": 2
            },
            "text/plain": [
              "HBox(children=(FloatProgress(value=0.0, description='Downloading', max=466062.0, style=ProgressStyle(descripti…"
            ]
          },
          "metadata": {
            "tags": []
          }
        },
        {
          "output_type": "stream",
          "text": [
            "\n"
          ],
          "name": "stdout"
        },
        {
          "output_type": "display_data",
          "data": {
            "application/vnd.jupyter.widget-view+json": {
              "model_id": "7969193dc3cd42a78d817f0017e6bf81",
              "version_minor": 0,
              "version_major": 2
            },
            "text/plain": [
              "HBox(children=(FloatProgress(value=0.0, description='Downloading', max=442.0, style=ProgressStyle(description_…"
            ]
          },
          "metadata": {
            "tags": []
          }
        },
        {
          "output_type": "stream",
          "text": [
            "\n"
          ],
          "name": "stdout"
        },
        {
          "output_type": "display_data",
          "data": {
            "application/vnd.jupyter.widget-view+json": {
              "model_id": "df4890d44fca4697aec6d1572a7fe224",
              "version_minor": 0,
              "version_major": 2
            },
            "text/plain": [
              "HBox(children=(FloatProgress(value=0.0, description='Downloading', max=267967963.0, style=ProgressStyle(descri…"
            ]
          },
          "metadata": {
            "tags": []
          }
        },
        {
          "output_type": "stream",
          "text": [
            "\n"
          ],
          "name": "stdout"
        }
      ]
    },
    {
      "cell_type": "code",
      "metadata": {
        "colab": {
          "base_uri": "https://localhost:8080/"
        },
        "id": "KL8-P8r5Vwwi",
        "outputId": "a4f65bbc-4408-426f-9b33-6aa0951e9971"
      },
      "source": [
        "# tokenize the data\n",
        "tokenized = batch_1[0].apply((lambda x: tokenizer.encode(x, add_special_tokens=True)))\n",
        "print(tokenized)\n",
        "print(tokenized.shape) # each sentence may have different length"
      ],
      "execution_count": null,
      "outputs": [
        {
          "output_type": "stream",
          "text": [
            "0       [101, 1037, 18385, 1010, 6057, 1998, 2633, 182...\n",
            "1       [101, 4593, 2128, 27241, 23931, 2013, 1996, 62...\n",
            "2       [101, 2027, 3653, 23545, 2037, 4378, 24185, 10...\n",
            "3       [101, 2023, 2003, 1037, 17453, 14726, 19379, 1...\n",
            "4       [101, 5655, 6262, 1005, 1055, 12075, 2571, 376...\n",
            "                              ...                        \n",
            "4995    [101, 2074, 2055, 1996, 2190, 3442, 2039, 1010...\n",
            "4996    [101, 1999, 1996, 2472, 1005, 1055, 3013, 1010...\n",
            "4997    [101, 5212, 1048, 4027, 2003, 2028, 1997, 1996...\n",
            "4998    [101, 2009, 2515, 2507, 1037, 5510, 1997, 1996...\n",
            "4999    [101, 1037, 20228, 11031, 6525, 1997, 11973, 2...\n",
            "Name: 0, Length: 5000, dtype: object\n",
            "(5000,)\n"
          ],
          "name": "stdout"
        }
      ]
    },
    {
      "cell_type": "code",
      "metadata": {
        "colab": {
          "base_uri": "https://localhost:8080/"
        },
        "id": "fOR3n9VWVwy6",
        "outputId": "07132e65-3c3e-4f39-d094-7e446dd81659"
      },
      "source": [
        "# pad each tokenized sentence to the same size\n",
        "max_len = 0\n",
        "for i in tokenized.values:\n",
        "    if len(i) > max_len:\n",
        "        max_len = len(i)\n",
        "\n",
        "print('max_len: ', max_len)\n",
        "padded = np.array([i + [0]*(max_len-len(i)) for i in tokenized.values])\n",
        "np.array(padded).shape"
      ],
      "execution_count": null,
      "outputs": [
        {
          "output_type": "stream",
          "text": [
            "max_len:  67\n"
          ],
          "name": "stdout"
        },
        {
          "output_type": "execute_result",
          "data": {
            "text/plain": [
              "(5000, 67)"
            ]
          },
          "metadata": {
            "tags": []
          },
          "execution_count": 19
        }
      ]
    },
    {
      "cell_type": "code",
      "metadata": {
        "id": "zSfihfa-Vw1O",
        "colab": {
          "base_uri": "https://localhost:8080/"
        },
        "outputId": "7aea216d-d845-451c-e6c1-d8bc9120e092"
      },
      "source": [
        "#Masking : not sure i understand why this is needed. WHy would this confuse BERT slightly?\n",
        "attention_mask = np.where(padded != 0, 1, 0)\n",
        "attention_mask.shape"
      ],
      "execution_count": null,
      "outputs": [
        {
          "output_type": "execute_result",
          "data": {
            "text/plain": [
              "(5000, 67)"
            ]
          },
          "metadata": {
            "tags": []
          },
          "execution_count": 20
        }
      ]
    },
    {
      "cell_type": "code",
      "metadata": {
        "id": "YdoNTBYIVw3c"
      },
      "source": [
        "input_ids = torch.tensor(padded)  \n",
        "attention_mask = torch.tensor(attention_mask)\n",
        "\n",
        "with torch.no_grad(): # why is this needed\n",
        "    last_hidden_states = model(input_ids, attention_mask=attention_mask)"
      ],
      "execution_count": null,
      "outputs": []
    },
    {
      "cell_type": "code",
      "metadata": {
        "id": "FCnnGSVaVw52"
      },
      "source": [
        "features = last_hidden_states[0][:,0,:].numpy()\n",
        "labels = batch_1[1]"
      ],
      "execution_count": null,
      "outputs": []
    },
    {
      "cell_type": "code",
      "metadata": {
        "id": "mD8D5yMpVw8S"
      },
      "source": [
        "train_features, test_features, train_labels, test_labels = train_test_split(features, labels, random_state=11) # using the same random_state to make sure we do the same split as done for other models above"
      ],
      "execution_count": null,
      "outputs": []
    },
    {
      "cell_type": "code",
      "metadata": {
        "id": "6MU0wTM_X4pm"
      },
      "source": [
        "lr_clf = LogisticRegression(C=5.2)\n",
        "lr_clf.fit(train_features, train_labels)\n",
        "lr_clf.score(test_features, test_labels)"
      ],
      "execution_count": null,
      "outputs": []
    },
    {
      "cell_type": "code",
      "metadata": {
        "id": "GRoE0kYbEIMm"
      },
      "source": [
        "from sklearn.metrics import roc_auc_score\n",
        "roc_auc_score(test_labels, lr_clf.predict_proba(test_features)[:, 1])"
      ],
      "execution_count": null,
      "outputs": []
    },
    {
      "cell_type": "code",
      "metadata": {
        "id": "aAh_HSx7X-aN"
      },
      "source": [
        "# compare against baseline(random guessing classifier)\n",
        "# Note that features are still from BERT, so baseline is only for the other half\n",
        "from sklearn.dummy import DummyClassifier\n",
        "clf = DummyClassifier()\n",
        "\n",
        "scores = cross_val_score(clf, train_features, train_labels)\n",
        "print(\"Dummy classifier score: %0.3f (+/- %0.2f)\" % (scores.mean(), scores.std() * 2))"
      ],
      "execution_count": null,
      "outputs": []
    },
    {
      "cell_type": "code",
      "metadata": {
        "id": "thmsc7cVYOAq"
      },
      "source": [
        "# HW: \n",
        "# do TFIDF vectorizer: after countVectorizer\n",
        "# Fix BERT \n",
        "# Fine tune BERT using same dataset\n",
        "# Add ROC metric apart from accuracy\n"
      ],
      "execution_count": null,
      "outputs": []
    },
    {
      "cell_type": "markdown",
      "metadata": {
        "id": "AWMgumG2LMYw"
      },
      "source": [
        "# **Fine-tuning BERT**\n",
        "[source](https://skimai.com/fine-tuning-bert-for-sentiment-analysis/#2.1.-BERT-Tokenizer)"
      ]
    },
    {
      "cell_type": "code",
      "metadata": {
        "id": "QwTfaGgcMMj3"
      },
      "source": [
        "# %reset -f # cleans up all variables"
      ],
      "execution_count": null,
      "outputs": []
    },
    {
      "cell_type": "code",
      "metadata": {
        "id": "WAAn55TY8roG"
      },
      "source": [
        "def text_preprocessing(text):\n",
        "    \"\"\"\n",
        "    - Remove entity mentions (eg. '@united')\n",
        "    - Correct errors (eg. '&amp;' to '&')\n",
        "    @param    text (str): a string to be processed.\n",
        "    @return   text (Str): the processed string.\n",
        "    \"\"\"\n",
        "    # Remove '@name'\n",
        "    text = re.sub(r'(@.*?)[\\s]', ' ', text)\n",
        "\n",
        "    # Replace '&amp;' with '&'\n",
        "    text = re.sub(r'&amp;', '&', text)\n",
        "\n",
        "    # Remove trailing whitespace\n",
        "    text = re.sub(r'\\s+', ' ', text).strip()\n",
        "\n",
        "    return text"
      ],
      "execution_count": null,
      "outputs": []
    },
    {
      "cell_type": "code",
      "metadata": {
        "id": "u5jZTdLn8rq0"
      },
      "source": [
        "from transformers import BertTokenizer\n",
        "\n",
        "# Load the BERT tokenizer\n",
        "tokenizer = BertTokenizer.from_pretrained('bert-base-uncased', do_lower_case=True)\n",
        "\n",
        "# Create a function to tokenize a set of texts\n",
        "def preprocessing_for_bert(data):\n",
        "    \"\"\"Perform required preprocessing steps for pretrained BERT.\n",
        "    @param    data (np.array): Array of texts to be processed.\n",
        "    @return   input_ids (torch.Tensor): Tensor of token ids to be fed to a model.\n",
        "    @return   attention_masks (torch.Tensor): Tensor of indices specifying which\n",
        "                  tokens should be attended to by the model.\n",
        "    \"\"\"\n",
        "    # Create empty lists to store outputs\n",
        "    input_ids = []\n",
        "    attention_masks = []\n",
        "\n",
        "    # For every sentence...\n",
        "    for sent in data:\n",
        "        # `encode_plus` will:\n",
        "        #    (1) Tokenize the sentence\n",
        "        #    (2) Add the `[CLS]` and `[SEP]` token to the start and end\n",
        "        #    (3) Truncate/Pad sentence to max length\n",
        "        #    (4) Map tokens to their IDs\n",
        "        #    (5) Create attention mask\n",
        "        #    (6) Return a dictionary of outputs\n",
        "        encoded_sent = tokenizer.encode_plus(\n",
        "            text=text_preprocessing(sent),  # Preprocess sentence\n",
        "            add_special_tokens=True,        # Add `[CLS]` and `[SEP]`\n",
        "            max_length=MAX_LEN,                  # Max length to truncate/pad\n",
        "            pad_to_max_length=True,         # Pad sentence to max length\n",
        "            #return_tensors='pt',           # Return PyTorch tensor\n",
        "            return_attention_mask=True      # Return attention mask\n",
        "            )\n",
        "        \n",
        "        # Add the outputs to the lists\n",
        "        input_ids.append(encoded_sent.get('input_ids'))\n",
        "        attention_masks.append(encoded_sent.get('attention_mask'))\n",
        "\n",
        "    # Convert lists to tensors\n",
        "    input_ids = torch.tensor(input_ids)\n",
        "    attention_masks = torch.tensor(attention_masks)\n",
        "\n",
        "    return input_ids, attention_masks"
      ],
      "execution_count": null,
      "outputs": []
    },
    {
      "cell_type": "code",
      "metadata": {
        "colab": {
          "base_uri": "https://localhost:8080/"
        },
        "id": "VkM5iAMDLriI",
        "outputId": "33995d06-e29e-4998-a1f3-e9bb28b8cfdd"
      },
      "source": [
        "#Before tokenizing, we need to specify the maximum length of our sentences.\n",
        "\n",
        "# tokenize the data\n",
        "tokenized = batch_1[0].apply((lambda x: tokenizer.encode(x, add_special_tokens=True)))\n",
        "print(tokenized)\n",
        "print(tokenized.shape) # each sentence may have different length\n",
        "\n",
        "MAX_LEN = 0\n",
        "for i in tokenized:\n",
        "    if len(i) > MAX_LEN:\n",
        "        MAX_LEN = len(i)\n",
        "print('MAX_LEN: ', MAX_LEN)\n"
      ],
      "execution_count": null,
      "outputs": [
        {
          "output_type": "stream",
          "text": [
            "0       [101, 1037, 18385, 1010, 6057, 1998, 2633, 182...\n",
            "1       [101, 4593, 2128, 27241, 23931, 2013, 1996, 62...\n",
            "2       [101, 2027, 3653, 23545, 2037, 4378, 24185, 10...\n",
            "3       [101, 2023, 2003, 1037, 17453, 14726, 19379, 1...\n",
            "4       [101, 5655, 6262, 1005, 1055, 12075, 2571, 376...\n",
            "                              ...                        \n",
            "4995    [101, 2074, 2055, 1996, 2190, 3442, 2039, 1010...\n",
            "4996    [101, 1999, 1996, 2472, 1005, 1055, 3013, 1010...\n",
            "4997    [101, 5212, 1048, 4027, 2003, 2028, 1997, 1996...\n",
            "4998    [101, 2009, 2515, 2507, 1037, 5510, 1997, 1996...\n",
            "4999    [101, 1037, 20228, 11031, 6525, 1997, 11973, 2...\n",
            "Name: 0, Length: 5000, dtype: object\n",
            "(5000,)\n",
            "MAX_LEN:  67\n"
          ],
          "name": "stdout"
        }
      ]
    },
    {
      "cell_type": "code",
      "metadata": {
        "colab": {
          "base_uri": "https://localhost:8080/"
        },
        "id": "YyVBCcDr8rtC",
        "outputId": "53119347-f30f-4d9f-a36f-d930d76e19e0"
      },
      "source": [
        "import re\n",
        "# Print sentence 0 and its encoded token ids\n",
        "token_ids = list(preprocessing_for_bert([batch_1[0][0]])[0].squeeze().numpy())\n",
        "print('Original: ', batch_1[0][0])\n",
        "print('Token IDs: ', token_ids)\n"
      ],
      "execution_count": null,
      "outputs": [
        {
          "output_type": "stream",
          "text": [
            "Truncation was not explicitly activated but `max_length` is provided a specific value, please use `truncation=True` to explicitly truncate examples to max length. Defaulting to 'longest_first' truncation strategy. If you encode pairs of sequences (GLUE-style) with the tokenizer you can select this strategy more precisely by providing a specific strategy to `truncation`.\n"
          ],
          "name": "stderr"
        },
        {
          "output_type": "stream",
          "text": [
            "Original:  a stirring , funny and finally transporting re imagining of beauty and the beast and 1930s horror films\n",
            "Token IDs:  [101, 1037, 18385, 1010, 6057, 1998, 2633, 18276, 2128, 16603, 1997, 5053, 1998, 1996, 6841, 1998, 5687, 5469, 3152, 102, 0, 0, 0, 0, 0, 0, 0, 0, 0, 0, 0, 0, 0, 0, 0, 0, 0, 0, 0, 0, 0, 0, 0, 0, 0, 0, 0, 0, 0, 0, 0, 0, 0, 0, 0, 0, 0, 0, 0, 0, 0, 0, 0, 0, 0, 0, 0]\n"
          ],
          "name": "stdout"
        }
      ]
    },
    {
      "cell_type": "code",
      "metadata": {
        "id": "dKSawvrKOlry"
      },
      "source": [
        "train_features, test_features, train_labels, test_labels = train_test_split(batch_1[0], batch_1[1], random_state=11) # using the same random_state to make sure we do the same split as done for other models above\n"
      ],
      "execution_count": null,
      "outputs": []
    },
    {
      "cell_type": "code",
      "metadata": {
        "colab": {
          "base_uri": "https://localhost:8080/"
        },
        "id": "vXeoWr6IOhbO",
        "outputId": "e0b6a90b-23d5-482f-ab67-54f00f4858d5"
      },
      "source": [
        "\n",
        "# Run function `preprocessing_for_bert` on the train set and the validation set\n",
        "print('Tokenizing data...')\n",
        "train_inputs, train_masks = preprocessing_for_bert(train_features)\n",
        "val_inputs, val_masks = preprocessing_for_bert(test_features)"
      ],
      "execution_count": null,
      "outputs": [
        {
          "output_type": "stream",
          "text": [
            "Tokenizing data...\n"
          ],
          "name": "stdout"
        }
      ]
    },
    {
      "cell_type": "code",
      "metadata": {
        "id": "BQbh2zqrPRej"
      },
      "source": [
        "#Create PyTorch DataLoader\n",
        "#We will create an iterator for our dataset using the torch DataLoader class.\n",
        "#This will help save on memory during training and boost the training speed.\n",
        "\n",
        "from torch.utils.data import TensorDataset, DataLoader, RandomSampler, SequentialSampler\n",
        "\n",
        "# Convert other data types to torch.Tensor\n",
        "train_labels = torch.tensor(train_labels.values)\n",
        "val_labels = torch.tensor(test_labels.values)\n",
        "\n",
        "# For fine-tuning BERT, the authors recommend a batch size of 16 or 32.\n",
        "batch_size = 32\n",
        "\n",
        "# Create the DataLoader for our training set\n",
        "train_data = TensorDataset(train_inputs, train_masks, train_labels)\n",
        "train_sampler = RandomSampler(train_data)\n",
        "train_dataloader = DataLoader(train_data, sampler=train_sampler, batch_size=batch_size)\n",
        "\n",
        "# Create the DataLoader for our validation set\n",
        "val_data = TensorDataset(val_inputs, val_masks, val_labels)\n",
        "val_sampler = SequentialSampler(val_data)\n",
        "val_dataloader = DataLoader(val_data, sampler=val_sampler, batch_size=batch_size)\n"
      ],
      "execution_count": null,
      "outputs": []
    },
    {
      "cell_type": "code",
      "metadata": {
        "id": "bAQlPpTLPRjf"
      },
      "source": [
        "#Create BertClassifier¶\n",
        "import torch.nn as nn\n",
        "from transformers import BertModel\n",
        "\n",
        "class BertClassifier(nn.Module):\n",
        "  \"\"\"Bert model for classification tasks\n",
        "  \"\"\"\n",
        "  def __init__(self, freeze_bert=False):\n",
        "    \"\"\"\n",
        "    @param    bert: a BertModel object\n",
        "    @param    classifier: a torch.nn.Module classifier\n",
        "    @param    freeze_bert (bool): Set `False` to fine-tune the BERT model\n",
        "    \"\"\"\n",
        "    super(BertClassifier, self).__init__()\n",
        "    # specify hidden size of BERT, hidden size of our classifier, and # of labels\n",
        "    D_in, H, D_out = 768, 50, 2\n",
        "\n",
        "    # instantiate BERT model\n",
        "    self.bert = BertModel.from_pretrained('bert-base-uncased')\n",
        "\n",
        "    # instantiate one-layer feed-forward classifier\n",
        "    self.classifier = nn.Sequential(\n",
        "        nn.Linear(D_in, H),\n",
        "        nn.ReLU(),\n",
        "        nn.Linear(H, D_out)\n",
        "        # nn.Linear(D_in, D_out)\n",
        "\n",
        "    )\n",
        "    # freeze BERT model\n",
        "    if freeze_bert:\n",
        "      for param in self.bert.parameters():\n",
        "        param.requires_grad = False\n",
        "\n",
        "\n",
        "  def forward(self, input_ids, attention_mask):\n",
        "    \"\"\"\n",
        "    Feed input to BERT and the classifier to compute logits.\n",
        "    @param    input_ids (torch.Tensor): an input tensor with shape (batch_size,\n",
        "                  max_length)\n",
        "    @param    attention_mask (torch.Tensor): a tensor that hold attention mask\n",
        "                  information with shape (batch_size, max_length)\n",
        "    @return   logits (torch.Tensor): an output tensor with shape (batch_size,\n",
        "                  num_labels)\n",
        "    \"\"\"\n",
        "    # feed input to bert\n",
        "    outputs = self.bert(input_ids = input_ids, attention_mask=attention_mask) \n",
        "            \n",
        "    # extract last hidden state of the token `[CLS]` for classification task\n",
        "    last_hidden_state_cls = outputs[0][:, 0, :]\n",
        "\n",
        "    # feed input to classfiier to compute logits\n",
        "    logits = self.classifier(last_hidden_state_cls)\n",
        "\n",
        "    return logits"
      ],
      "execution_count": null,
      "outputs": []
    },
    {
      "cell_type": "code",
      "metadata": {
        "id": "fQJ6BFniPRmF"
      },
      "source": [
        "# optimizer and learning rate scheduler\n",
        "from transformers import AdamW, get_linear_schedule_with_warmup\n",
        "\n",
        "def initialize_model(epochs=4):\n",
        "  \"\"\"\n",
        "  Initialize bert classifier, the optimizer and the learning rate scheduler\n",
        "  \"\"\"\n",
        "  #instantiate bert classifier\n",
        "  bert_classifier= BertClassifier(freeze_bert=False) # freeze_Bert false to fine-tune\n",
        "\n",
        "  # tell pytorch to run model on gpu\n",
        "  bert_classifier.to(device)\n",
        "\n",
        "  # create optimizer\n",
        "  optimizer = AdamW(bert_classifier.parameters(),\n",
        "                    lr=5e-5, # default learning rate\n",
        "                    eps=1e-8 # default epsilon value\n",
        "                    )\n",
        "  # total number of training steps\n",
        "  total_steps = len(train_dataloader) * epochs\n",
        "\n",
        "  # set up learning rate scheduler\n",
        "  scheduler = get_linear_schedule_with_warmup(optimizer,\n",
        "                                              num_warmup_steps=0, #default val\n",
        "                                              num_training_steps=total_steps\n",
        "                                              )\n",
        "  \n",
        "  return bert_classifier, optimizer, scheduler\n"
      ],
      "execution_count": null,
      "outputs": []
    },
    {
      "cell_type": "markdown",
      "metadata": {
        "id": "40GOePlpZ1D5"
      },
      "source": [
        "# training loop\n",
        "We will train our Bert Classifier for 4 epochs. In each epoch, we will train our model and evaluate its performance on the validation set. In more details, we will:\n",
        "\n",
        "Training:\n",
        "\n",
        "1. Unpack our data from the dataloader and load the data onto the GPU\n",
        "2. Zero out gradients calculated in the previous pass\n",
        "3. Perform a forward pass to compute logits and loss\n",
        "4. Perform a backward pass to compute gradients (loss.backward())\n",
        "5. Clip the norm of the gradients to 1.0 to prevent \"exploding gradients\"\n",
        "6. Update the model's parameters (optimizer.step())\n",
        "7. Update the learning rate (scheduler.step())\n",
        "\n",
        "Evaluation:\n",
        "\n",
        "1. Unpack our data and load onto the GPU\n",
        "2. Forward pass\n",
        "3. Compute loss and accuracy rate over the validation set\n",
        "\n",
        "The script below is commented with the details of our training and evaluation loop."
      ]
    },
    {
      "cell_type": "code",
      "metadata": {
        "id": "Sz8wvN4rOCOx"
      },
      "source": [
        "import random\n",
        "import time\n",
        "\n",
        "# Specify loss function\n",
        "loss_fn = nn.CrossEntropyLoss()\n",
        "\n",
        "def set_seed(seed_value=42):\n",
        "    \"\"\"Set seed for reproducibility.\n",
        "    \"\"\"\n",
        "    random.seed(seed_value)\n",
        "    np.random.seed(seed_value)\n",
        "    torch.manual_seed(seed_value)\n",
        "    torch.cuda.manual_seed_all(seed_value)\n",
        "\n",
        "def train(model, train_dataloader, val_dataloader=None, epochs=4, evaluation=False):\n",
        "    \"\"\"Train the BertClassifier model.\n",
        "    \"\"\"\n",
        "    # Start training loop\n",
        "    print(\"Start training...\\n\")\n",
        "    for epoch_i in range(epochs):\n",
        "        # =======================================\n",
        "        #               Training\n",
        "        # =======================================\n",
        "        # Print the header of the result table\n",
        "        print(f\"{'Epoch':^7} | {'Batch':^7} | {'Train Loss':^12} | {'Val Loss':^10} | {'Val Acc':^9} | {'Elapsed':^9}\")\n",
        "        print(\"-\"*70)\n",
        "\n",
        "        # Measure the elapsed time of each epoch\n",
        "        t0_epoch, t0_batch = time.time(), time.time()\n",
        "\n",
        "        # Reset tracking variables at the beginning of each epoch\n",
        "        total_loss, batch_loss, batch_counts = 0, 0, 0\n",
        "\n",
        "        # Put the model into the training mode\n",
        "        model.train()\n",
        "\n",
        "        # For each batch of training data...\n",
        "        for step, batch in enumerate(train_dataloader):\n",
        "            batch_counts +=1\n",
        "            # Load batch to GPU\n",
        "            b_input_ids, b_attn_mask, b_labels = tuple(t.to(device) for t in batch)\n",
        "\n",
        "            # Zero out any previously calculated gradients\n",
        "            model.zero_grad()\n",
        "\n",
        "            # Perform a forward pass. This will return logits.\n",
        "            logits = model(b_input_ids, b_attn_mask)\n",
        "\n",
        "            # Compute loss and accumulate the loss values\n",
        "            loss = loss_fn(logits, b_labels)\n",
        "            batch_loss += loss.item()\n",
        "            total_loss += loss.item()\n",
        "\n",
        "            # Perform a backward pass to calculate gradients\n",
        "            loss.backward()\n",
        "\n",
        "            # Clip the norm of the gradients to 1.0 to prevent \"exploding gradients\"\n",
        "            torch.nn.utils.clip_grad_norm_(model.parameters(), 1.0)\n",
        "\n",
        "            # Update parameters and the learning rate\n",
        "            optimizer.step()\n",
        "            scheduler.step()\n",
        "\n",
        "            # Print the loss values and time elapsed for every 20 batches\n",
        "            if (step % 20 == 0 and step != 0) or (step == len(train_dataloader) - 1):\n",
        "                # Calculate time elapsed for 20 batches\n",
        "                time_elapsed = time.time() - t0_batch\n",
        "\n",
        "                # Print training results\n",
        "                print(f\"{epoch_i + 1:^7} | {step:^7} | {batch_loss / batch_counts:^12.6f} | {'-':^10} | {'-':^9} | {time_elapsed:^9.2f}\")\n",
        "\n",
        "                # Reset batch tracking variables\n",
        "                batch_loss, batch_counts = 0, 0\n",
        "                t0_batch = time.time()\n",
        "\n",
        "        # Calculate the average loss over the entire training data\n",
        "        avg_train_loss = total_loss / len(train_dataloader)\n",
        "\n",
        "        print(\"-\"*70)\n",
        "        # =======================================\n",
        "        #               Evaluation\n",
        "        # =======================================\n",
        "        if evaluation == True:\n",
        "            # After the completion of each training epoch, measure the model's performance\n",
        "            # on our validation set.\n",
        "            val_loss, val_accuracy = evaluate(model, val_dataloader)\n",
        "\n",
        "            # Print performance over the entire training data\n",
        "            time_elapsed = time.time() - t0_epoch\n",
        "            \n",
        "            print(f\"{epoch_i + 1:^7} | {'-':^7} | {avg_train_loss:^12.6f} | {val_loss:^10.6f} | {val_accuracy:^9.2f} | {time_elapsed:^9.2f}\")\n",
        "            print(\"-\"*70)\n",
        "        print(\"\\n\")\n",
        "    \n",
        "    print(\"Training complete!\")\n",
        "\n",
        "\n",
        "def evaluate(model, val_dataloader):\n",
        "    \"\"\"After the completion of each training epoch, measure the model's performance\n",
        "    on our validation set.\n",
        "    \"\"\"\n",
        "    # Put the model into the evaluation mode. The dropout layers are disabled during\n",
        "    # the test time.\n",
        "    model.eval()\n",
        "\n",
        "    # Tracking variables\n",
        "    val_accuracy = []\n",
        "    val_loss = []\n",
        "\n",
        "    # For each batch in our validation set...\n",
        "    for batch in val_dataloader:\n",
        "        # Load batch to GPU\n",
        "        b_input_ids, b_attn_mask, b_labels = tuple(t.to(device) for t in batch)\n",
        "\n",
        "        # Compute logits\n",
        "        with torch.no_grad():\n",
        "            logits = model(b_input_ids, b_attn_mask)\n",
        "\n",
        "        # Compute loss\n",
        "        loss = loss_fn(logits, b_labels)\n",
        "        val_loss.append(loss.item())\n",
        "\n",
        "        # Get the predictions\n",
        "        preds = torch.argmax(logits, dim=1).flatten()\n",
        "\n",
        "        # Calculate the accuracy rate\n",
        "        accuracy = (preds == b_labels).cpu().numpy().mean() * 100\n",
        "        val_accuracy.append(accuracy)\n",
        "\n",
        "    # Compute the average accuracy and loss over the validation set.\n",
        "    val_loss = np.mean(val_loss)\n",
        "    val_accuracy = np.mean(val_accuracy)\n",
        "\n",
        "    return val_loss, val_accuracy"
      ],
      "execution_count": null,
      "outputs": []
    },
    {
      "cell_type": "markdown",
      "metadata": {
        "id": "ZguUx-pSV_x9"
      },
      "source": [
        ""
      ]
    },
    {
      "cell_type": "code",
      "metadata": {
        "colab": {
          "base_uri": "https://localhost:8080/"
        },
        "id": "p5LZXq-vWADr",
        "outputId": "cef1f663-480b-4be2-e1de-e2977ef63381"
      },
      "source": [
        "import torch\n",
        "\n",
        "if torch.cuda.is_available():       \n",
        "    device = torch.device(\"cuda\")\n",
        "    print(f'There are {torch.cuda.device_count()} GPU(s) available.')\n",
        "    print('Device name:', torch.cuda.get_device_name(0))\n",
        "\n",
        "else:\n",
        "    print('No GPU available, using the CPU instead.')\n",
        "    device = torch.device(\"cpu\")"
      ],
      "execution_count": null,
      "outputs": [
        {
          "output_type": "stream",
          "text": [
            "There are 1 GPU(s) available.\n",
            "Device name: Tesla T4\n"
          ],
          "name": "stdout"
        }
      ]
    },
    {
      "cell_type": "code",
      "metadata": {
        "colab": {
          "base_uri": "https://localhost:8080/"
        },
        "id": "hkdrw3uHVyo7",
        "outputId": "4690c54a-5248-495c-96ff-0f6293f1a23a"
      },
      "source": [
        "set_seed(42)    # Set seed for reproducibility\n",
        "bert_classifier, optimizer, scheduler = initialize_model(epochs=5)\n",
        "train(bert_classifier, train_dataloader, val_dataloader, epochs=5, evaluation=False)"
      ],
      "execution_count": null,
      "outputs": [
        {
          "output_type": "stream",
          "text": [
            "Start training...\n",
            "\n",
            " Epoch  |  Batch  |  Train Loss  |  Val Loss  |  Val Acc  |  Elapsed \n",
            "----------------------------------------------------------------------\n",
            "   1    |   20    |   0.577292   |     -      |     -     |   7.55   \n",
            "   1    |   40    |   0.373696   |     -      |     -     |   7.24   \n",
            "   1    |   60    |   0.307328   |     -      |     -     |   7.31   \n",
            "   1    |   80    |   0.312717   |     -      |     -     |   7.32   \n",
            "   1    |   100   |   0.322276   |     -      |     -     |   7.39   \n",
            "   1    |   117   |   0.318979   |     -      |     -     |   6.08   \n",
            "----------------------------------------------------------------------\n",
            "\n",
            "\n",
            " Epoch  |  Batch  |  Train Loss  |  Val Loss  |  Val Acc  |  Elapsed \n",
            "----------------------------------------------------------------------\n",
            "   2    |   20    |   0.117090   |     -      |     -     |   7.85   \n",
            "   2    |   40    |   0.165612   |     -      |     -     |   7.50   \n",
            "   2    |   60    |   0.156446   |     -      |     -     |   7.53   \n",
            "   2    |   80    |   0.158215   |     -      |     -     |   7.60   \n",
            "   2    |   100   |   0.100602   |     -      |     -     |   7.62   \n",
            "   2    |   117   |   0.108024   |     -      |     -     |   6.25   \n",
            "----------------------------------------------------------------------\n",
            "\n",
            "\n",
            " Epoch  |  Batch  |  Train Loss  |  Val Loss  |  Val Acc  |  Elapsed \n",
            "----------------------------------------------------------------------\n",
            "   3    |   20    |   0.070523   |     -      |     -     |   8.05   \n",
            "   3    |   40    |   0.046052   |     -      |     -     |   7.70   \n",
            "   3    |   60    |   0.058151   |     -      |     -     |   7.75   \n",
            "   3    |   80    |   0.079899   |     -      |     -     |   7.77   \n",
            "   3    |   100   |   0.059850   |     -      |     -     |   7.78   \n",
            "   3    |   117   |   0.045107   |     -      |     -     |   6.36   \n",
            "----------------------------------------------------------------------\n",
            "\n",
            "\n",
            " Epoch  |  Batch  |  Train Loss  |  Val Loss  |  Val Acc  |  Elapsed \n",
            "----------------------------------------------------------------------\n",
            "   4    |   20    |   0.027707   |     -      |     -     |   8.20   \n",
            "   4    |   40    |   0.029082   |     -      |     -     |   7.83   \n",
            "   4    |   60    |   0.032471   |     -      |     -     |   7.86   \n",
            "   4    |   80    |   0.019547   |     -      |     -     |   7.84   \n",
            "   4    |   100   |   0.008823   |     -      |     -     |   7.79   \n",
            "   4    |   117   |   0.009030   |     -      |     -     |   6.34   \n",
            "----------------------------------------------------------------------\n",
            "\n",
            "\n",
            " Epoch  |  Batch  |  Train Loss  |  Val Loss  |  Val Acc  |  Elapsed \n",
            "----------------------------------------------------------------------\n",
            "   5    |   20    |   0.005077   |     -      |     -     |   8.15   \n",
            "   5    |   40    |   0.015924   |     -      |     -     |   7.76   \n",
            "   5    |   60    |   0.026345   |     -      |     -     |   7.73   \n",
            "   5    |   80    |   0.006936   |     -      |     -     |   7.76   \n",
            "   5    |   100   |   0.020019   |     -      |     -     |   7.75   \n",
            "   5    |   117   |   0.019651   |     -      |     -     |   6.31   \n",
            "----------------------------------------------------------------------\n",
            "\n",
            "\n",
            "Training complete!\n"
          ],
          "name": "stdout"
        }
      ]
    },
    {
      "cell_type": "markdown",
      "metadata": {
        "id": "8_giGBuZYnqv"
      },
      "source": [
        "# Evaluation on test Set\n",
        "\n",
        "import torch.nn.functional as F\n",
        "\n",
        "def bert_predict(model, test_dataloader):\n",
        "    \"\"\"Perform a forward pass on the trained BERT model to predict probabilities\n",
        "    on the test set.\n",
        "    \"\"\"\n",
        "    # Put the model into the evaluation mode. The dropout layers are disabled during\n",
        "    # the test time.\n",
        "    model.eval()\n",
        "\n",
        "    all_logits = []\n",
        "\n",
        "    # For each batch in our test set...\n",
        "    for batch in test_dataloader:\n",
        "        # Load batch to GPU\n",
        "        b_input_ids, b_attn_mask = tuple(t.to(device) for t in batch)[:2]\n",
        "\n",
        "        # Compute logits\n",
        "        with torch.no_grad():\n",
        "            logits = model(b_input_ids, b_attn_mask)\n",
        "        all_logits.append(logits)\n",
        "    \n",
        "    # Concatenate logits from each batch\n",
        "    all_logits = torch.cat(all_logits, dim=0)\n",
        "\n",
        "    # Apply softmax to calculate probabilities\n",
        "    probs = F.softmax(all_logits, dim=1).cpu().numpy()\n",
        "\n",
        "    return probs"
      ]
    },
    {
      "cell_type": "code",
      "metadata": {
        "id": "Bpk4NRjfY4rF"
      },
      "source": [
        "from sklearn.metrics import accuracy_score, roc_curve, auc\n",
        "import matplotlib.pyplot as plt\n",
        "\n",
        "def evaluate_roc(probs, y_true):\n",
        "    \"\"\"\n",
        "    - Print AUC and accuracy on the test set\n",
        "    - Plot ROC\n",
        "    @params    probs (np.array): an array of predicted probabilities with shape (len(y_true), 2)\n",
        "    @params    y_true (np.array): an array of the true values with shape (len(y_true),)\n",
        "    \"\"\"\n",
        "    preds = probs[:, 1]\n",
        "    fpr, tpr, threshold = roc_curve(y_true, preds)\n",
        "    roc_auc = auc(fpr, tpr)\n",
        "    print(f'AUC: {roc_auc:.4f}')\n",
        "       \n",
        "    # Get accuracy over the test set\n",
        "    y_pred = np.where(preds >= 0.5, 1, 0)\n",
        "    accuracy = accuracy_score(y_true, y_pred)\n",
        "    print(f'Accuracy: {accuracy*100:.2f}%')\n",
        "    \n",
        "    # Plot ROC AUC\n",
        "    plt.title('Receiver Operating Characteristic')\n",
        "    plt.plot(fpr, tpr, 'b', label = 'AUC = %0.2f' % roc_auc)\n",
        "    plt.legend(loc = 'lower right')\n",
        "    plt.plot([0, 1], [0, 1],'r--')\n",
        "    plt.xlim([0, 1])\n",
        "    plt.ylim([0, 1])\n",
        "    plt.ylabel('True Positive Rate')\n",
        "    plt.xlabel('False Positive Rate')\n",
        "    plt.show()"
      ],
      "execution_count": null,
      "outputs": []
    },
    {
      "cell_type": "code",
      "metadata": {
        "colab": {
          "base_uri": "https://localhost:8080/",
          "height": 330
        },
        "id": "rhtuz3GNYntN",
        "outputId": "2f4bdf57-0dd4-46a2-afed-bdb224dd1057"
      },
      "source": [
        "# Compute predicted probabilities on the test set\n",
        "probs = bert_predict(bert_classifier, val_dataloader)\n",
        "\n",
        "# Evaluate the Bert classifier\n",
        "evaluate_roc(probs, test_labels)"
      ],
      "execution_count": null,
      "outputs": [
        {
          "output_type": "stream",
          "text": [
            "AUC: 0.9561\n",
            "Accuracy: 89.28%\n"
          ],
          "name": "stdout"
        },
        {
          "output_type": "display_data",
          "data": {
            "image/png": "[encoded data removed]",
            "text/plain": [
              "<Figure size 432x288 with 1 Axes>"
            ]
          },
          "metadata": {
            "tags": [],
            "needs_background": "light"
          }
        }
      ]
    },
    {
      "cell_type": "code",
      "metadata": {
        "id": "8Tt_mT6AV0vC"
      },
      "source": [
        ""
      ],
      "execution_count": null,
      "outputs": []
    }
  ]
}